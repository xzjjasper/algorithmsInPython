{
 "cells": [
  {
   "metadata": {},
   "cell_type": "markdown",
   "source": [
    "# 代码随想录算法训练营第一天｜704：二分查找 27：移除元素\n",
    "\n"
   ],
   "id": "e2631711a32937ca"
  },
  {
   "metadata": {},
   "cell_type": "markdown",
   "source": [
    "## 数组理论基础  \n",
    "\n",
    "文章链接：https://programmercarl.com/%E6%95%B0%E7%BB%84%E7%90%86%E8%AE%BA%E5%9F%BA%E7%A1%80.html\n",
    "\n",
    "题目建议： 了解一下数组基础，以及数组的内存空间地址，数组也没那么简单。"
   ],
   "id": "aaeac67f1f6b3d16"
  },
  {
   "metadata": {},
   "cell_type": "markdown",
   "source": [
    "\n",
    "## 704. 二分查找 \n",
    "\n",
    "熟悉 根据 左闭右开，左闭右闭 两种区间规则 写出来的二分法。\n",
    "\n",
    "题目链接: https://leetcode.com/problems/binary-search/description/  \n",
    "文章讲解：https://programmercarl.com/0704.%E4%BA%8C%E5%88%86%E6%9F%A5%E6%89%BE.html  \n",
    "视频讲解：https://www.bilibili.com/video/BV1fA4y1o715\n"
   ],
   "id": "ef81db497c45782"
  },
  {
   "metadata": {},
   "cell_type": "markdown",
   "source": [
    "binarySearch (self, nums: List[int], target: int) -> int:\n",
    "### 左闭右闭 [left,right]\n",
    "left == right 有意义，故循环条件应保留： while(left <= right)  \n",
    "middle 应剔除: `left = middle + 1; right = middle - 1`\n",
    "### 左闭右开 [left,right)\n",
    "left == right 无意义，故循环条件去除： while(left < right)  \n",
    "middle 归于左边: `right = middle; left = middle + 1`"
   ],
   "id": "aa198a4011a2383e"
  },
  {
   "metadata": {},
   "cell_type": "markdown",
   "source": [
    "### middle 取值：  \n",
    "Java：  \n",
    "```java\n",
    "    int mid = left + ((right - left) >> 1);\n",
    "    // >> right shift operator works on binary numbers, same as integer division on integers （/2）\n",
    "```  "
   ],
   "id": "2cbff8c7f5ec604a"
  },
  {
   "metadata": {},
   "cell_type": "markdown",
   "source": [
    "### 优化\n",
    "```java\n",
    "    // 避免当 target 小于nums[0] nums[nums.length - 1]时多次循环运算  \n",
    "    if (target < nums[0] || target > nums[nums.length - 1]) {\n",
    "        return -1;\n",
    "    }\n",
    "```"
   ],
   "id": "3450e396784700f9"
  },
  {
   "metadata": {
    "ExecuteTime": {
     "end_time": "2024-07-03T20:56:24.052394Z",
     "start_time": "2024-07-03T20:56:24.047703Z"
    }
   },
   "cell_type": "code",
   "source": [
    "from typing import List\n",
    "class Solution:\n",
    "    def search(self, nums: List[int], target: int) -> int:\n",
    "        left, right = 0, len(nums) - 1  # 定义target在左闭右闭的区间里，[left, right]\n",
    "\n",
    "        while left <= right:\n",
    "            middle = left + (right - left) // 2\n",
    "            \n",
    "            if nums[middle] > target:\n",
    "                right = middle - 1  # target在左区间，所以[left, middle - 1]\n",
    "            elif nums[middle] < target:\n",
    "                left = middle + 1  # target在右区间，所以[middle + 1, right]\n",
    "            else:\n",
    "                return middle  # 数组中找到目标值，直接返回下标\n",
    "        return -1  # 未找到目标值"
   ],
   "id": "9ae89e1c61a826a",
   "outputs": [],
   "execution_count": 1
  },
  {
   "metadata": {},
   "cell_type": "code",
   "outputs": [],
   "execution_count": 3,
   "source": [
    "class Solution:\n",
    "    def search(self, nums: List[int], target: int) -> int:\n",
    "        left, right = 0, len(nums)  # 定义target在左闭右开的区间里，即：[left, right)\n",
    "\n",
    "        while left < right:  # 因为left == right的时候，在[left, right)是无效的空间，所以使用 <\n",
    "            middle = left + (right - left) // 2\n",
    "\n",
    "            if nums[middle] > target:\n",
    "                right = middle  # target 在左区间，在[left, middle)中\n",
    "            elif nums[middle] < target:\n",
    "                left = middle + 1  # target 在右区间，在[middle + 1, right)中\n",
    "            else:\n",
    "                return middle  # 数组中找到目标值，直接返回下标\n",
    "        return -1  # 未找到目标值"
   ],
   "id": "c963822e7d5049ad"
  },
  {
   "metadata": {},
   "cell_type": "markdown",
   "source": [
    "## 35.搜索插入位置\n",
    "https://leetcode.com/problems/search-insert-position/description/\n",
    "相同思路，没找到时：\n",
    "```\n",
    "right == left + 1;\n",
    "middle == left;\n",
    "target > left --> left = middle + 1 //where the target should insert\n",
    "return left\n",
    "```"
   ],
   "id": "392f4df385720c00"
  },
  {
   "metadata": {},
   "cell_type": "markdown",
   "source": "## 34. 在排序数组中查找元素的第一个和最后一个位置",
   "id": "a152db967d5f849e"
  },
  {
   "metadata": {},
   "cell_type": "markdown",
   "source": [
    "## 27. 移除元素\n",
    "\n",
    "建议先把暴力写法写一遍；双指针法 是本题的精髓\n",
    "\n",
    "题目链接：https://leetcode.com/problems/remove-element/  \n",
    "文章讲解：https://programmercarl.com/0027.%E7%A7%BB%E9%99%A4%E5%85%83%E7%B4%A0.html  \n",
    "视频讲解：https://www.bilibili.com/video/BV12A4y1Z7LP \n"
   ],
   "id": "56d0923a428741f2"
  },
  {
   "metadata": {},
   "cell_type": "markdown",
   "source": [
    "只可覆盖，无法清除\n",
    "## 暴力解法\n",
    "双循环 --> O(n^2)\n",
    "1. 遍历全部元素\n",
    "2. 发现目标则执行remove()"
   ],
   "id": "2d82153c0c4ce5c2"
  },
  {
   "metadata": {
    "jupyter": {
     "is_executing": true
    }
   },
   "cell_type": "code",
   "source": [
    "class Solution:\n",
    "    def removeElement(self, nums: List[int], val: int) -> int:\n",
    "        i, l = 0, len(nums)\n",
    "        while i < l:\n",
    "            if nums[i] == val: # 找到等于目标值的节点\n",
    "                for j in range(i+1, l): # 移除该元素，并将后面元素向前平移\n",
    "                    nums[j - 1] = nums[j]\n",
    "                l -= 1\n",
    "                i -= 1\n",
    "            i += 1\n",
    "        return l"
   ],
   "id": "fb1ba4c858366537",
   "outputs": [],
   "execution_count": null
  },
  {
   "metadata": {},
   "cell_type": "markdown",
   "source": [
    "## 快慢指针\n",
    ">快指针：寻找新数组的元素 ，新数组就是不含有目标元素的数组  \n",
    ">慢指针：指向更新 新数组下标的位置\n",
    "> \n",
    "如果快指针不等于目标：慢指针前进，覆写慢指针；否则无事发生"
   ],
   "id": "a086282d7158c227"
  },
  {
   "metadata": {},
   "cell_type": "code",
   "outputs": [],
   "execution_count": null,
   "source": [
    "class Solution:\n",
    "    def removeElement(self, nums: List[int], val: int) -> int:\n",
    "        curr, prev = 0, 0\n",
    "        while (curr < len(nums)):\n",
    "            if (nums[curr] != val):\n",
    "                nums[prev] = nums[curr]\n",
    "                prev += 1\n",
    "            curr += 1\n",
    "        return prev"
   ],
   "id": "aa9404c4af250d8b"
  }
 ],
 "metadata": {
  "kernelspec": {
   "display_name": "Python 3",
   "language": "python",
   "name": "python3"
  },
  "language_info": {
   "codemirror_mode": {
    "name": "ipython",
    "version": 2
   },
   "file_extension": ".py",
   "mimetype": "text/x-python",
   "name": "python",
   "nbconvert_exporter": "python",
   "pygments_lexer": "ipython2",
   "version": "2.7.6"
  }
 },
 "nbformat": 4,
 "nbformat_minor": 5
}
