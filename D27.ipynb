{
 "cells": [
  {
   "metadata": {},
   "cell_type": "markdown",
   "source": [
    "贪心算法其实就是没有什么规律可言，所以大家了解贪心算法 就了解它没有规律的本质就够了。 \n",
    "\n",
    "不用花心思去研究其规律， 没有思路就立刻看题解。\n",
    "\n",
    "基本贪心的题目 有两个极端，要不就是特简单，要不就是死活想不出来。  \n",
    "\n",
    "学完贪心之后再去看动态规划，就会了解贪心和动规的区别。\n",
    "\n"
   ],
   "id": "68fd5c9a2098816e"
  },
  {
   "metadata": {},
   "cell_type": "markdown",
   "source": [
    "## 理论基础 \n",
    "\n",
    "https://programmercarl.com/%E8%B4%AA%E5%BF%83%E7%AE%97%E6%B3%95%E7%90%86%E8%AE%BA%E5%9F%BA%E7%A1%80.html  \n"
   ],
   "id": "7589eb3bd5726ec3"
  },
  {
   "metadata": {},
   "cell_type": "markdown",
   "source": [
    "## 455.分发饼干  \n",
    "\n",
    "https://programmercarl.com/0455.%E5%88%86%E5%8F%91%E9%A5%BC%E5%B9%B2.html  \n"
   ],
   "id": "c6b107c2831fecbc"
  },
  {
   "metadata": {},
   "cell_type": "markdown",
   "source": [
    "## 376. 摆动序列  \n",
    "\n",
    "https://programmercarl.com/0376.%E6%91%86%E5%8A%A8%E5%BA%8F%E5%88%97.html  \n"
   ],
   "id": "30993179b8930a86"
  },
  {
   "metadata": {},
   "cell_type": "markdown",
   "source": [
    "## 53. 最大子序和  \n",
    "\n",
    "https://programmercarl.com/0053.%E6%9C%80%E5%A4%A7%E5%AD%90%E5%BA%8F%E5%92%8C.html  \n",
    "\n",
    "\n"
   ],
   "id": "3d66352a1f2756b7"
  },
  {
   "cell_type": "code",
   "execution_count": null,
   "id": "initial_id",
   "metadata": {
    "collapsed": true
   },
   "outputs": [],
   "source": [
    ""
   ]
  }
 ],
 "metadata": {
  "kernelspec": {
   "display_name": "Python 3",
   "language": "python",
   "name": "python3"
  },
  "language_info": {
   "codemirror_mode": {
    "name": "ipython",
    "version": 2
   },
   "file_extension": ".py",
   "mimetype": "text/x-python",
   "name": "python",
   "nbconvert_exporter": "python",
   "pygments_lexer": "ipython2",
   "version": "2.7.6"
  }
 },
 "nbformat": 4,
 "nbformat_minor": 5
}
