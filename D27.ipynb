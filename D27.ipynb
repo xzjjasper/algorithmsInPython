{
 "cells": [
  {
   "metadata": {},
   "cell_type": "markdown",
   "source": [
    "贪心算法其实就是没有什么规律可言，所以大家了解贪心算法 就了解它没有规律的本质就够了。 \n",
    "\n",
    "不用花心思去研究其规律， 没有思路就立刻看题解。\n",
    "\n",
    "基本贪心的题目 有两个极端，要不就是特简单，要不就是死活想不出来。  \n",
    "\n",
    "学完贪心之后再去看动态规划，就会了解贪心和动规的区别。\n",
    "\n"
   ],
   "id": "68fd5c9a2098816e"
  },
  {
   "metadata": {},
   "cell_type": "markdown",
   "source": [
    "## 理论基础 \n",
    "\n",
    "https://programmercarl.com/%E8%B4%AA%E5%BF%83%E7%AE%97%E6%B3%95%E7%90%86%E8%AE%BA%E5%9F%BA%E7%A1%80.html  \n"
   ],
   "id": "7589eb3bd5726ec3"
  },
  {
   "metadata": {},
   "cell_type": "markdown",
   "source": [
    "- 将问题分解为若干个子问题\n",
    "- 找出适合的贪心策略\n",
    "- 求解每一个子问题的最优解\n",
    "- 将局部最优解堆叠成全局最优解"
   ],
   "id": "ececb6e5fc12d7aa"
  },
  {
   "metadata": {},
   "cell_type": "markdown",
   "source": [
    "## 455.分发饼干  \n",
    "\n",
    "https://programmercarl.com/0455.%E5%88%86%E5%8F%91%E9%A5%BC%E5%B9%B2.html  \n"
   ],
   "id": "c6b107c2831fecbc"
  },
  {
   "metadata": {},
   "cell_type": "markdown",
   "source": "大饼干优先：将饼干数组和孩子数组排序，从最大的饼干开始满足孩子，如果饼干不满足孩子，就继续往下找孩子。",
   "id": "4397e4f5728d914f"
  },
  {
   "metadata": {},
   "cell_type": "code",
   "outputs": [],
   "execution_count": null,
   "source": [
    "class Solution:\n",
    "    def findContentChildren(self, g, s):\n",
    "        g.sort()  # 将孩子的贪心因子排序\n",
    "        s.sort()  # 将饼干的尺寸排序\n",
    "        index = len(s) - 1  # 饼干数组的下标，从最后一个饼干开始\n",
    "        result = 0  # 满足孩子的数量\n",
    "        for i in range(len(g)-1, -1, -1):  # 遍历胃口，从最后一个孩子开始\n",
    "            if index >= 0 and s[index] >= g[i]:  # 遍历饼干\n",
    "                result += 1\n",
    "                index -= 1\n",
    "        return result"
   ],
   "id": "28945259cd207336"
  },
  {
   "metadata": {},
   "cell_type": "markdown",
   "source": [
    "另一种思路：  \n",
    "喂饱的孩子数量：`[0, n = min(len(s), len(g))]`，所以只取s中的最大n项和g中的最小n项，按顺序比较。"
   ],
   "id": "c8be9135971d785d"
  },
  {
   "metadata": {},
   "cell_type": "code",
   "outputs": [],
   "execution_count": null,
   "source": [
    "class Solution:\n",
    "    def findContentChildren(self, g: List[int], s: List[int]) -> int:\n",
    "        if not s:\n",
    "            return 0\n",
    "        g.sort(reverse = True)\n",
    "        s.sort(reverse = True)\n",
    "        index = max(0, len(g) - len(s))\n",
    "        count = i = 0\n",
    "        while i < len(s) and index < len(g):\n",
    "            while index < len(g) and s[i] < g[index]:\n",
    "                index += 1\n",
    "            if index == len(g):\n",
    "                break\n",
    "            i += 1\n",
    "            count += 1\n",
    "            index += 1\n",
    "        return count"
   ],
   "id": "d53558508e19b43b"
  },
  {
   "metadata": {},
   "cell_type": "markdown",
   "source": [
    "## 376. 摆动序列  \n",
    "\n",
    "https://programmercarl.com/0376.%E6%91%86%E5%8A%A8%E5%BA%8F%E5%88%97.html  \n"
   ],
   "id": "30993179b8930a86"
  },
  {
   "metadata": {},
   "cell_type": "markdown",
   "source": [
    "局部最优：删除单调坡度上的节点（不包括单调坡度两端的节点），那么这个坡度就可以有两个局部峰值。  \n",
    "整体最优：整个序列有最多的局部峰值，从而达到最长摆动序列。"
   ],
   "id": "c874f68d1f0c9d"
  },
  {
   "metadata": {},
   "cell_type": "code",
   "outputs": [],
   "execution_count": null,
   "source": [
    "class Solution:\n",
    "    def wiggleMaxLength(self, nums):\n",
    "        if len(nums) <= 1:\n",
    "            return len(nums)  # 如果数组长度为0或1，则返回数组长度\n",
    "        curDiff = 0  # 当前一对元素的差值\n",
    "        preDiff = 0  # 前一对元素的差值\n",
    "        result = 1  # 记录峰值的个数，初始为1（默认最右边的元素被视为峰值）\n",
    "        for i in range(len(nums) - 1):\n",
    "            curDiff = nums[i + 1] - nums[i]  # 计算下一个元素与当前元素的差值\n",
    "            # 如果遇到一个峰值\n",
    "            if (preDiff <= 0 and curDiff > 0) or (preDiff >= 0 and curDiff < 0):\n",
    "                result += 1  # 峰值个数加1\n",
    "                preDiff = curDiff  # 注意这里，只在摆动变化的时候更新preDiff\n",
    "        return result  # 返回最长摆动子序列的长度"
   ],
   "id": "86d71454b0277e30"
  },
  {
   "metadata": {},
   "cell_type": "markdown",
   "source": "### 动态规划\n",
   "id": "9e2d617321fe2b57"
  },
  {
   "metadata": {},
   "cell_type": "code",
   "outputs": [],
   "execution_count": null,
   "source": [
    "class Solution:\n",
    "    def wiggleMaxLength(self, nums: List[int]) -> int:\n",
    "        # 0 i 作为波峰的最大长度\n",
    "        # 1 i 作为波谷的最大长度\n",
    "        # dp是一个列表，列表中每个元素是长度为 2 的列表\n",
    "        dp = []\n",
    "        for i in range(len(nums)):\n",
    "            # 初始为[1, 1]\n",
    "            dp.append([1, 1])\n",
    "            for j in range(i):\n",
    "                # nums[i] 为波谷\n",
    "                if nums[j] > nums[i]:\n",
    "                    dp[i][1] = max(dp[i][1], dp[j][0] + 1)\n",
    "                # nums[i] 为波峰\n",
    "                if nums[j] < nums[i]:\n",
    "                    dp[i][0] = max(dp[i][0], dp[j][1] + 1)\n",
    "        return max(dp[-1][0], dp[-1][1])"
   ],
   "id": "1f80d3fda950c767"
  },
  {
   "metadata": {},
   "cell_type": "markdown",
   "source": [
    "## 53. 最大子序和  \n",
    "\n",
    "https://programmercarl.com/0053.%E6%9C%80%E5%A4%A7%E5%AD%90%E5%BA%8F%E5%92%8C.html  \n",
    "\n",
    "\n"
   ],
   "id": "3d66352a1f2756b7"
  },
  {
   "metadata": {},
   "cell_type": "markdown",
   "source": [
    "局部最优：当前“连续和”为负数的时候立刻放弃，从下一个元素重新计算“连续和”，因为负数加上下一个元素 “连续和”只会越来越小。\n",
    "\n",
    "全局最优：选取最大“连续和”"
   ],
   "id": "3c2372513b409bda"
  },
  {
   "cell_type": "code",
   "execution_count": null,
   "id": "initial_id",
   "metadata": {
    "collapsed": true
   },
   "outputs": [],
   "source": [
    "class Solution:\n",
    "    def maxSubArray(self, nums: List[int]) -> int:\n",
    "        subsum = 0\n",
    "        maxsum = float('-inf')\n",
    "        for i in range(0, len(nums)):\n",
    "            if subsum < 0:\n",
    "                subsum = nums[i]\n",
    "            else:\n",
    "                subsum += nums[i]\n",
    "            if subsum > maxsum:\n",
    "                maxsum = subsum\n",
    "        return maxsum\n"
   ]
  },
  {
   "metadata": {},
   "cell_type": "markdown",
   "source": [
    "### Divide and Conquer: \n",
    "回头看"
   ],
   "id": "cae564bd923587f4"
  },
  {
   "metadata": {},
   "cell_type": "code",
   "outputs": [],
   "execution_count": null,
   "source": [
    "class Solution:\n",
    "    def maxSubArray(self, nums: List[int]) -> int:\n",
    "\t\t\n",
    "\t\t#divide and conquer recursive function\n",
    "        def daq(left,right) -> int:\n",
    "            if left == right:\n",
    "                return nums[left]\n",
    "            #divide\n",
    "            middle = (left + right) // 2\n",
    "            leftMax = daq(left,middle)\n",
    "            rightMax = daq(middle+1,right)\n",
    "            crossMax = crossmax(left,right,middle)\n",
    "\t\t\t#conquer\n",
    "            return max(leftMax,rightMax,crossMax)\n",
    "\t\t\n",
    "\t\t#gets the max sum that includes both the left and right half (note that leftmax or rightmax can be bigger)\n",
    "        def crossmax(left,right,middle) -> int:\n",
    "            #start from middle and calculate cumulative sum leftwards to find maxleftsum and same for right.\n",
    "\n",
    "            #find max cumulative from middle to left\n",
    "            leftSum = 0\n",
    "            leftSuffixMax = float(\"-inf\")\n",
    "            for pointer in range(middle,left-1,-1):\n",
    "                leftSum += nums[pointer]\n",
    "                leftSuffixMax = max(leftSuffixMax,leftSum)\n",
    "\n",
    "            #find max cumulative from middle+1 to right\n",
    "            rightsum = 0\n",
    "            rightPrefixMax = float(\"-inf\")\n",
    "            for pointer in range(middle+1,right+1):\n",
    "                rightsum += nums[pointer]\n",
    "                rightPrefixMax = max(rightPrefixMax,rightsum)\n",
    "            #note that rightPrefixMax may still be -inf if there's no right elements, or negative int if there are negative right elements\n",
    "            #we need at least one element on the right anyways in order to consider it a crossSum (requires at least one element in both left and right)\n",
    "            \n",
    "            return leftSuffixMax + rightPrefixMax\n",
    "                \n",
    "        return daq(0,len(nums)-1)"
   ],
   "id": "7feba0db92543b53"
  }
 ],
 "metadata": {
  "kernelspec": {
   "display_name": "Python 3",
   "language": "python",
   "name": "python3"
  },
  "language_info": {
   "codemirror_mode": {
    "name": "ipython",
    "version": 2
   },
   "file_extension": ".py",
   "mimetype": "text/x-python",
   "name": "python",
   "nbconvert_exporter": "python",
   "pygments_lexer": "ipython2",
   "version": "2.7.6"
  }
 },
 "nbformat": 4,
 "nbformat_minor": 5
}
