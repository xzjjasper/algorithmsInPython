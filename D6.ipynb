{
 "cells": [
  {
   "metadata": {},
   "cell_type": "markdown",
   "source": "# 代码随想录算法训练营第六天｜454.四数相加II 383. 赎金信 15. 三数之和 18. 四数之和 总结  \n",
   "id": "5df780db543e682b"
  },
  {
   "metadata": {},
   "cell_type": "markdown",
   "source": [
    "## 454.四数相加II \n",
    "\n",
    "建议：本题是 使用map 巧妙解决的问题，好好体会一下 哈希法 如何提高程序执行效率，降低时间复杂度，当然使用哈希法 会提高空间复杂度，但一般来说我们都是舍空间 换时间， 工业开发也是这样。\n",
    "\n",
    "题目链接：https://leetcode.com/problems/4sum-ii/description/  \n",
    "文章讲解/视频讲解：https://programmercarl.com/0454.%E5%9B%9B%E6%95%B0%E7%9B%B8%E5%8A%A0II.html  \n",
    "\n"
   ],
   "id": "41a64b64ce76863f"
  },
  {
   "metadata": {},
   "cell_type": "markdown",
   "source": [
    "1. 首先定义 一个unordered_map，key放a和b两数之和，value 放a和b两数之和出现的次数。\n",
    "2. 遍历大A和大B数组，统计两个数组元素之和，和出现的次数，放到map中。\n",
    "3. 定义int变量count，用来统计 a+b+c+d = 0 出现的次数。\n",
    "4. 再遍历大C和大D数组，找到如果 0-(c+d) 在map中出现过的话，就用count把map中key对应的value也就是出现次数统计出来。\n",
    "5. 最后返回统计值 count 就可以了"
   ],
   "id": "2dbad7a04b3bbea2"
  },
  {
   "metadata": {},
   "cell_type": "markdown",
   "source": [
    "与两数之和的区别：\n",
    "1. 两数之和是返回的是下标，而四数之和是返回的是次数，所以map储存的value不同\n",
    "2. 两数之和是遍历一遍数组，四数之和是遍历两遍数组`O(n^2)`"
   ],
   "id": "7c0fff79790afbaf"
  },
  {
   "metadata": {},
   "cell_type": "code",
   "outputs": [],
   "execution_count": null,
   "source": [
    "class Solution(object):\n",
    "    def fourSumCount(self, nums1, nums2, nums3, nums4):\n",
    "        # 使用字典存储nums1和nums2中的元素及其和\n",
    "        hashmap = dict()\n",
    "        for n1 in nums1:\n",
    "            for n2 in nums2:\n",
    "                hashmap[n1+n2] = hashmap.get(n1+n2, 0) + 1\n",
    "        \n",
    "        # 如果 -(n1+n2) 存在于nums3和nums4, 存入结果\n",
    "        count = 0\n",
    "        for n3 in nums3:\n",
    "            for n4 in nums4:\n",
    "                key = - n3 - n4\n",
    "                if key in hashmap:\n",
    "                    count += hashmap[key]\n",
    "        return count"
   ],
   "id": "4a520a0c89e8934a"
  },
  {
   "metadata": {},
   "cell_type": "markdown",
   "source": [
    "## 383. 赎金信  \n",
    "\n",
    "建议：本题 和 242.有效的字母异位词 是一个思路 ，算是拓展题 \n",
    "\n",
    "题目链接/文章讲解：https://programmercarl.com/0383.%E8%B5%8E%E9%87%91%E4%BF%A1.html \n",
    "\n"
   ],
   "id": "5b23e82fae2d1bbd"
  },
  {
   "metadata": {},
   "cell_type": "code",
   "outputs": [],
   "execution_count": null,
   "source": [
    "class Solution:\n",
    "    def canConstruct(self, ransomNote: str, magazine: str) -> bool:\n",
    "        hashTable = [0] * 26\n",
    "        for a in magazine:\n",
    "            hashTable[ord(a) - ord('a')] += 1\n",
    "        for b in ransomNote:\n",
    "            order = ord(b) - ord('a')\n",
    "            if hashTable[order]: \n",
    "                hashTable[order] -= 1\n",
    "            else: # magazine中没有该字符\n",
    "                return False\n",
    "        return True"
   ],
   "id": "ecbd5d6d3d802a6"
  },
  {
   "metadata": {},
   "cell_type": "markdown",
   "source": [
    "## 15. 三数之和 \n",
    "\n",
    "建议：本题虽然和 两数之和 很像，也能用哈希法，但用哈希法会很麻烦，双指针法才是正解，可以先看视频理解一下 双指针法的思路，文章中讲解的，没问题 哈希法很麻烦。 \n",
    "\n",
    "题目链接/文章讲解/视频讲解：https://programmercarl.com/0015.%E4%B8%89%E6%95%B0%E4%B9%8B%E5%92%8C.html \n"
   ],
   "id": "347e5fa765d326f0"
  },
  {
   "metadata": {},
   "cell_type": "markdown",
   "source": [
    "**注意**： 答案中不可以包含重复的三元组。  \n",
    "O(n^3)的解法与哈希表去重困难；  \n",
    "改选双指针法，先排序，然后遍历，两个指针分别指向当前元素的下一个和最后一个，根据三数之和与0的大小关系移动指针。  \n",
    "### 去重：\n",
    "1. 第一个元素：遍历时，如果当前元素与前一个元素相同，则跳过；\n",
    "2. 后两个元素：在找到一个三元组后，跳过随后的重复元素。"
   ],
   "id": "f8b3ebaa7d8e32e9"
  },
  {
   "metadata": {},
   "cell_type": "code",
   "outputs": [],
   "execution_count": null,
   "source": [
    "class Solution:\n",
    "    def threeSum(self, nums: List[int]) -> List[List[int]]:\n",
    "        result = []\n",
    "        nums.sort()\n",
    "        \n",
    "        for i in range(len(nums)):\n",
    "            # 如果第一个元素已经大于0，不需要进一步检查\n",
    "            if nums[i] > 0:\n",
    "                return result\n",
    "            \n",
    "            # 跳过相同的元素以避免重复\n",
    "            if i > 0 and nums[i] == nums[i - 1]:\n",
    "                continue\n",
    "                \n",
    "            left = i + 1\n",
    "            right = len(nums) - 1\n",
    "            \n",
    "            while right > left:\n",
    "                sum_ = nums[i] + nums[left] + nums[right]\n",
    "                \n",
    "                if sum_ < 0:\n",
    "                    left += 1\n",
    "                elif sum_ > 0:\n",
    "                    right -= 1\n",
    "                else:\n",
    "                    result.append([nums[i], nums[left], nums[right]])\n",
    "                    \n",
    "                    # 跳过相同的元素以避免重复\n",
    "                    while right > left and nums[right] == nums[right - 1]:\n",
    "                        right -= 1\n",
    "                    while right > left and nums[left] == nums[left + 1]:\n",
    "                        left += 1\n",
    "                        \n",
    "                    right -= 1\n",
    "                    left += 1\n",
    "                    \n",
    "        return result"
   ],
   "id": "4d26df43c28f811f"
  },
  {
   "metadata": {},
   "cell_type": "markdown",
   "source": [
    "## 18. 四数之和  \n",
    "\n",
    "建议： 要比较一下，本题和 454.四数相加II 的区别，为什么 454.四数相加II 会简单很多，这个想明白了，对本题理解就深刻了。 本题 思路整体和 三数之和一样的，都是双指针，但写的时候 有很多小细节，需要注意，建议先看视频。 \n",
    "\n",
    "题目链接/文章讲解/视频讲解：https://programmercarl.com/0018.%E5%9B%9B%E6%95%B0%E4%B9%8B%E5%92%8C.html \n"
   ],
   "id": "19c2e641e87249aa"
  },
  {
   "metadata": {},
   "cell_type": "markdown",
   "source": "总体思路同三数之和，只是多了一层循环，从尾部开始，时间复杂度为O(n^3)。",
   "id": "87b50346ab467ccb"
  },
  {
   "metadata": {},
   "cell_type": "code",
   "outputs": [],
   "execution_count": null,
   "source": [
    "class Solution:\n",
    "    def fourSum(self, nums: List[int], target: int) -> List[List[int]]:\n",
    "        nums.sort()\n",
    "        n = len(nums)\n",
    "        result = []\n",
    "        for i in range(n):\n",
    "            if nums[i] > target and nums[i] > 0 and target > 0:# 剪枝（可省）\n",
    "                break\n",
    "            if i > 0 and nums[i] == nums[i-1]:# 去重\n",
    "                continue\n",
    "            for j in range(i+1, n):\n",
    "                if nums[i] + nums[j] > target and target > 0: #剪枝（可省）\n",
    "                    break\n",
    "                if j > i+1 and nums[j] == nums[j-1]: # 去重\n",
    "                    continue\n",
    "                left, right = j+1, n-1\n",
    "                while left < right:\n",
    "                    s = nums[i] + nums[j] + nums[left] + nums[right]\n",
    "                    if s == target:\n",
    "                        result.append([nums[i], nums[j], nums[left], nums[right]])\n",
    "                        while left < right and nums[left] == nums[left+1]:\n",
    "                            left += 1\n",
    "                        while left < right and nums[right] == nums[right-1]:\n",
    "                            right -= 1\n",
    "                        left += 1\n",
    "                        right -= 1\n",
    "                    elif s < target:\n",
    "                        left += 1\n",
    "                    else:\n",
    "                        right -= 1\n",
    "        return result\n"
   ],
   "id": "fb17b6dde7c28cc4"
  },
  {
   "metadata": {},
   "cell_type": "markdown",
   "source": "最优方法：递归",
   "id": "b327c460a4173e43"
  },
  {
   "metadata": {},
   "cell_type": "code",
   "outputs": [],
   "execution_count": null,
   "source": [
    "class Solution:\n",
    "    def fourSum(self, nums: List[int], target: int) -> List[List[int]]:\n",
    "        def kSum(nums, target, k):\n",
    "            res = []\n",
    "            if not nums:\n",
    "                return res\n",
    "            n = target // k\n",
    "            if n < nums[0] or n > nums[-1]:\n",
    "                return res\n",
    "            if k == 2:\n",
    "                return twoSum(nums, target)\n",
    "            for i in range(len(nums)):\n",
    "                if i == 0 or nums[i] != nums[i-1]:\n",
    "                    for j in kSum(nums[i+1:], target-nums[i], k-1):\n",
    "                        res.append([nums[i]] + j)\n",
    "            return res\n",
    "            \n",
    "            \n",
    "        def twoSum (nums, target):\n",
    "            res = []\n",
    "            l = 0\n",
    "            r = len(nums) - 1\n",
    "            while l<r:\n",
    "                if nums[l] + nums[r] > target or (r < len(nums)-1 and nums[r] == nums[r+1]):\n",
    "                    r -= 1\n",
    "                elif nums[l] + nums[r] < target or (l > 0 and nums[l] == nums[l-1]):\n",
    "                    l += 1\n",
    "                else:\n",
    "                    res.append([nums[l],nums[r]])\n",
    "                    l += 1\n",
    "                    r -= 1\n",
    "            return res\n",
    "            \n",
    "        nums.sort()\n",
    "        return kSum(nums, target, 4)\n",
    "        "
   ],
   "id": "86168f0e39c0f00f"
  }
 ],
 "metadata": {
  "kernelspec": {
   "display_name": "Python 3",
   "language": "python",
   "name": "python3"
  },
  "language_info": {
   "codemirror_mode": {
    "name": "ipython",
    "version": 2
   },
   "file_extension": ".py",
   "mimetype": "text/x-python",
   "name": "python",
   "nbconvert_exporter": "python",
   "pygments_lexer": "ipython2",
   "version": "2.7.6"
  }
 },
 "nbformat": 4,
 "nbformat_minor": 5
}
