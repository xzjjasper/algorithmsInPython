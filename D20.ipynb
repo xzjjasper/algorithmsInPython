{
 "cells": [
  {
   "metadata": {},
   "cell_type": "markdown",
   "source": [
    "## 235. 二叉搜索树的最近公共祖先 \n",
    "\n",
    "相对于 二叉树的最近公共祖先 本题就简单一些了，因为 可以利用二叉搜索树的特性。 \n",
    "\n",
    "题目链接/文章讲解：https://programmercarl.com/0235.%E4%BA%8C%E5%8F%89%E6%90%9C%E7%B4%A2%E6%A0%91%E7%9A%84%E6%9C%80%E8%BF%91%E5%85%AC%E5%85%B1%E7%A5%96%E5%85%88.html  \n",
    "视频讲解：https://www.bilibili.com/video/BV1Zt4y1F7ww  \n"
   ],
   "id": "b98f5837491fca86"
  },
  {
   "metadata": {},
   "cell_type": "markdown",
   "source": [
    "由于BST搜索是选择一侧子节点进行递归，可以由上至下搜索（不需要backtrack）  \n",
    "**base case:**\n",
    "1. 目标分别在根节点两侧（由数值大小确定），则最近公共祖先就是当前根节点\n",
    "2. 目标均在根节点同一侧（由数值大小确定），则递归至左或右子节点"
   ],
   "id": "28ba47b7efcc1024"
  },
  {
   "metadata": {
    "ExecuteTime": {
     "end_time": "2024-07-23T06:12:15.208935Z",
     "start_time": "2024-07-23T06:12:15.196844Z"
    }
   },
   "cell_type": "code",
   "source": [
    "class Solution:\n",
    "    def lowestCommonAncestor(self, root, p, q):\n",
    "        if not root:\n",
    "            return None\n",
    "        if root.val > p.val and root.val > q.val:\n",
    "            return self.lowestCommonAncestor(root.left, p, q)\n",
    "        elif root.val < p.val and root.val < q.val:\n",
    "            return self.lowestCommonAncestor(root.right, p, q)\n",
    "        else:\n",
    "            return root #包含root == p or root == q 了\n"
   ],
   "id": "e4bafad51df9dfb",
   "outputs": [],
   "execution_count": 3
  },
  {
   "metadata": {},
   "cell_type": "code",
   "outputs": [],
   "execution_count": null,
   "source": [
    "#迭代法：很好理解\n",
    "class Solution:\n",
    "    def lowestCommonAncestor(self, root, p, q):\n",
    "        while root:\n",
    "            if root.val > p.val and root.val > q.val:\n",
    "                root = root.left\n",
    "            elif root.val < p.val and root.val < q.val:\n",
    "                root = root.right\n",
    "            else:\n",
    "                return root\n",
    "        return None"
   ],
   "id": "452d9f9f1be9daf7"
  },
  {
   "metadata": {},
   "cell_type": "markdown",
   "source": [
    "## 701.二叉搜索树中的插入操作  \n",
    "\n",
    "本题比想象中的简单，大家可以先自己想一想应该怎么做，然后看视频讲解，就发现 本题为什么比较简单了。\n",
    "\n",
    "题目链接/文章讲解：https://programmercarl.com/0701.%E4%BA%8C%E5%8F%89%E6%90%9C%E7%B4%A2%E6%A0%91%E4%B8%AD%E7%9A%84%E6%8F%92%E5%85%A5%E6%93%8D%E4%BD%9C.html  \n",
    "视频讲解：https://www.bilibili.com/video/BV1Et4y1c78Y  \n"
   ],
   "id": "898a388e21a48ad6"
  },
  {
   "metadata": {},
   "cell_type": "markdown",
   "source": [
    "### 利用返回值完成新加入的节点与其父节点的赋值操作\n",
    "`root.left = self.insertIntoBST(root.left, val)`  \n",
    "配合`return root`，在未找到插入位置时，返回当前节点，完成父节点的赋值操作"
   ],
   "id": "f5550f6c1b7099ac"
  },
  {
   "metadata": {},
   "cell_type": "code",
   "outputs": [],
   "execution_count": null,
   "source": [
    "class Solution:\n",
    "    def insertIntoBST(self, root, val):\n",
    "        if root is None:\n",
    "            return TreeNode(val)\n",
    "\n",
    "        if root.val > val:\n",
    "            root.left = self.insertIntoBST(root.left, val)\n",
    "        if root.val < val:\n",
    "            root.right = self.insertIntoBST(root.right, val)\n",
    "\n",
    "        return root"
   ],
   "id": "28d60d305aae28c9"
  },
  {
   "metadata": {},
   "cell_type": "markdown",
   "source": [
    "## 450.删除二叉搜索树中的节点  \n",
    "\n",
    "相对于 插入操作，本题就有难度了，涉及到改树的结构 \n",
    "\n",
    "题目链接/文章讲解：https://programmercarl.com/0450.%E5%88%A0%E9%99%A4%E4%BA%8C%E5%8F%89%E6%90%9C%E7%B4%A2%E6%A0%91%E4%B8%AD%E7%9A%84%E8%8A%82%E7%82%B9.html  \n",
    "视频讲解：https://www.bilibili.com/video/BV1tP41177us  \n",
    "\n"
   ],
   "id": "3869728b558fcf60"
  },
  {
   "metadata": {},
   "cell_type": "markdown",
   "source": [
    "回看笔记  \n",
    "### Deletion by Merging:\n",
    "### Deletion by Inorder Predecessor / Successor:"
   ],
   "id": "af4ae3b3b13a5f6d"
  },
  {
   "cell_type": "code",
   "execution_count": null,
   "id": "initial_id",
   "metadata": {
    "collapsed": true
   },
   "outputs": [],
   "source": ""
  }
 ],
 "metadata": {
  "kernelspec": {
   "display_name": "Python 3",
   "language": "python",
   "name": "python3"
  },
  "language_info": {
   "codemirror_mode": {
    "name": "ipython",
    "version": 2
   },
   "file_extension": ".py",
   "mimetype": "text/x-python",
   "name": "python",
   "nbconvert_exporter": "python",
   "pygments_lexer": "ipython2",
   "version": "2.7.6"
  }
 },
 "nbformat": 4,
 "nbformat_minor": 5
}
