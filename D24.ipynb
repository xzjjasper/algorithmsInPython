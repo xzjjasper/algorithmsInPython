{
 "cells": [
  {
   "metadata": {},
   "cell_type": "markdown",
   "source": [
    "## 93.复原IP地址  \n",
    "\n",
    "本期本来是很有难度的，不过 大家做完 分割回文串 之后，本题就容易很多了 \n",
    "\n",
    "题目链接/文章讲解：https://programmercarl.com/0093.%E5%A4%8D%E5%8E%9FIP%E5%9C%B0%E5%9D%80.html  \n",
    "视频讲解：https://www.bilibili.com/video/BV1XP4y1U73i/\n"
   ],
   "id": "dd57c8ba17bfbcbf"
  },
  {
   "metadata": {},
   "cell_type": "markdown",
   "source": [
    "## 78.子集  \n",
    "\n",
    "子集问题，就是收集树形结构中，每一个节点的结果。 整体代码其实和 回溯模板都是差不多的。 \n",
    "\n",
    "题目链接/文章讲解：https://programmercarl.com/0078.%E5%AD%90%E9%9B%86.html  \n",
    "视频讲解：https://www.bilibili.com/video/BV1U84y1q7Ci \n"
   ],
   "id": "5610ac2e5fc0c859"
  },
  {
   "metadata": {},
   "cell_type": "markdown",
   "source": [
    "## 90.子集II \n",
    "\n",
    "大家之前做了 40.组合总和II 和 78.子集 ，本题就是这两道题目的结合，建议自己独立做一做，本题涉及的知识，之前都讲过，没有新内容。 \n",
    "\n",
    "题目链接/文章讲解：https://programmercarl.com/0090.%E5%AD%90%E9%9B%86II.html   \n",
    "视频讲解：https://www.bilibili.com/video/BV1vm4y1F71J\n",
    "\n"
   ],
   "id": "50f2595965cdb729"
  },
  {
   "cell_type": "code",
   "execution_count": null,
   "id": "initial_id",
   "metadata": {
    "collapsed": true
   },
   "outputs": [],
   "source": [
    ""
   ]
  }
 ],
 "metadata": {
  "kernelspec": {
   "display_name": "Python 3",
   "language": "python",
   "name": "python3"
  },
  "language_info": {
   "codemirror_mode": {
    "name": "ipython",
    "version": 2
   },
   "file_extension": ".py",
   "mimetype": "text/x-python",
   "name": "python",
   "nbconvert_exporter": "python",
   "pygments_lexer": "ipython2",
   "version": "2.7.6"
  }
 },
 "nbformat": 4,
 "nbformat_minor": 5
}
