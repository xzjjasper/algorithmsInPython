{
 "cells": [
  {
   "metadata": {},
   "cell_type": "markdown",
   "source": [
    "## 93.复原IP地址  \n",
    "\n",
    "本期本来是很有难度的，不过 大家做完 分割回文串 之后，本题就容易很多了 \n",
    "\n",
    "题目链接/文章讲解：https://programmercarl.com/0093.%E5%A4%8D%E5%8E%9FIP%E5%9C%B0%E5%9D%80.html  \n",
    "视频讲解：https://www.bilibili.com/video/BV1XP4y1U73i/\n"
   ],
   "id": "dd57c8ba17bfbcbf"
  },
  {
   "metadata": {},
   "cell_type": "markdown",
   "source": [
    "思路与分割回文串类似，注意判断条件：  \n",
    "1. 每个段的长度是1-3，迭代次数受3和剩余长度的限制\n",
    "2. 值小于256, 且不能以0开头\n",
    "3. 递归结束条件是迭代次数为4，且剩余长度为0 （用迭代参数记录迭代次数；或使用List保存结果，判断长度是否为4）"
   ],
   "id": "f4a3bd3edd82977d"
  },
  {
   "metadata": {},
   "cell_type": "code",
   "outputs": [],
   "execution_count": null,
   "source": [
    "class Solution:\n",
    "    def restoreIpAddresses(self, s: str) -> List[str]:\n",
    "        self.output = []\n",
    "        \n",
    "        def backtrack(index, string, count):\n",
    "            if count > 4:  # More than 4 segments is invalid\n",
    "                return\n",
    "            \n",
    "            if count == 4 and index == len(s):  # Valid IP address\n",
    "                self.output.append(string[:-1])  # Remove the trailing dot\n",
    "                return\n",
    "            \n",
    "            for i in range(1, 4):  # Length of segments: 1, 2, or 3\n",
    "                if index + i > len(s):  # Ensure within bounds\n",
    "                    break\n",
    "                \n",
    "                segment = s[index:index + i]\n",
    "                if (segment[0] == '0' and len(segment) > 1) or int(segment) > 255:  # Check for leading zero and valid range\n",
    "                    continue\n",
    "                \n",
    "                backtrack(index + i, string + segment + \".\", count + 1)\n",
    "        \n",
    "        backtrack(0, \"\", 0)\n",
    "        return self.output"
   ],
   "id": "a335935df077e4ab"
  },
  {
   "metadata": {},
   "cell_type": "markdown",
   "source": [
    "## 78.子集  \n",
    "\n",
    "子集问题，就是收集树形结构中，每一个节点的结果。 整体代码其实和 回溯模板都是差不多的。 \n",
    "\n",
    "题目链接/文章讲解：https://programmercarl.com/0078.%E5%AD%90%E9%9B%86.html  \n",
    "视频讲解：https://www.bilibili.com/video/BV1U84y1q7Ci \n"
   ],
   "id": "5610ac2e5fc0c859"
  },
  {
   "metadata": {},
   "cell_type": "markdown",
   "source": [
    "和其他回溯问题一致的思路：  \n",
    "append不在base case（index == len(nums)）内，而是在每次递归调用前\n",
    "仍然使用for循环控制"
   ],
   "id": "a338d98ffb5e6a17"
  },
  {
   "metadata": {},
   "cell_type": "code",
   "outputs": [],
   "execution_count": null,
   "source": [
    "class Solution:\n",
    "    def subsets(self, nums):\n",
    "        result = []\n",
    "        path = []\n",
    "        self.backtracking(nums, 0, path, result)\n",
    "        return result\n",
    "\n",
    "    def backtracking(self, nums, startIndex, path, result):\n",
    "        result.append(path[:])  # 收集子集，要放在终止添加的上面，否则会漏掉自己\n",
    "        # if startIndex >= len(nums):  # 终止条件可以不加\n",
    "        #     return\n",
    "        for i in range(startIndex, len(nums)):\n",
    "            path.append(nums[i])\n",
    "            self.backtracking(nums, i + 1, path, result)\n",
    "            path.pop()"
   ],
   "id": "3df47882ce2425cd"
  },
  {
   "metadata": {},
   "cell_type": "markdown",
   "source": [
    "或者：每个元素有两种状态，选中和不选中，不需要写for循环，直接递归调用即可。  \n",
    "attach每个子集都需要递归len(nums)次，劣于第一种方法"
   ],
   "id": "3df1911e49ef0afa"
  },
  {
   "metadata": {},
   "cell_type": "code",
   "outputs": [],
   "execution_count": null,
   "source": [
    "class Solution:\n",
    "    def subsets(self, nums: List[int]) -> List[List[int]]:\n",
    "        self.result = []\n",
    "        #self.controlList = [0]*len(nums)\n",
    "        def backtrack(index, subset: List[int]):\n",
    "            if index == len(nums):\n",
    "                self.result.append(subset[:])\n",
    "                return\n",
    "            backtrack(index + 1, subset)\n",
    "            subset.append(nums[index])\n",
    "            backtrack(index + 1, subset)\n",
    "            subset.pop()\n",
    "        \n",
    "        backtrack(0, [])\n",
    "        return self.result"
   ],
   "id": "3907338d23e2a3c"
  },
  {
   "metadata": {},
   "cell_type": "markdown",
   "source": [
    "## 90.子集II \n",
    "\n",
    "大家之前做了 40.组合总和II 和 78.子集 ，本题就是这两道题目的结合，建议自己独立做一做，本题涉及的知识，之前都讲过，没有新内容。 \n",
    "\n",
    "题目链接/文章讲解：https://programmercarl.com/0090.%E5%AD%90%E9%9B%86II.html   \n",
    "视频讲解：https://www.bilibili.com/video/BV1vm4y1F71J\n",
    "\n"
   ],
   "id": "50f2595965cdb729"
  },
  {
   "metadata": {},
   "cell_type": "markdown",
   "source": [
    "只能用子集的第一种方法  \n",
    "去重方法同组合：排序+剪枝"
   ],
   "id": "2bf8bee66991cada"
  },
  {
   "metadata": {},
   "cell_type": "code",
   "outputs": [],
   "execution_count": null,
   "source": [
    "class Solution:\n",
    "    def subsetsWithDup(self, nums: List[int]) -> List[List[int]]:\n",
    "        nums.sort()\n",
    "        self.result = []\n",
    "        def backtrack(index, subset: List[int]):\n",
    "            self.result.append(subset[:])\n",
    "            for i in range(index, len(nums)):\n",
    "                if i > index and nums[i] == nums[i-1]:\n",
    "                    continue\n",
    "                subset.append(nums[i])\n",
    "                backtrack(i + 1, subset)\n",
    "                subset.pop()\n",
    "        \n",
    "        backtrack(0, [])\n",
    "        return self.result"
   ],
   "id": "1933a308b6ff5254"
  }
 ],
 "metadata": {
  "kernelspec": {
   "display_name": "Python 3",
   "language": "python",
   "name": "python3"
  },
  "language_info": {
   "codemirror_mode": {
    "name": "ipython",
    "version": 2
   },
   "file_extension": ".py",
   "mimetype": "text/x-python",
   "name": "python",
   "nbconvert_exporter": "python",
   "pygments_lexer": "ipython2",
   "version": "2.7.6"
  }
 },
 "nbformat": 4,
 "nbformat_minor": 5
}
