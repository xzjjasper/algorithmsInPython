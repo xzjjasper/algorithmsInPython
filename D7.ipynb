{
 "cells": [
  {
   "metadata": {},
   "cell_type": "markdown",
   "source": "# 代码随想录算法训练营第七天｜344.反转字符串 541. 反转字符串II 卡码网：54.替换数字",
   "id": "d0c008f10f259853"
  },
  {
   "metadata": {},
   "cell_type": "markdown",
   "source": [
    "## 344.反转字符串 \n",
    "\n",
    "建议： 本题是字符串基础题目，就是考察 reverse 函数的实现，同时也明确一下 平时刷题什么时候用 库函数，什么时候 不用库函数 \n",
    "\n",
    "题目链接/文章讲解/视频讲解：https://programmercarl.com/0344.%E5%8F%8D%E8%BD%AC%E5%AD%97%E7%AC%A6%E4%B8%B2.html  \n"
   ],
   "id": "f3b7482387bcc8f6"
  },
  {
   "metadata": {},
   "cell_type": "markdown",
   "source": [
    "双指针即可  \n",
    "亮点：Python不需要使用中间变量，直接交换两个变量的值即可  \n",
    "`s[left], s[right] = s[right], s[left]`"
   ],
   "id": "e4da568ffa608fbb"
  },
  {
   "metadata": {},
   "cell_type": "code",
   "outputs": [],
   "execution_count": null,
   "source": [
    "class Solution:\n",
    "    def reverseString(self, s: List[str]) -> None:\n",
    "        \"\"\"\n",
    "        Do not return anything, modify s in-place instead.\n",
    "        \"\"\"\n",
    "        left, right = 0, len(s) - 1\n",
    "        \n",
    "        # 该方法已经不需要判断奇偶数，经测试后时间空间复杂度比用 for i in range(len(s)//2)更低\n",
    "        # 因为while每次循环需要进行条件判断，而range函数不需要，直接生成数字，因此时间复杂度更低。推荐使用range\n",
    "        while left < right:\n",
    "            s[left], s[right] = s[right], s[left]\n",
    "            left += 1\n",
    "            right -= 1"
   ],
   "id": "7895632e38d5bf46"
  },
  {
   "metadata": {},
   "cell_type": "markdown",
   "source": [
    "## 541. 反转字符串II\n",
    "\n",
    "建议：本题又进阶了，自己先去独立做一做，然后在看题解，对代码技巧会有很深的体会。 \n",
    "\n",
    "题目链接/文章讲解/视频讲解：https://programmercarl.com/0541.%E5%8F%8D%E8%BD%AC%E5%AD%97%E7%AC%A6%E4%B8%B2II.html  \n",
    "\n"
   ],
   "id": "c166f322cd99ec3d"
  },
  {
   "metadata": {},
   "cell_type": "markdown",
   "source": [
    "**注意：** 字符串是不可变对象，因此不能直接修改字符串的某个位置的字符，需要转换成list（Java：`s.toCharArray()`)，然后再转换成字符串。  \n",
    "for循环每次步进2k，然后对每个2k的子串的前k个字符进行反转。  \n",
    "python切片的特性：如果切片的结束位置超过字符串的长度，会返回至字符串的最后一个值，避免最后一组不足2k个字符的处理。  \n",
    "String to list: `res = list(s)`; List to string: `''.join(res)`"
   ],
   "id": "12239400983a686a"
  },
  {
   "metadata": {},
   "cell_type": "code",
   "outputs": [],
   "execution_count": null,
   "source": [
    "class Solution:\n",
    "    def reverseStr(self, s: str, k: int) -> str:\n",
    "        \"\"\"\n",
    "        1. 使用range(start, end, step)来确定需要调换的初始位置\n",
    "        2. 对于字符串s = 'abc'，如果使用s[0:999] ===> 'abc'。字符串末尾如果超过最大长度，则会返回至字符串最后一个值，这个特性可以避免一些边界条件的处理。\n",
    "        3. 用切片整体替换，而不是一个个替换.\n",
    "        \"\"\"\n",
    "        def reverse_substring(text):\n",
    "            left, right = 0, len(text) - 1\n",
    "            while left < right:\n",
    "                text[left], text[right] = text[right], text[left]\n",
    "                left += 1\n",
    "                right -= 1\n",
    "            return text\n",
    "        \n",
    "        res = list(s)\n",
    "\n",
    "        for cur in range(0, len(s), 2 * k):\n",
    "            res[cur: cur + k] = reverse_substring(res[cur: cur + k])\n",
    "        \n",
    "        return ''.join(res)"
   ],
   "id": "2292e75630987738"
  },
  {
   "metadata": {},
   "cell_type": "markdown",
   "source": [
    "## 卡码网：54.替换数字 \n",
    "\n",
    "建议：对于线性数据结构，填充或者删除，后序处理会高效的多。好好体会一下。\n",
    "题目链接/文章讲解：https://programmercarl.com/kama54.%E6%9B%BF%E6%8D%A2%E6%95%B0%E5%AD%97.html\n"
   ],
   "id": "5b415878a7c29d17"
  },
  {
   "metadata": {},
   "cell_type": "markdown",
   "source": "python: 思路同样是转换成list，然后遍历替换即可。",
   "id": "4a28a130c6372d63"
  },
  {
   "metadata": {},
   "cell_type": "code",
   "outputs": [],
   "execution_count": null,
   "source": [
    "class Solution:\n",
    "    def change(self, s):\n",
    "        lst = list(s) # Python里面的string也是不可改的，所以也是需要额外空间的。空间复杂度：O(n)。\n",
    "        for i in range(len(lst)):\n",
    "            if lst[i].isdigit():\n",
    "                lst[i] = \"number\"\n",
    "        return ''.join(lst)"
   ],
   "id": "4728709df3ff1d24"
  },
  {
   "metadata": {},
   "cell_type": "markdown",
   "source": [
    "java：由于转换为char数组后无法直接替换成string，另一个方法是：\n",
    "1. 先统计数字的个数\n",
    "2. 重新创建一个刚好放下替换后所有字符的数组\n",
    "3. 从后往前遍历原数组，遇到数字就替换成\"number\"，遇到非数字就直接复制到新数组中。  \n",
    "\n",
    "使用C++时好处更明显，因为C++的string是可变的。"
   ],
   "id": "b42b1ce640635cad"
  },
  {
   "metadata": {},
   "cell_type": "markdown",
   "source": [
    "```java\n",
    "public static String replaceNumber(String s) {\n",
    "    int count = 0; // 统计数字的个数\n",
    "    int sOldSize = s.length();\n",
    "    for (int i = 0; i < s.length(); i++) {\n",
    "        if(Character.isDigit(s.charAt(i))){\n",
    "            count++;\n",
    "        }\n",
    "    }\n",
    "    // 扩充字符串s的大小，也就是每个空格替换成\"number\"之后的大小\n",
    "    char[] newS = new char[s.length() + count * 5];\n",
    "    int sNewSize = newS.length;\n",
    "    // 将旧字符串的内容填入新数组\n",
    "    System.arraycopy(s.toCharArray(), 0, newS, 0, sOldSize);\n",
    "    // 从后先前将空格替换为\"number\"\n",
    "    for (int i = sNewSize - 1, j = sOldSize - 1; j < i; j--, i--) {\n",
    "        if (!Character.isDigit(newS[j])) {\n",
    "            newS[i] = newS[j];\n",
    "        } else {\n",
    "            newS[i] = 'r';\n",
    "            newS[i - 1] = 'e';\n",
    "            newS[i - 2] = 'b';\n",
    "            newS[i - 3] = 'm';\n",
    "            newS[i - 4] = 'u';\n",
    "            newS[i - 5] = 'n';\n",
    "            i -= 5;\n",
    "        }\n",
    "    }\n",
    "    return new String(newS);\n",
    "};\n",
    "```"
   ],
   "id": "8702ba60d1d2519e"
  }
 ],
 "metadata": {
  "kernelspec": {
   "display_name": "Python 3",
   "language": "python",
   "name": "python3"
  },
  "language_info": {
   "codemirror_mode": {
    "name": "ipython",
    "version": 2
   },
   "file_extension": ".py",
   "mimetype": "text/x-python",
   "name": "python",
   "nbconvert_exporter": "python",
   "pygments_lexer": "ipython2",
   "version": "2.7.6"
  }
 },
 "nbformat": 4,
 "nbformat_minor": 5
}
