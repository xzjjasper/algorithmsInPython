{
 "cells": [
  {
   "metadata": {},
   "cell_type": "markdown",
   "source": [
    "# 代码随想录算法训练营第一天｜704：二分查找 27：移除元素\n",
    "\n"
   ],
   "id": "e2631711a32937ca"
  },
  {
   "metadata": {},
   "cell_type": "markdown",
   "source": [
    "## 数组理论基础  \n",
    "\n",
    "文章链接：https://programmercarl.com/%E6%95%B0%E7%BB%84%E7%90%86%E8%AE%BA%E5%9F%BA%E7%A1%80.html\n",
    "\n",
    "题目建议： 了解一下数组基础，以及数组的内存空间地址，数组也没那么简单。"
   ],
   "id": "aaeac67f1f6b3d16"
  },
  {
   "metadata": {},
   "cell_type": "markdown",
   "source": [
    "\n",
    "## 704. 二分查找 \n",
    "\n",
    "题目建议： 大家今天能把 704.二分查找 彻底掌握就可以，至于 35.搜索插入位置 和 34. 在排序数组中查找元素的第一个和最后一个位置 ，如果有时间就去看一下，没时间可以先不看，二刷的时候在看。\n",
    "\n",
    "先把 704写熟练，要熟悉 根据 左闭右开，左闭右闭 两种区间规则 写出来的二分法。\n",
    "\n",
    "题目链接: https://leetcode.com/problems/binary-search/description/  \n",
    "文章讲解：https://programmercarl.com/0704.%E4%BA%8C%E5%88%86%E6%9F%A5%E6%89%BE.html  \n",
    "视频讲解：https://www.bilibili.com/video/BV1fA4y1o715\n"
   ],
   "id": "ef81db497c45782"
  },
  {
   "metadata": {},
   "cell_type": "code",
   "outputs": [],
   "execution_count": null,
   "source": "",
   "id": "c963822e7d5049ad"
  },
  {
   "metadata": {},
   "cell_type": "markdown",
   "source": [
    "## 27. 移除元素\n",
    "\n",
    "题目建议：  暴力的解法，可以锻炼一下我们的代码实现能力，建议先把暴力写法写一遍。 双指针法 是本题的精髓，今日需要掌握，至于拓展题目可以先不看。 \n",
    "\n",
    "题目链接：https://leetcode.com/problems/remove-element/  \n",
    "文章讲解：https://programmercarl.com/0027.%E7%A7%BB%E9%99%A4%E5%85%83%E7%B4%A0.html  \n",
    "视频讲解：https://www.bilibili.com/video/BV12A4y1Z7LP \n"
   ],
   "id": "56d0923a428741f2"
  },
  {
   "metadata": {
    "jupyter": {
     "is_executing": true
    }
   },
   "cell_type": "code",
   "source": "",
   "id": "fb1ba4c858366537",
   "outputs": [],
   "execution_count": null
  },
  {
   "metadata": {},
   "cell_type": "code",
   "outputs": [],
   "execution_count": null,
   "source": "",
   "id": "aa9404c4af250d8b"
  }
 ],
 "metadata": {
  "kernelspec": {
   "display_name": "Python 3",
   "language": "python",
   "name": "python3"
  },
  "language_info": {
   "codemirror_mode": {
    "name": "ipython",
    "version": 2
   },
   "file_extension": ".py",
   "mimetype": "text/x-python",
   "name": "python",
   "nbconvert_exporter": "python",
   "pygments_lexer": "ipython2",
   "version": "2.7.6"
  }
 },
 "nbformat": 4,
 "nbformat_minor": 5
}
