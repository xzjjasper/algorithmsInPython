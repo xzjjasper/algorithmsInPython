{
 "cells": [
  {
   "metadata": {},
   "cell_type": "markdown",
   "source": [
    "## 理论基础 \n",
    "\n",
    "其实在讲解二叉树的时候，就给大家介绍过回溯，这次正式开启回溯算法，大家可以先看视频，对回溯算法有一个整体的了解。\n",
    "\n",
    "题目链接/文章讲解：https://programmercarl.com/%E5%9B%9E%E6%BA%AF%E7%AE%97%E6%B3%95%E7%90%86%E8%AE%BA%E5%9F%BA%E7%A1%80.html  \n",
    "视频讲解：https://www.bilibili.com/video/BV1cy4y167mM  \n"
   ],
   "id": "5e7139a9950812d0"
  },
  {
   "metadata": {},
   "cell_type": "markdown",
   "source": "回溯算法中函数返回值一般为void,一般是在集合中递归搜索",
   "id": "449f951f5d3aed4d"
  },
  {
   "metadata": {},
   "cell_type": "markdown",
   "source": [
    "## 77. 组合  \n",
    "\n",
    "对着 在 回溯算法理论基础 给出的 代码模板，来做本题组合问题，大家就会发现 写回溯算法套路。\n",
    "\n",
    "在回溯算法解决实际问题的过程中，大家会有各种疑问，先看视频介绍，基本可以解决大家的疑惑。\n",
    "\n",
    "本题关于剪枝操作是大家要理解的重点，因为后面很多回溯算法解决的题目，都是这个剪枝套路。 \n",
    "\n",
    "题目链接/文章讲解：https://programmercarl.com/0077.%E7%BB%84%E5%90%88.html   \n",
    "视频讲解：https://www.bilibili.com/video/BV1ti4y1L7cv   \n",
    "剪枝操作：https://www.bilibili.com/video/BV1wi4y157er   \n"
   ],
   "id": "dc4200391c7b1163"
  },
  {
   "metadata": {},
   "cell_type": "markdown",
   "source": [
    "每一次的递归中嵌套一个for循环，那么递归就可以用于解决多层嵌套循环的问题了。  \n",
    "剪枝：如果for循环选择的起始位置之后的元素个数**已经不足**我们需要的元素个数了，那么就没有必要搜索了：  \n",
    "在集合n中至多要从该起始位置 : `n - (k - path.size()) + 1` 个位置  \n",
    "切记：想要将list添加到list中时需要用`list()`"
   ],
   "id": "26986d18a019e9bf"
  },
  {
   "metadata": {},
   "cell_type": "code",
   "outputs": [],
   "execution_count": null,
   "source": [
    "class Solution:\n",
    "    def combine(self, n: int, k: int) -> List[List[int]]:\n",
    "        result = []  # 存放结果集\n",
    "        self.backtracking(n, k, 1, [], result)\n",
    "        return result\n",
    "    def backtracking(self, n, k, startIndex, path, result):\n",
    "        if len(path) == k:\n",
    "            result.append(path[:])\n",
    "            return\n",
    "        for i in range(startIndex, n - (k - len(path)) + 2):  # +2: 右开+1，从1开始+1\n",
    "            path.append(i)  # 处理节点\n",
    "            self.backtracking(n, k, i + 1, path, result)\n",
    "            path.pop()  # 回溯，撤销处理的节点\n"
   ],
   "id": "9416f82d7c39a1a8"
  },
  {
   "metadata": {},
   "cell_type": "markdown",
   "source": [
    "## 216.组合总和III \n",
    "\n",
    "如果把 组合问题理解了，本题就容易一些了。 \n",
    "\n",
    "题目链接/文章讲解：https://programmercarl.com/0216.%E7%BB%84%E5%90%88%E6%80%BB%E5%92%8CIII.html   \n",
    "视频讲解：https://www.bilibili.com/video/BV1wg411873x\n"
   ],
   "id": "a46301b0594e1f54"
  },
  {
   "metadata": {},
   "cell_type": "markdown",
   "source": [
    "**终止条件**：\n",
    "1. 此后的数字不足以凑成k个数  \n",
    "2. 此后的k个数的最小和大于n\n",
    "  \n",
    "递归部分同上题  \n",
    "\n",
    "**剪枝**：循环的范围：此后的k个数的最小和为`x*left-x*(x-1)//2`，计算y比最小和大多少个x得知还能取到几个数"
   ],
   "id": "21cce8036a86f63d"
  },
  {
   "metadata": {},
   "cell_type": "code",
   "outputs": [],
   "execution_count": null,
   "source": [
    "class Solution:\n",
    "    def combinationSum3(self, k: int, n: int) -> List[List[int]]:\n",
    "        self.output = []\n",
    "        self.nums = []\n",
    "        def backtrack(x, y, left):\n",
    "            if x == 1:\n",
    "                if left <= y < 10:\n",
    "                    self.nums.append(y)\n",
    "                    self.output.append(list(self.nums))\n",
    "                    self.nums.pop()\n",
    "                return\n",
    "            #剪枝，从(y - x*left-x*(x-1)//2) //x + 1 + left 优化而来\n",
    "            length = (y // x)  - (x // 2) + 2\n",
    "            for i in range(left, length):\n",
    "                self.nums.append(i)\n",
    "                backtrack(x - 1, y - i, i + 1)\n",
    "                self.nums.pop()\n",
    "        backtrack(k,n,1)\n",
    "        return self.output"
   ],
   "id": "58f866c65cee32ac"
  },
  {
   "metadata": {},
   "cell_type": "markdown",
   "source": [
    "## 17.电话号码的字母组合 \n",
    "\n",
    "本题大家刚开始做会有点难度，先自己思考20min，没思路就直接看题解。 \n",
    "\n",
    "题目链接/文章讲解：https://programmercarl.com/0017.%E7%94%B5%E8%AF%9D%E5%8F%B7%E7%A0%81%E7%9A%84%E5%AD%97%E6%AF%8D%E7%BB%84%E5%90%88.html   \n",
    "视频讲解：https://www.bilibili.com/video/BV1yV4y1V7Ug\n",
    "\n"
   ],
   "id": "d60d0141d79eb4b3"
  },
  {
   "metadata": {},
   "cell_type": "markdown",
   "source": [
    "key是连续的：不需要使用字典，直接用数组存储即可  \n",
    "递归部分同上题"
   ],
   "id": "c37be0eb1f12a3b2"
  },
  {
   "metadata": {},
   "cell_type": "code",
   "outputs": [],
   "execution_count": null,
   "source": [
    "class Solution:\n",
    "    def __init__(self):\n",
    "        self.letterMap = [\n",
    "            \"\",     # 0\n",
    "            \"\",     # 1\n",
    "            \"abc\",  # 2\n",
    "            \"def\",  # 3\n",
    "            \"ghi\",  # 4\n",
    "            \"jkl\",  # 5\n",
    "            \"mno\",  # 6\n",
    "            \"pqrs\", # 7\n",
    "            \"tuv\",  # 8\n",
    "            \"wxyz\"  # 9\n",
    "        ]\n",
    "        self.result = []\n",
    "    \n",
    "    def getCombinations(self, digits, index, s):\n",
    "        if index == len(digits):\n",
    "            self.result.append(s)\n",
    "            return\n",
    "        digit = int(digits[index])\n",
    "        letters = self.letterMap[digit]\n",
    "        for letter in letters:\n",
    "            self.getCombinations(digits, index + 1, s + letter)\n",
    "    \n",
    "    def letterCombinations(self, digits):\n",
    "        if len(digits) == 0:\n",
    "            return self.result\n",
    "        self.getCombinations(digits, 0, \"\")\n",
    "        return self.result"
   ],
   "id": "178a4b819aa8f462"
  }
 ],
 "metadata": {
  "kernelspec": {
   "display_name": "Python 3",
   "language": "python",
   "name": "python3"
  },
  "language_info": {
   "codemirror_mode": {
    "name": "ipython",
    "version": 2
   },
   "file_extension": ".py",
   "mimetype": "text/x-python",
   "name": "python",
   "nbconvert_exporter": "python",
   "pygments_lexer": "ipython2",
   "version": "2.7.6"
  }
 },
 "nbformat": 4,
 "nbformat_minor": 5
}
