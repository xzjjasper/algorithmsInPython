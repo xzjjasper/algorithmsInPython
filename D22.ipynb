{
 "cells": [
  {
   "metadata": {},
   "cell_type": "markdown",
   "source": [
    "## 理论基础 \n",
    "\n",
    "其实在讲解二叉树的时候，就给大家介绍过回溯，这次正式开启回溯算法，大家可以先看视频，对回溯算法有一个整体的了解。\n",
    "\n",
    "题目链接/文章讲解：https://programmercarl.com/%E5%9B%9E%E6%BA%AF%E7%AE%97%E6%B3%95%E7%90%86%E8%AE%BA%E5%9F%BA%E7%A1%80.html  \n",
    "视频讲解：https://www.bilibili.com/video/BV1cy4y167mM  \n"
   ],
   "id": "5e7139a9950812d0"
  },
  {
   "metadata": {},
   "cell_type": "markdown",
   "source": [
    "## 77. 组合  \n",
    "\n",
    "对着 在 回溯算法理论基础 给出的 代码模板，来做本题组合问题，大家就会发现 写回溯算法套路。\n",
    "\n",
    "在回溯算法解决实际问题的过程中，大家会有各种疑问，先看视频介绍，基本可以解决大家的疑惑。\n",
    "\n",
    "本题关于剪枝操作是大家要理解的重点，因为后面很多回溯算法解决的题目，都是这个剪枝套路。 \n",
    "\n",
    "题目链接/文章讲解：https://programmercarl.com/0077.%E7%BB%84%E5%90%88.html   \n",
    "视频讲解：https://www.bilibili.com/video/BV1ti4y1L7cv \n",
    "剪枝操作：https://www.bilibili.com/video/BV1wi4y157er   \n"
   ],
   "id": "dc4200391c7b1163"
  },
  {
   "metadata": {},
   "cell_type": "markdown",
   "source": [
    "## 216.组合总和III \n",
    "\n",
    "如果把 组合问题理解了，本题就容易一些了。 \n",
    "\n",
    "题目链接/文章讲解：https://programmercarl.com/0216.%E7%BB%84%E5%90%88%E6%80%BB%E5%92%8CIII.html   \n",
    "视频讲解：https://www.bilibili.com/video/BV1wg411873x\n"
   ],
   "id": "a46301b0594e1f54"
  },
  {
   "metadata": {},
   "cell_type": "markdown",
   "source": [
    "## 17.电话号码的字母组合 \n",
    "\n",
    "本题大家刚开始做会有点难度，先自己思考20min，没思路就直接看题解。 \n",
    "\n",
    "题目链接/文章讲解：https://programmercarl.com/0017.%E7%94%B5%E8%AF%9D%E5%8F%B7%E7%A0%81%E7%9A%84%E5%AD%97%E6%AF%8D%E7%BB%84%E5%90%88.html   \n",
    "视频讲解：https://www.bilibili.com/video/BV1yV4y1V7Ug\n",
    "\n"
   ],
   "id": "d60d0141d79eb4b3"
  },
  {
   "cell_type": "code",
   "execution_count": null,
   "id": "initial_id",
   "metadata": {
    "collapsed": true
   },
   "outputs": [],
   "source": [
    ""
   ]
  }
 ],
 "metadata": {
  "kernelspec": {
   "display_name": "Python 3",
   "language": "python",
   "name": "python3"
  },
  "language_info": {
   "codemirror_mode": {
    "name": "ipython",
    "version": 2
   },
   "file_extension": ".py",
   "mimetype": "text/x-python",
   "name": "python",
   "nbconvert_exporter": "python",
   "pygments_lexer": "ipython2",
   "version": "2.7.6"
  }
 },
 "nbformat": 4,
 "nbformat_minor": 5
}
