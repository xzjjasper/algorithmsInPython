{
 "cells": [
  {
   "metadata": {},
   "cell_type": "markdown",
   "source": [
    "## 39. 组合总和 \n",
    "\n",
    "本题是 集合里元素可以用无数次，那么和组合问题的差别 其实仅在于 startIndex上的控制\n",
    "\n",
    "题目链接/文章讲解：https://programmercarl.com/0039.%E7%BB%84%E5%90%88%E6%80%BB%E5%92%8C.html \n",
    "视频讲解：https://www.bilibili.com/video/BV1KT4y1M7HJ  \n"
   ],
   "id": "8d0082b59b41bde1"
  },
  {
   "metadata": {},
   "cell_type": "markdown",
   "source": [
    "## 40.组合总和II \n",
    "\n",
    "本题开始涉及到一个问题了：去重。\n",
    "\n",
    "注意题目中给我们 集合是有重复元素的，那么求出来的 组合有可能重复，但题目要求不能有重复组合。 \n",
    "\n",
    "题目链接/文章讲解：https://programmercarl.com/0040.%E7%BB%84%E5%90%88%E6%80%BB%E5%92%8CII.html   \n",
    "视频讲解：https://www.bilibili.com/video/BV12V4y1V73A\n",
    "\n"
   ],
   "id": "f7cf8c93df3702b1"
  },
  {
   "metadata": {},
   "cell_type": "markdown",
   "source": [
    "## 131.分割回文串  \n",
    "\n",
    "本题较难，大家先看视频来理解 分割问题，明天还会有一道分割问题，先打打基础。 \n",
    "\n",
    "https://programmercarl.com/0131.%E5%88%86%E5%89%B2%E5%9B%9E%E6%96%87%E4%B8%B2.html  \n",
    "视频讲解：https://www.bilibili.com/video/BV1c54y1e7k6  \n",
    "\n"
   ],
   "id": "eb1161101e4e4a70"
  },
  {
   "cell_type": "code",
   "execution_count": null,
   "id": "initial_id",
   "metadata": {
    "collapsed": true
   },
   "outputs": [],
   "source": [
    ""
   ]
  }
 ],
 "metadata": {
  "kernelspec": {
   "display_name": "Python 3",
   "language": "python",
   "name": "python3"
  },
  "language_info": {
   "codemirror_mode": {
    "name": "ipython",
    "version": 2
   },
   "file_extension": ".py",
   "mimetype": "text/x-python",
   "name": "python",
   "nbconvert_exporter": "python",
   "pygments_lexer": "ipython2",
   "version": "2.7.6"
  }
 },
 "nbformat": 4,
 "nbformat_minor": 5
}
