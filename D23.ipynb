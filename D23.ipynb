{
 "cells": [
  {
   "metadata": {},
   "cell_type": "markdown",
   "source": [
    "## 39. 组合总和 \n",
    "\n",
    "本题是 集合里元素可以用无数次，那么和组合问题的差别 其实仅在于 startIndex上的控制\n",
    "\n",
    "题目链接/文章讲解：https://programmercarl.com/0039.%E7%BB%84%E5%90%88%E6%80%BB%E5%92%8C.html \n",
    "视频讲解：https://www.bilibili.com/video/BV1KT4y1M7HJ  \n"
   ],
   "id": "8d0082b59b41bde1"
  },
  {
   "metadata": {},
   "cell_type": "markdown",
   "source": [
    "如果是一个集合来求组合的话，就需要startIndex，例如：77.组合，216.组合总和III 。  \n",
    "如果是多个集合取组合，各个集合之间相互不影响，那么就不用startIndex，例如：17.电话号码的字母组合"
   ],
   "id": "2fe9bee8d2c80a77"
  },
  {
   "metadata": {},
   "cell_type": "markdown",
   "source": [
    "区别不大  \n",
    "元素可以重复使用：传入i，而不是i+1。  \n",
    "可以不排序，在循环中剪枝。"
   ],
   "id": "2468f6b7d4640056"
  },
  {
   "metadata": {},
   "cell_type": "code",
   "outputs": [],
   "execution_count": null,
   "source": [
    "class Solution:\n",
    "    def combinationSum(self, candidates: List[int], target: int) -> List[List[int]]:\n",
    "        candidates.sort()\n",
    "        self.result = []\n",
    "        self.nums = collections.deque()\n",
    "        def backtrack(left, sums, right):\n",
    "            if sums == 0:\n",
    "                self.result.append(list(self.nums))\n",
    "                return\n",
    "            if sums < candidates[left]:\n",
    "                return\n",
    "            for i in range(left, right):\n",
    "                self.nums.append(candidates[i])\n",
    "                backtrack(i, sums - candidates[i], right)\n",
    "                self.nums.pop()\n",
    "        backtrack(0, target, len(candidates))\n",
    "        return self.result"
   ],
   "id": "fbd73e8fdec19e31"
  },
  {
   "metadata": {},
   "cell_type": "markdown",
   "source": [
    "## 40.组合总和II \n",
    "\n",
    "本题开始涉及到一个问题了：去重。\n",
    "\n",
    "注意题目中给我们 集合是有重复元素的，那么求出来的 组合有可能重复，但题目要求不能有重复组合。 \n",
    "\n",
    "题目链接/文章讲解：https://programmercarl.com/0040.%E7%BB%84%E5%90%88%E6%80%BB%E5%92%8CII.html   \n",
    "视频讲解：https://www.bilibili.com/video/BV12V4y1V73A\n",
    "\n"
   ],
   "id": "f7cf8c93df3702b1"
  },
  {
   "metadata": {},
   "cell_type": "markdown",
   "source": [
    "**去重的是同一树层上的“使用过”，同一树枝上的都是一个组合里的元素，不用去重。**  \n",
    "必须排序；去重的方法是：如果在迭代中，当前元素和上一个元素相同，那么跳过当前元素。  \n",
    "剪枝：当前元素大于剩余和"
   ],
   "id": "2b09f182fddb0db6"
  },
  {
   "metadata": {},
   "cell_type": "code",
   "outputs": [],
   "execution_count": null,
   "source": [
    "class Solution:\n",
    "    def combinationSum2(self, candidates: List[int], target: int) -> List[List[int]]:\n",
    "        candidates.sort()\n",
    "        self.result = []\n",
    "        self.nums = collections.deque()\n",
    "        def backtrack(left, sums, right):\n",
    "            if sums == 0:\n",
    "                self.result.append(list(self.nums))\n",
    "                return\n",
    "            if left == len(candidates) or sums < candidates[left]:\n",
    "                return\n",
    "            for i in range(left, right):\n",
    "                if i > left and candidates[i] == candidates[i-1]:\n",
    "                    continue\n",
    "                self.nums.append(candidates[i])\n",
    "                backtrack(i + 1, sums - candidates[i], right)\n",
    "                self.nums.pop()\n",
    "        backtrack(0, target, len(candidates))\n",
    "        return self.result"
   ],
   "id": "1a1e3aada1f46a50"
  },
  {
   "metadata": {},
   "cell_type": "markdown",
   "source": [
    "## 131.分割回文串  \n",
    "\n",
    "本题较难，大家先看视频来理解 分割问题，明天还会有一道分割问题，先打打基础。 \n",
    "\n",
    "https://programmercarl.com/0131.%E5%88%86%E5%89%B2%E5%9B%9E%E6%96%87%E4%B8%B2.html  \n",
    "视频讲解：https://www.bilibili.com/video/BV1c54y1e7k6  \n",
    "\n"
   ],
   "id": "eb1161101e4e4a70"
  },
  {
   "metadata": {},
   "cell_type": "markdown",
   "source": "循环中判断start_index到i是否是回文串，是的话，进入下一步递归。",
   "id": "a974a7c88c1fed45"
  },
  {
   "metadata": {},
   "cell_type": "code",
   "outputs": [],
   "execution_count": null,
   "source": [
    "class Solution:\n",
    "\n",
    "    def partition(self, s: str) -> List[List[str]]:\n",
    "        result = []\n",
    "        self.backtracking(s, 0, [], result)\n",
    "        return result\n",
    "\n",
    "    def backtracking(self, s, start_index, path, result ):\n",
    "        # Base Case\n",
    "        if start_index == len(s):\n",
    "            result.append(path[:])\n",
    "            return\n",
    "        \n",
    "        # 单层递归逻辑\n",
    "        for i in range(start_index, len(s)):\n",
    "            # 若反序和正序相同，意味着这是回文串\n",
    "            if s[start_index: i + 1] == s[start_index: i + 1][::-1]:\n",
    "                path.append(s[start_index:i+1])\n",
    "                self.backtracking(s, i+1, path, result)   # 递归纵向遍历：从下一处进行切割，判断其余是否仍为回文串\n",
    "                path.pop()    "
   ],
   "id": "1a56ce8fb01e18fd"
  },
  {
   "metadata": {},
   "cell_type": "markdown",
   "source": [
    "**动态规划** 可以高效地事先一次性计算出, 针对一个字符串s, 它的任何子串是否是回文字串, 然后在我们的回溯函数中直接查询即可, 省去了双指针移动判定这一步骤。\n",
    "```java\n",
    "class Solution {\n",
    "    List<List<String>> result;\n",
    "    LinkedList<String> path;\n",
    "    boolean[][] dp;\n",
    "\n",
    "    public List<List<String>> partition(String s) {\n",
    "        result = new ArrayList<>();\n",
    "        char[] str = s.toCharArray();\n",
    "        path = new LinkedList<>();\n",
    "        dp = new boolean[str.length + 1][str.length + 1];\n",
    "        isPalindrome(str);\n",
    "        backtracking(s, 0);\n",
    "        return result;\n",
    "    }\n",
    "\n",
    "    public void backtracking(String str, int startIndex) {\n",
    "        if (startIndex >= str.length()) {\n",
    "            //如果起始位置大于s的大小，说明找到了一组分割方案\n",
    "            result.add(new ArrayList<>(path));\n",
    "        } else {\n",
    "            for (int i = startIndex; i < str.length(); ++i) {\n",
    "                if (dp[startIndex][i]) {\n",
    "                    //是回文子串，进入下一步递归\n",
    "                    //先将当前子串保存入path\n",
    "                    path.addLast(str.substring(startIndex, i + 1));\n",
    "                    //起始位置后移，保证不重复\n",
    "                    backtracking(str, i + 1);\n",
    "                    path.pollLast();\n",
    "                } else {\n",
    "                    //不是回文子串，跳过\n",
    "                    continue;\n",
    "                }\n",
    "            }\n",
    "        }\n",
    "    }\n",
    "\n",
    "    //通过动态规划判断是否是回文串,参考动态规划篇 52 回文子串\n",
    "    public void isPalindrome(char[] str) {\n",
    "        for (int i = 0; i <= str.length; ++i) {\n",
    "            dp[i][i] = true;\n",
    "        }\n",
    "        for (int i = 1; i < str.length; ++i) {\n",
    "            for (int j = i; j >= 0; --j) {\n",
    "                if (str[j] == str[i]) {\n",
    "                    if (i - j <= 1) {\n",
    "                        dp[j][i] = true;\n",
    "                    } else if (dp[j + 1][i - 1]) {\n",
    "                        dp[j][i] = true;\n",
    "                    }\n",
    "                }\n",
    "            }\n",
    "        }\n",
    "    }\n",
    "}\n",
    "```"
   ],
   "id": "8a3b40f3ce2c266a"
  }
 ],
 "metadata": {
  "kernelspec": {
   "display_name": "Python 3",
   "language": "python",
   "name": "python3"
  },
  "language_info": {
   "codemirror_mode": {
    "name": "ipython",
    "version": 2
   },
   "file_extension": ".py",
   "mimetype": "text/x-python",
   "name": "python",
   "nbconvert_exporter": "python",
   "pygments_lexer": "ipython2",
   "version": "2.7.6"
  }
 },
 "nbformat": 4,
 "nbformat_minor": 5
}
