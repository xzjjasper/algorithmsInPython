{
 "cells": [
  {
   "metadata": {},
   "cell_type": "markdown",
   "source": "",
   "id": "efd92b438f25a5d9"
  },
  {
   "metadata": {},
   "cell_type": "markdown",
   "source": [
    "## 530.二叉搜索树的最小绝对差 \n",
    "\n",
    "需要领悟一下二叉树遍历上双指针操作，优先掌握递归 \n",
    "题目链接/文章讲解：https://programmercarl.com/0530.%E4%BA%8C%E5%8F%89%E6%90%9C%E7%B4%A2%E6%A0%91%E7%9A%84%E6%9C%80%E5%B0%8F%E7%BB%9D%E5%AF%B9%E5%B7%AE.html \n",
    "视频讲解：https://www.bilibili.com/video/BV1DD4y11779 \n"
   ],
   "id": "bc5db556131c3f73"
  },
  {
   "metadata": {},
   "cell_type": "markdown",
   "source": [
    "同为中序遍历  \n",
    "使用指针pre记录前一个节点，每次遍历时计算当前节点和前一个节点的差值，更新最小差值。"
   ],
   "id": "9814192ef9af91f5"
  },
  {
   "metadata": {},
   "cell_type": "code",
   "outputs": [],
   "execution_count": null,
   "source": [
    "class Solution:\n",
    "    def __init__(self):\n",
    "        self.result = float('inf')\n",
    "        self.pre = None\n",
    "\n",
    "    def traversal(self, cur):\n",
    "        if cur is None:\n",
    "            return\n",
    "        self.traversal(cur.left)  # 左\n",
    "        if self.pre is not None:  # 中\n",
    "            self.result = min(self.result, cur.val - self.pre.val)\n",
    "        self.pre = cur  # 记录前一个\n",
    "        self.traversal(cur.right)  # 右\n",
    "\n",
    "    def getMinimumDifference(self, root):\n",
    "        self.traversal(root)\n",
    "        return self.result\n"
   ],
   "id": "2382cfdfc746a710"
  },
  {
   "metadata": {},
   "cell_type": "markdown",
   "source": [
    "## 501.二叉搜索树中的众数 \n",
    "\n",
    "和 530差不多双指针思路，不过 这里涉及到一个很巧妙的代码技巧。\n",
    "\n",
    "可以先自己做做看，然后看我的视频讲解。\n",
    "\n",
    "https://programmercarl.com/0501.%E4%BA%8C%E5%8F%89%E6%90%9C%E7%B4%A2%E6%A0%91%E4%B8%AD%E7%9A%84%E4%BC%97%E6%95%B0.html  \n",
    "视频讲解：https://www.bilibili.com/video/BV1fD4y117gp  \n"
   ],
   "id": "c16845527812a126"
  },
  {
   "metadata": {},
   "cell_type": "markdown",
   "source": [
    "对于一般的二叉树，使用词典统计每个节点的出现次数，然后找到出现次数最多的节点即可。  \n",
    "对于二叉搜索树：中序遍历，使用指针记录前一个节点，统计pre.val的出现次数。"
   ],
   "id": "66fae45e14e46ca8"
  },
  {
   "metadata": {},
   "cell_type": "code",
   "outputs": [],
   "execution_count": null,
   "source": [
    "class Solution:\n",
    "    def searchBST(self, cur):\n",
    "        if cur is None:\n",
    "            return\n",
    "\n",
    "        self.searchBST(cur.left)  # 左\n",
    "        # 中\n",
    "        if self.pre is None:  # 第一个节点\n",
    "            self.count = 1\n",
    "        elif self.pre.val == cur.val:  # 与前一个节点数值相同\n",
    "            self.count += 1\n",
    "        else:  # 与前一个节点数值不同\n",
    "            self.count = 1\n",
    "        self.pre = cur  # 更新上一个节点\n",
    "\n",
    "        if self.count == self.maxCount:  # 如果与最大值频率相同，放进result中\n",
    "            self.result.append(cur.val)\n",
    "\n",
    "        if self.count > self.maxCount:  # 如果计数大于最大值频率\n",
    "            self.maxCount = self.count  # 更新最大频率\n",
    "            self.result = [cur.val]  # 很关键的一步，不要忘记清空result，之前result里的元素都失效了\n",
    "\n",
    "        self.searchBST(cur.right)  # 右\n",
    "        return\n",
    "\n",
    "    def findMode(self, root):\n",
    "        self.count = 0\n",
    "        self.maxCount = 0\n",
    "        self.pre = None  # 记录前一个节点\n",
    "        self.result = []\n",
    "\n",
    "        self.searchBST(root)\n",
    "        return self.result"
   ],
   "id": "816f756049da7ae6"
  },
  {
   "metadata": {},
   "cell_type": "markdown",
   "source": [
    "## 236. 二叉树的最近公共祖先 \n",
    "\n",
    "本题其实是比较难的，可以先看我的视频讲解 \n",
    "\n",
    "https://programmercarl.com/0236.%E4%BA%8C%E5%8F%89%E6%A0%91%E7%9A%84%E6%9C%80%E8%BF%91%E5%85%AC%E5%85%B1%E7%A5%96%E5%85%88.html \n",
    "视频讲解：https://www.bilibili.com/video/BV1jd4y1B7E2   \n"
   ],
   "id": "6056af095f7c33fa"
  },
  {
   "metadata": {},
   "cell_type": "markdown",
   "source": [
    "需要回溯：故后序遍历的搜索  \n",
    "**base case:**  \n",
    "1. 两个节点分别在左右子树，那么当前节点就是最近公共祖先\n",
    "2. 一个节点是另一个节点的祖先，那么最近公共祖先就是这个节点"
   ],
   "id": "e238f1c92acc4998"
  },
  {
   "metadata": {},
   "cell_type": "code",
   "outputs": [],
   "execution_count": null,
   "source": [
    "class Solution:\n",
    "    def lowestCommonAncestor(self, root, p, q):\n",
    "        if root == q or root == p or root is None:\n",
    "            return root\n",
    "\n",
    "        left = self.lowestCommonAncestor(root.left, p, q)\n",
    "        right = self.lowestCommonAncestor(root.right, p, q)\n",
    "\n",
    "        if left is not None and right is not None:\n",
    "            return root\n",
    "\n",
    "        if left is None:\n",
    "            return right\n",
    "        return left"
   ],
   "id": "c581ae4eec986e90"
  }
 ],
 "metadata": {
  "kernelspec": {
   "display_name": "Python 3",
   "language": "python",
   "name": "python3"
  },
  "language_info": {
   "codemirror_mode": {
    "name": "ipython",
    "version": 2
   },
   "file_extension": ".py",
   "mimetype": "text/x-python",
   "name": "python",
   "nbconvert_exporter": "python",
   "pygments_lexer": "ipython2",
   "version": "2.7.6"
  }
 },
 "nbformat": 4,
 "nbformat_minor": 5
}
