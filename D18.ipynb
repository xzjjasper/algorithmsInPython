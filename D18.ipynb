{
 "cells": [
  {
   "metadata": {},
   "cell_type": "markdown",
   "source": "",
   "id": "efd92b438f25a5d9"
  },
  {
   "metadata": {},
   "cell_type": "markdown",
   "source": [
    "## 530.二叉搜索树的最小绝对差 \n",
    "\n",
    "需要领悟一下二叉树遍历上双指针操作，优先掌握递归 \n",
    "题目链接/文章讲解：https://programmercarl.com/0530.%E4%BA%8C%E5%8F%89%E6%90%9C%E7%B4%A2%E6%A0%91%E7%9A%84%E6%9C%80%E5%B0%8F%E7%BB%9D%E5%AF%B9%E5%B7%AE.html \n",
    "视频讲解：https://www.bilibili.com/video/BV1DD4y11779 \n"
   ],
   "id": "bc5db556131c3f73"
  },
  {
   "metadata": {},
   "cell_type": "markdown",
   "source": [
    "## 501.二叉搜索树中的众数 \n",
    "\n",
    "和 530差不多双指针思路，不过 这里涉及到一个很巧妙的代码技巧。\n",
    "\n",
    "可以先自己做做看，然后看我的视频讲解。\n",
    "\n",
    "https://programmercarl.com/0501.%E4%BA%8C%E5%8F%89%E6%90%9C%E7%B4%A2%E6%A0%91%E4%B8%AD%E7%9A%84%E4%BC%97%E6%95%B0.html  \n",
    "视频讲解：https://www.bilibili.com/video/BV1fD4y117gp  \n"
   ],
   "id": "c16845527812a126"
  },
  {
   "metadata": {},
   "cell_type": "markdown",
   "source": [
    "## 236. 二叉树的最近公共祖先 \n",
    "\n",
    "本题其实是比较难的，可以先看我的视频讲解 \n",
    "\n",
    "https://programmercarl.com/0236.%E4%BA%8C%E5%8F%89%E6%A0%91%E7%9A%84%E6%9C%80%E8%BF%91%E5%85%AC%E5%85%B1%E7%A5%96%E5%85%88.html \n",
    "视频讲解：https://www.bilibili.com/video/BV1jd4y1B7E2   \n"
   ],
   "id": "6056af095f7c33fa"
  },
  {
   "cell_type": "code",
   "execution_count": null,
   "id": "initial_id",
   "metadata": {
    "collapsed": true
   },
   "outputs": [],
   "source": [
    ""
   ]
  }
 ],
 "metadata": {
  "kernelspec": {
   "display_name": "Python 3",
   "language": "python",
   "name": "python3"
  },
  "language_info": {
   "codemirror_mode": {
    "name": "ipython",
    "version": 2
   },
   "file_extension": ".py",
   "mimetype": "text/x-python",
   "name": "python",
   "nbconvert_exporter": "python",
   "pygments_lexer": "ipython2",
   "version": "2.7.6"
  }
 },
 "nbformat": 4,
 "nbformat_minor": 5
}
