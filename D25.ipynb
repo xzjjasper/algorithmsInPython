{
 "cells": [
  {
   "metadata": {},
   "cell_type": "markdown",
   "source": [
    "## 491.递增子序列 \n",
    "\n",
    "本题和大家刚做过的 90.子集II 非常像，但又很不一样，很容易掉坑里。 \n",
    "\n",
    "https://programmercarl.com/0491.%E9%80%92%E5%A2%9E%E5%AD%90%E5%BA%8F%E5%88%97.html \n",
    "\n",
    "视频讲解：https://www.bilibili.com/video/BV1EG4y1h78v  \n"
   ],
   "id": "8a185c43b48d8037"
  },
  {
   "metadata": {},
   "cell_type": "markdown",
   "source": [
    "注意：序列有序而集合无序，故序列不能sort，前题去重方法不适用  \n",
    "思路：记录每个起始位置中访问的元素，如果for循环中的当前元素出现过，则跳过  \n",
    "记录的List（或者用set直接去重）需要写在递归层中（而不是在for中或作为全局变量，且无需pop），进入下一层时清空"
   ],
   "id": "aeed72000111e3b3"
  },
  {
   "metadata": {},
   "cell_type": "code",
   "outputs": [],
   "execution_count": null,
   "source": [
    "class Solution:\n",
    "    def findSubsequences(self, nums):\n",
    "        result = []\n",
    "        path = []\n",
    "        self.backtracking(nums, 0, path, result)\n",
    "        return result\n",
    "    \n",
    "    def backtracking(self, nums, startIndex, path, result):\n",
    "        if len(path) > 1:\n",
    "            result.append(path[:])  # 注意要使用切片将当前路径的副本加入结果集\n",
    "            # 注意这里不要加return，要取树上的节点\n",
    "        \n",
    "        uset = set()  # 使用集合对本层元素进行去重\n",
    "        for i in range(startIndex, len(nums)):\n",
    "            if (path and nums[i] < path[-1]) or nums[i] in uset:\n",
    "                continue\n",
    "            \n",
    "            uset.add(nums[i])  # 记录这个元素在本层用过了，本层后面不能再用了\n",
    "            path.append(nums[i])\n",
    "            self.backtracking(nums, i + 1, path, result)\n",
    "            path.pop()"
   ],
   "id": "e5db34ce8362425e"
  },
  {
   "metadata": {},
   "cell_type": "markdown",
   "source": [
    "## 46.全排列 \n",
    "本题重点感受一下，排列问题 与 组合问题，组合总和，子集问题的区别。 为什么排列问题不用 startIndex \n",
    "https://programmercarl.com/0046.%E5%85%A8%E6%8E%92%E5%88%97.html   \n",
    "视频讲解：https://www.bilibili.com/video/BV19v4y1S79W   \n"
   ],
   "id": "60d7b2cc8ec2b0f4"
  },
  {
   "metadata": {},
   "cell_type": "markdown",
   "source": "使用一个boolean数组记录当前元素是否被使用，递归时传递这个数组，如果当前元素已被使用则跳过",
   "id": "48045ee9d2b4d7eb"
  },
  {
   "metadata": {
    "ExecuteTime": {
     "end_time": "2024-07-29T23:57:57.708808Z",
     "start_time": "2024-07-29T23:57:57.682128Z"
    }
   },
   "cell_type": "code",
   "source": [
    "class Solution:\n",
    "    def permute(self, nums):\n",
    "        result = []\n",
    "        self.backtracking(nums, [], [False] * len(nums), result)\n",
    "        return result\n",
    "\n",
    "    def backtracking(self, nums, path, used, result):\n",
    "        if len(path) == len(nums):\n",
    "            result.append(path[:])\n",
    "            return\n",
    "        for i in range(len(nums)):\n",
    "            if used[i]:\n",
    "                continue\n",
    "            used[i] = True\n",
    "            path.append(nums[i])\n",
    "            self.backtracking(nums, path, used, result)\n",
    "            path.pop()\n",
    "            used[i] = False"
   ],
   "id": "86ffb0ed72314e80",
   "outputs": [],
   "execution_count": 3
  },
  {
   "metadata": {},
   "cell_type": "markdown",
   "source": [
    "## 47.全排列 II \n",
    "本题 就是我们讲过的 40.组合总和II 去重逻辑 和 46.全排列 的结合，可以先自己做一下，然后重点看一下 文章中 我讲的拓展内容： used[i - 1] == true 也行，used[i - 1] == false 也行 \n",
    "\n",
    "https://programmercarl.com/0047.%E5%85%A8%E6%8E%92%E5%88%97II.html     \n",
    " \n",
    "视频讲解：https://www.bilibili.com/video/BV1R84y1i7Tm\n"
   ],
   "id": "f436a8cb3387ced7"
  },
  {
   "metadata": {},
   "cell_type": "markdown",
   "source": [
    "可以对nums排序  \n",
    "去重：如果当前元素和前一个元素相同，且前一个元素已被使用，则跳过当前元素  \n",
    "**如果要对树层中前一位去重（在同一层递归的循环中），就用`used[i - 1] == false`，如果要对树枝前一位去重（在子递归层的循环中）用`used[i - 1] == true`**"
   ],
   "id": "8b7c149214e0f7d7"
  },
  {
   "metadata": {},
   "cell_type": "code",
   "outputs": [],
   "execution_count": null,
   "source": [
    "class Solution:\n",
    "    def permuteUnique(self, nums):\n",
    "        nums.sort()  # 排序\n",
    "        result = []\n",
    "        self.backtracking(nums, [], [False] * len(nums), result)\n",
    "        return result\n",
    "\n",
    "    def backtracking(self, nums, path, used, result):\n",
    "        if len(path) == len(nums):\n",
    "            result.append(path[:])\n",
    "            return\n",
    "        for i in range(len(nums)):\n",
    "            if (i > 0 and nums[i] == nums[i - 1] and not used[i - 1]) or used[i]:\n",
    "                continue\n",
    "            used[i] = True\n",
    "            path.append(nums[i])\n",
    "            self.backtracking(nums, path, used, result)\n",
    "            path.pop()\n",
    "            used[i] = False\n"
   ],
   "id": "c595ca605e397ee0"
  },
  {
   "metadata": {},
   "cell_type": "markdown",
   "source": [
    "下面这三道题都非常难，建议大家一刷的时候 可以适当选择跳过。 \n",
    "\n",
    "因为 一刷 也不求大家能把这么难的问题解决，大家目前能了解一下题目的要求，了解一下解题思路，不求能直接写出代码，先大概熟悉一下这些题，二刷的时候，随着对回溯算法的深入理解，再去解决如下三题。 \n",
    "\n"
   ],
   "id": "fb9a5933a18c6c4c"
  },
  {
   "metadata": {},
   "cell_type": "markdown",
   "source": [
    "## 332.重新安排行程（可跳过） \n",
    "本题很难，一刷的录友刷起来 比较费力，可以留给二刷的时候再去解决。\n",
    "本题没有录制视频，当初录视频是按照 《代码随想录》出版的目录来的，当时没有这道题所以就没有录制。\n",
    "https://programmercarl.com/0332.%E9%87%8D%E6%96%B0%E5%AE%89%E6%8E%92%E8%A1%8C%E7%A8%8B.html  \n"
   ],
   "id": "f5b5d09f40bbcdf4"
  },
  {
   "metadata": {},
   "cell_type": "markdown",
   "source": [
    "## 51.N皇后（适当跳过） \n",
    "N皇后这道题目还是很经典的，一刷的录友们建议看看视频了解了解大体思路 就可以 （如果没时间本次就直接跳过） ，先有个印象，二刷的时候重点解决。  \n",
    "\n",
    "https://programmercarl.com/0051.N%E7%9A%87%E5%90%8E.html   \n",
    "视频讲解：https://www.bilibili.com/video/BV1Rd4y1c7Bq \n"
   ],
   "id": "2cca2ece367e94f2"
  },
  {
   "metadata": {},
   "cell_type": "markdown",
   "source": [
    "## 37.解数独（适当跳过）  \n",
    "同样，一刷的录友们建议看看视频了解了解大体思路（如果没时间本次就直接跳过），先有个印象，二刷的时候重点解决。 \n",
    "。\n",
    "https://programmercarl.com/0037.%E8%A7%A3%E6%95%B0%E7%8B%AC.html   \n",
    "视频讲解：https://www.bilibili.com/video/BV1TW4y1471V\n"
   ],
   "id": "a1f6fca53ec85d03"
  },
  {
   "metadata": {},
   "cell_type": "markdown",
   "source": [
    "## 总结  \n",
    "刷了这么多回溯算法的题目，可以做一做总结了！\n",
    "https://programmercarl.com/%E5%9B%9E%E6%BA%AF%E6%80%BB%E7%BB%93.html \n"
   ],
   "id": "59a7385b9286339a"
  }
 ],
 "metadata": {
  "kernelspec": {
   "display_name": "Python 3",
   "language": "python",
   "name": "python3"
  },
  "language_info": {
   "codemirror_mode": {
    "name": "ipython",
    "version": 2
   },
   "file_extension": ".py",
   "mimetype": "text/x-python",
   "name": "python",
   "nbconvert_exporter": "python",
   "pygments_lexer": "ipython2",
   "version": "2.7.6"
  }
 },
 "nbformat": 4,
 "nbformat_minor": 5
}
