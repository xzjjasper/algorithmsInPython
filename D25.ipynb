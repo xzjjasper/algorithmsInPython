{
 "cells": [
  {
   "metadata": {},
   "cell_type": "markdown",
   "source": [
    "## 491.递增子序列 \n",
    "\n",
    "本题和大家刚做过的 90.子集II 非常像，但又很不一样，很容易掉坑里。 \n",
    "\n",
    "https://programmercarl.com/0491.%E9%80%92%E5%A2%9E%E5%AD%90%E5%BA%8F%E5%88%97.html \n",
    "\n",
    "视频讲解：https://www.bilibili.com/video/BV1EG4y1h78v  \n"
   ],
   "id": "8a185c43b48d8037"
  },
  {
   "metadata": {},
   "cell_type": "markdown",
   "source": [
    "## 46.全排列 \n",
    "本题重点感受一下，排列问题 与 组合问题，组合总和，子集问题的区别。 为什么排列问题不用 startIndex \n",
    "https://programmercarl.com/0046.%E5%85%A8%E6%8E%92%E5%88%97.html   \n",
    "视频讲解：https://www.bilibili.com/video/BV19v4y1S79W   \n"
   ],
   "id": "60d7b2cc8ec2b0f4"
  },
  {
   "metadata": {},
   "cell_type": "markdown",
   "source": [
    "## 47.全排列 II \n",
    "本题 就是我们讲过的 40.组合总和II 去重逻辑 和 46.全排列 的结合，可以先自己做一下，然后重点看一下 文章中 我讲的拓展内容： used[i - 1] == true 也行，used[i - 1] == false 也行 \n",
    "\n",
    "https://programmercarl.com/0047.%E5%85%A8%E6%8E%92%E5%88%97II.html     \n",
    " \n",
    "视频讲解：https://www.bilibili.com/video/BV1R84y1i7Tm\n",
    "\n",
    "下面这三道题都非常难，建议大家一刷的时候 可以适当选择跳过。 \n",
    "\n",
    "因为 一刷 也不求大家能把这么难的问题解决，大家目前能了解一下题目的要求，了解一下解题思路，不求能直接写出代码，先大概熟悉一下这些题，二刷的时候，随着对回溯算法的深入理解，再去解决如下三题。 \n",
    "\n"
   ],
   "id": "fb9a5933a18c6c4c"
  },
  {
   "metadata": {},
   "cell_type": "markdown",
   "source": [
    "## 332.重新安排行程（可跳过） \n",
    "本题很难，一刷的录友刷起来 比较费力，可以留给二刷的时候再去解决。\n",
    "本题没有录制视频，当初录视频是按照 《代码随想录》出版的目录来的，当时没有这道题所以就没有录制。\n",
    "https://programmercarl.com/0332.%E9%87%8D%E6%96%B0%E5%AE%89%E6%8E%92%E8%A1%8C%E7%A8%8B.html  \n"
   ],
   "id": "f5b5d09f40bbcdf4"
  },
  {
   "metadata": {},
   "cell_type": "markdown",
   "source": [
    "## 51.N皇后（适当跳过） \n",
    "N皇后这道题目还是很经典的，一刷的录友们建议看看视频了解了解大体思路 就可以 （如果没时间本次就直接跳过） ，先有个印象，二刷的时候重点解决。  \n",
    "\n",
    "https://programmercarl.com/0051.N%E7%9A%87%E5%90%8E.html   \n",
    "视频讲解：https://www.bilibili.com/video/BV1Rd4y1c7Bq \n"
   ],
   "id": "2cca2ece367e94f2"
  },
  {
   "metadata": {},
   "cell_type": "markdown",
   "source": [
    "## 37.解数独（适当跳过）  \n",
    "同样，一刷的录友们建议看看视频了解了解大体思路（如果没时间本次就直接跳过），先有个印象，二刷的时候重点解决。 \n",
    "。\n",
    "https://programmercarl.com/0037.%E8%A7%A3%E6%95%B0%E7%8B%AC.html   \n",
    "视频讲解：https://www.bilibili.com/video/BV1TW4y1471V\n"
   ],
   "id": "a1f6fca53ec85d03"
  },
  {
   "metadata": {},
   "cell_type": "markdown",
   "source": [
    "## 总结  \n",
    "刷了这么多回溯算法的题目，可以做一做总结了！\n",
    "https://programmercarl.com/%E5%9B%9E%E6%BA%AF%E6%80%BB%E7%BB%93.html \n"
   ],
   "id": "59a7385b9286339a"
  },
  {
   "cell_type": "code",
   "execution_count": null,
   "id": "initial_id",
   "metadata": {
    "collapsed": true
   },
   "outputs": [],
   "source": [
    ""
   ]
  }
 ],
 "metadata": {
  "kernelspec": {
   "display_name": "Python 3",
   "language": "python",
   "name": "python3"
  },
  "language_info": {
   "codemirror_mode": {
    "name": "ipython",
    "version": 2
   },
   "file_extension": ".py",
   "mimetype": "text/x-python",
   "name": "python",
   "nbconvert_exporter": "python",
   "pygments_lexer": "ipython2",
   "version": "2.7.6"
  }
 },
 "nbformat": 4,
 "nbformat_minor": 5
}
