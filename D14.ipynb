{
 "cells": [
  {
   "metadata": {},
   "cell_type": "markdown",
   "source": [
    "## 226.翻转二叉树 （优先掌握递归） \n",
    "\n",
    "这道题目 一些做过的同学 理解的也不够深入，建议大家先看我的视频讲解，无论做过没做过，都会有很大收获。\n",
    "\n",
    "题目链接/文章讲解/视频讲解：https://programmercarl.com/0226.%E7%BF%BB%E8%BD%AC%E4%BA%8C%E5%8F%89%E6%A0%91.html \n"
   ],
   "id": "8b4bdd68cb8e73c8"
  },
  {
   "metadata": {},
   "cell_type": "markdown",
   "source": [
    "思路：交换左右子树  \n",
    "实现：DFS/BFS皆可  \n",
    "DFS：可使用前序和后序遍历，中序遍历不行：某些节点会交换两次  \n",
    "BFS：层序遍历"
   ],
   "id": "18d36c4934986204"
  },
  {
   "metadata": {},
   "cell_type": "markdown",
   "source": [
    "## 101. 对称二叉树 （优先掌握递归）  \n",
    "\n",
    "先看视频讲解，会更容易一些。 \n",
    "\n",
    "题目链接/文章讲解/视频讲解：https://programmercarl.com/0101.%E5%AF%B9%E7%A7%B0%E4%BA%8C%E5%8F%89%E6%A0%91.html  \n",
    "\n"
   ],
   "id": "f037426c3144315b"
  },
  {
   "metadata": {},
   "cell_type": "markdown",
   "source": [
    "对称轴只有一个：root，所以root应该被摘出来，然后比较左右子树是否对称  \n",
    "后序遍历：一侧子树：左右中，另一侧子树：右左中  \n",
    "**递归法**：左子树的左子树和右子树的右子树对称，左子树的右子树和右子树的左子树对称  \n",
    "**迭代法**：使用队列，每次取出两个节点比较，放入两个节点的左右子树，注意入队顺序"
   ],
   "id": "fbe590a2ccda0eae"
  },
  {
   "metadata": {},
   "cell_type": "code",
   "outputs": [],
   "execution_count": null,
   "source": [
    "class Solution:\n",
    "    def isSymmetric(self, root: Optional[TreeNode]) -> bool:\n",
    "        def helper(rootA, rootB) -> bool:\n",
    "            if rootA == rootB:\n",
    "                return True\n",
    "            elif not rootA or not rootB:\n",
    "                return False\n",
    "            if rootA.val != rootB.val:\n",
    "                return False\n",
    "            else:\n",
    "                return helper(rootA.left, rootB.right) and helper(rootA.right, rootB.left)\n",
    "        if not root:\n",
    "            return True\n",
    "        return helper(root.left,root.right)\n",
    "        "
   ],
   "id": "e0afbc9898a968e6"
  },
  {
   "metadata": {},
   "cell_type": "code",
   "outputs": [],
   "execution_count": null,
   "source": [
    "import collections\n",
    "class Solution:\n",
    "    def isSymmetric(self, root: TreeNode) -> bool:\n",
    "        if not root:\n",
    "            return True\n",
    "        queue = collections.deque()\n",
    "        queue.append(root.left) #将左子树头结点加入队列\n",
    "        queue.append(root.right) #将右子树头结点加入队列\n",
    "        while queue: #接下来就要判断这这两个树是否相互翻转\n",
    "            leftNode = queue.popleft()\n",
    "            rightNode = queue.popleft()\n",
    "            if not leftNode and not rightNode: #左节点为空、右节点为空，此时说明是对称的\n",
    "                continue\n",
    "            \n",
    "            #左右一个节点不为空，或者都不为空但数值不相同，返回false\n",
    "            if not leftNode or not rightNode or leftNode.val != rightNode.val:\n",
    "                return False\n",
    "            queue.append(leftNode.left) #加入左节点左孩子\n",
    "            queue.append(rightNode.right) #加入右节点右孩子\n",
    "            queue.append(leftNode.right) #加入左节点右孩子\n",
    "            queue.append(rightNode.left) #加入右节点左孩子\n",
    "        return True"
   ],
   "id": "c164db14c95002fa"
  },
  {
   "metadata": {},
   "cell_type": "markdown",
   "source": [
    "## 104.二叉树的最大深度 （优先掌握递归）\n",
    "\n",
    "什么是深度，什么是高度，如何求深度，如何求高度，这里有关系到二叉树的遍历方式。\n",
    "\n",
    "大家 要先看视频讲解，就知道以上我说的内容了，很多录友刷过这道题，但理解的还不够。\n",
    "\n",
    "题目链接/文章讲解/视频讲解： https://programmercarl.com/0104.%E4%BA%8C%E5%8F%89%E6%A0%91%E7%9A%84%E6%9C%80%E5%A4%A7%E6%B7%B1%E5%BA%A6.html  \n"
   ],
   "id": "35dfc41ce24aa9e2"
  },
  {
   "metadata": {},
   "cell_type": "markdown",
   "source": [
    "BFS: 层序遍历，每遍历一层，深度+1  \n",
    "DFS: 后序遍历，左右子树深度的最大值+1"
   ],
   "id": "a903cf5c8d8f9eff"
  },
  {
   "metadata": {},
   "cell_type": "code",
   "outputs": [],
   "execution_count": null,
   "source": "",
   "id": "e72e533880d9fd72"
  },
  {
   "metadata": {},
   "cell_type": "markdown",
   "source": [
    "## 111.二叉树的最小深度 （优先掌握递归）\n",
    "\n",
    "先看视频讲解，和最大深度 看似差不多，其实 差距还挺大，有坑。\n",
    "\n",
    "题目链接/文章讲解/视频讲解：https://programmercarl.com/0111.%E4%BA%8C%E5%8F%89%E6%A0%91%E7%9A%84%E6%9C%80%E5%B0%8F%E6%B7%B1%E5%BA%A6.html \n",
    "\n"
   ],
   "id": "f6726e879d702a48"
  },
  {
   "metadata": {},
   "cell_type": "markdown",
   "source": [
    "BFS: 层序遍历，遇到叶子节点就返回深度  \n",
    "DFS: 后序遍历，但不是简单的左右子树深度的最小值+1：非叶子节点的左右子树有一个为空的时候，返回的是非空子树的深度+1"
   ],
   "id": "a4d92c79512ceef8"
  },
  {
   "cell_type": "code",
   "execution_count": null,
   "id": "initial_id",
   "metadata": {
    "collapsed": true
   },
   "outputs": [],
   "source": [
    "class Solution:\n",
    "    def minDepth(self, root: Optional[TreeNode]) -> int:\n",
    "        def helper(root: Optional[TreeNode]) -> int:\n",
    "            if not root:\n",
    "                return 0\n",
    "            else:\n",
    "                if root.left == root.right:\n",
    "                    return 1\n",
    "                elif not root.left:\n",
    "                    return helper(root.right) + 1\n",
    "                elif not root.right:\n",
    "                    return helper(root.left) + 1\n",
    "                return min(helper(root.left), helper(root.right)) + 1\n",
    "        return helper(root)"
   ]
  }
 ],
 "metadata": {
  "kernelspec": {
   "display_name": "Python 3",
   "language": "python",
   "name": "python3"
  },
  "language_info": {
   "codemirror_mode": {
    "name": "ipython",
    "version": 2
   },
   "file_extension": ".py",
   "mimetype": "text/x-python",
   "name": "python",
   "nbconvert_exporter": "python",
   "pygments_lexer": "ipython2",
   "version": "2.7.6"
  }
 },
 "nbformat": 4,
 "nbformat_minor": 5
}
