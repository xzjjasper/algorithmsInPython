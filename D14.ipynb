{
 "cells": [
  {
   "metadata": {},
   "cell_type": "markdown",
   "source": [
    "## 226.翻转二叉树 （优先掌握递归） \n",
    "\n",
    "这道题目 一些做过的同学 理解的也不够深入，建议大家先看我的视频讲解，无论做过没做过，都会有很大收获。\n",
    "\n",
    "题目链接/文章讲解/视频讲解：https://programmercarl.com/0226.%E7%BF%BB%E8%BD%AC%E4%BA%8C%E5%8F%89%E6%A0%91.html \n"
   ],
   "id": "8b4bdd68cb8e73c8"
  },
  {
   "metadata": {},
   "cell_type": "markdown",
   "source": [
    "## 101. 对称二叉树 （优先掌握递归）  \n",
    "\n",
    "先看视频讲解，会更容易一些。 \n",
    "\n",
    "题目链接/文章讲解/视频讲解：https://programmercarl.com/0101.%E5%AF%B9%E7%A7%B0%E4%BA%8C%E5%8F%89%E6%A0%91.html  \n",
    "\n"
   ],
   "id": "f037426c3144315b"
  },
  {
   "metadata": {},
   "cell_type": "markdown",
   "source": [
    "## 104.二叉树的最大深度 （优先掌握递归）\n",
    "\n",
    "什么是深度，什么是高度，如何求深度，如何求高度，这里有关系到二叉树的遍历方式。\n",
    "\n",
    "大家 要先看视频讲解，就知道以上我说的内容了，很多录友刷过这道题，但理解的还不够。\n",
    "\n",
    "题目链接/文章讲解/视频讲解： https://programmercarl.com/0104.%E4%BA%8C%E5%8F%89%E6%A0%91%E7%9A%84%E6%9C%80%E5%A4%A7%E6%B7%B1%E5%BA%A6.html  \n"
   ],
   "id": "35dfc41ce24aa9e2"
  },
  {
   "metadata": {},
   "cell_type": "markdown",
   "source": [
    "## 111.二叉树的最小深度 （优先掌握递归）\n",
    "\n",
    "先看视频讲解，和最大深度 看似差不多，其实 差距还挺大，有坑。\n",
    "\n",
    "题目链接/文章讲解/视频讲解：https://programmercarl.com/0111.%E4%BA%8C%E5%8F%89%E6%A0%91%E7%9A%84%E6%9C%80%E5%B0%8F%E6%B7%B1%E5%BA%A6.html \n",
    "\n"
   ],
   "id": "f6726e879d702a48"
  },
  {
   "cell_type": "code",
   "execution_count": null,
   "id": "initial_id",
   "metadata": {
    "collapsed": true
   },
   "outputs": [],
   "source": [
    ""
   ]
  }
 ],
 "metadata": {
  "kernelspec": {
   "display_name": "Python 3",
   "language": "python",
   "name": "python3"
  },
  "language_info": {
   "codemirror_mode": {
    "name": "ipython",
    "version": 2
   },
   "file_extension": ".py",
   "mimetype": "text/x-python",
   "name": "python",
   "nbconvert_exporter": "python",
   "pygments_lexer": "ipython2",
   "version": "2.7.6"
  }
 },
 "nbformat": 4,
 "nbformat_minor": 5
}
