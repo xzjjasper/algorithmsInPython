{
 "cells": [
  {
   "metadata": {},
   "cell_type": "markdown",
   "source": "# 代码随想录算法训练营第三天｜203.移除链表元素，707.设计链表，206.反转链表 \n",
   "id": "ae65d14c382edbcf"
  },
  {
   "metadata": {},
   "cell_type": "markdown",
   "source": [
    "## 链表理论基础 \n",
    "\n",
    "建议：了解一下链表基础，以及链表和数组的区别 \n",
    "\n",
    "文章链接：https://programmercarl.com/%E9%93%BE%E8%A1%A8%E7%90%86%E8%AE%BA%E5%9F%BA%E7%A1%80.html"
   ],
   "id": "67212587eb5386c0"
  },
  {
   "metadata": {},
   "cell_type": "markdown",
   "source": [
    "\n",
    "## 203.移除链表元素  \n",
    "\n",
    "建议： 理解 虚拟头结点的使用技巧，这个对链表题目很重要。\n",
    "\n",
    "题目链接/文章讲解/视频讲解：：https://programmercarl.com/0203.%E7%A7%BB%E9%99%A4%E9%93%BE%E8%A1%A8%E5%85%83%E7%B4%A0.html"
   ],
   "id": "f81dc259902141bb"
  },
  {
   "metadata": {},
   "cell_type": "markdown",
   "source": [
    "Dummy head: 避免删除头结点的特殊情况，可以使用虚拟头结点，可以将所有节点的删除操作统一化。  \n",
    "只需一个指针：循环条件是当前节点的下一个节点不为空。"
   ],
   "id": "d94db119c44df215"
  },
  {
   "metadata": {},
   "cell_type": "code",
   "outputs": [],
   "execution_count": null,
   "source": [
    "from typing import Optional\n",
    "# Definition for singly-linked list.\n",
    "class ListNode:\n",
    "    def __init__(self, val=0, next=None):\n",
    "        self.val = val\n",
    "        self.next = next\n",
    "class Solution:\n",
    "    def removeElements(self, head: Optional[ListNode], val: int) -> Optional[ListNode]:\n",
    "        # 创建虚拟头部节点以简化删除过程\n",
    "        dummy_head = ListNode(next = head)\n",
    "        \n",
    "        # 遍历列表并删除值为val的节点\n",
    "        current = dummy_head\n",
    "        while current.next:\n",
    "            if current.next.val == val:\n",
    "                current.next = current.next.next\n",
    "            else:\n",
    "                current = current.next\n",
    "        \n",
    "        return dummy_head.next"
   ],
   "id": "bfb6594d67b4a281"
  },
  {
   "metadata": {},
   "cell_type": "markdown",
   "source": [
    "## 707.设计链表  \n",
    "\n",
    "\n",
    "题目链接: https://leetcode.com/problems/design-linked-list/description/\n",
    "文章讲解/视频讲解：https://programmercarl.com/0707.%E8%AE%BE%E8%AE%A1%E9%93%BE%E8%A1%A8.html\n"
   ],
   "id": "387abb0aced09553"
  },
  {
   "metadata": {},
   "cell_type": "markdown",
   "source": [
    "核心：确定目标节点是prev还是next还是curr\n",
    "共计size+2个节点，index = i 的节点前有`i+1`个节点，后有`size-i`个节点  \n",
    "get()\n",
    " - 从前往后：找到curr， `i`\n",
    " - 从后往前：找到curr， `size-i`  \n",
    "\n",
    "add(Index):\n",
    " - 从前往后：找到prev， `i`\n",
    " - 从后往前：找到curr， `size-i`  \n",
    "\n",
    "remove(Index):\n",
    " - 从前往后：找到prev， `i`\n",
    " - 从后往前：找到next， `size-i-1`"
   ],
   "id": "511b4ddf1e7caf08"
  },
  {
   "metadata": {
    "ExecuteTime": {
     "end_time": "2024-07-06T13:50:15.589394Z",
     "start_time": "2024-07-06T13:50:15.573212Z"
    }
   },
   "cell_type": "code",
   "source": [
    "# DLL with dummy head & tail\n",
    "class ListNode:\n",
    "    def __init__(self, val=0, next=None, prev=None):\n",
    "        self.val = val\n",
    "        self.next = next\n",
    "        self.prev = prev\n",
    "\n",
    "class MyLinkedList:\n",
    "    def __init__(self):\n",
    "        self.dummy_head = ListNode()\n",
    "        self.dummy_tail = ListNode(prev=self.dummy_head)\n",
    "        self.dummy_head.next = self.dummy_tail\n",
    "        self.size = 0\n",
    "\n",
    "    def get(self, index: int) -> int:\n",
    "        if index >= self.size or index < 0:\n",
    "            return -1\n",
    "        elif index < self.size//2:\n",
    "            curr = self.dummy_head.next\n",
    "            for i in range(index):\n",
    "                curr = curr.next\n",
    "        else:\n",
    "            curr = self.dummy_tail\n",
    "            for i in range(self.size - index):\n",
    "                curr = curr.prev\n",
    "        return curr.val\n",
    "\n",
    "    def addAtHead(self, val: int) -> None:\n",
    "        self.dummy_head.next = ListNode(val, self.dummy_head.next, self.dummy_head)\n",
    "        self.dummy_head.next.next.prev = self.dummy_head.next\n",
    "        self.size += 1\n",
    "\n",
    "    def addAtTail(self, val: int) -> None:\n",
    "        self.dummy_tail.prev = ListNode(val, self.dummy_tail, self.dummy_tail.prev)\n",
    "        self.dummy_tail.prev.prev.next = self.dummy_tail.prev\n",
    "        self.size += 1\n",
    "\n",
    "    def addAtIndex(self, index: int, val: int) -> None:\n",
    "        if index > self.size or index < 0:\n",
    "            return\n",
    "        elif index < self.size//2:\n",
    "            curr = self.dummy_head\n",
    "            for i in range(index):\n",
    "                curr = curr.next\n",
    "            curr.next = ListNode(val,curr.next,curr)\n",
    "            curr.next.next.prev = curr.next\n",
    "        else:\n",
    "            curr = self.dummy_tail\n",
    "            for i in range(self.size - index):\n",
    "                curr = curr.prev\n",
    "            curr.prev = ListNode(val,curr,curr.prev)\n",
    "            curr.prev.prev.next = curr.prev\n",
    "        self.size += 1\n",
    "\n",
    "    def deleteAtIndex(self, index: int) -> None:\n",
    "        if index >= self.size or index < 0:\n",
    "            return\n",
    "        elif index < self.size//2:\n",
    "            curr = self.dummy_head\n",
    "            for i in range(index):\n",
    "                curr = curr.next\n",
    "            curr.next = curr.next.next\n",
    "            curr.next.prev = curr\n",
    "        else:\n",
    "            curr = self.dummy_tail\n",
    "            for i in range(self.size - index - 1):\n",
    "                curr = curr.prev\n",
    "            curr.prev = curr.prev.prev\n",
    "            curr.prev.next = curr\n",
    "        self.size -= 1"
   ],
   "id": "50becd73a949a651",
   "outputs": [],
   "execution_count": 2
  },
  {
   "metadata": {},
   "cell_type": "markdown",
   "source": [
    "## 206.反转链表 \n",
    "\n",
    "\n",
    "题目链接: https://leetcode.com/problems/reverse-linked-list/\n",
    "文章讲解/视频讲解：https://programmercarl.com/0206.%E7%BF%BB%E8%BD%AC%E9%93%BE%E8%A1%A8.html \n"
   ],
   "id": "fb00876196d19edc"
  },
  {
   "metadata": {},
   "cell_type": "markdown",
   "source": [
    "## 双指针法\n",
    "需要三个指针，分别指向当前节点，前一个节点，后一个节点（先于反转操作）"
   ],
   "id": "f1d5f24bf0ad099d"
  },
  {
   "metadata": {},
   "cell_type": "code",
   "outputs": [],
   "execution_count": null,
   "source": [
    "# Definition for singly-linked list.\n",
    "# class ListNode:\n",
    "#     def __init__(self, val=0, next=None):\n",
    "#         self.val = val\n",
    "#         self.next = next\n",
    "class Solution:\n",
    "    def reverseList(self, head: ListNode) -> ListNode:\n",
    "        cur = head   \n",
    "        pre = None\n",
    "        while cur:\n",
    "            temp = cur.next # 保存一下 cur的下一个节点，因为接下来要改变cur->next\n",
    "            cur.next = pre #反转\n",
    "            #更新pre、cur指针\n",
    "            pre = cur\n",
    "            cur = temp\n",
    "        return pre"
   ],
   "id": "fe22cf96f0624da5"
  },
  {
   "metadata": {},
   "cell_type": "markdown",
   "source": "## 递归法\n",
   "id": "92c34143a6df4404"
  },
  {
   "metadata": {},
   "cell_type": "code",
   "outputs": [],
   "execution_count": null,
   "source": [
    "class Solution:\n",
    "    def reverseList(self, head: ListNode) -> ListNode:\n",
    "        return self.reverse(head, None)\n",
    "    def reverse(self, cur: ListNode, pre: ListNode) -> ListNode:\n",
    "        if cur == None:\n",
    "            return pre\n",
    "        temp = cur.next\n",
    "        cur.next = pre\n",
    "        return self.reverse(temp, cur)\n"
   ],
   "id": "e164d5e119f5d180"
  }
 ],
 "metadata": {
  "kernelspec": {
   "display_name": "Python 3",
   "language": "python",
   "name": "python3"
  },
  "language_info": {
   "codemirror_mode": {
    "name": "ipython",
    "version": 2
   },
   "file_extension": ".py",
   "mimetype": "text/x-python",
   "name": "python",
   "nbconvert_exporter": "python",
   "pygments_lexer": "ipython2",
   "version": "2.7.6"
  }
 },
 "nbformat": 4,
 "nbformat_minor": 5
}
