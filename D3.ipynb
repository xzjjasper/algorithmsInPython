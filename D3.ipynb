{
 "cells": [
  {
   "cell_type": "code",
   "execution_count": null,
   "id": "initial_id",
   "metadata": {
    "collapsed": true
   },
   "outputs": [],
   "source": [
    ""
   ]
  },
  {
   "metadata": {},
   "cell_type": "code",
   "outputs": [],
   "execution_count": null,
   "source": "",
   "id": "206da1b46ca25c76"
  },
  {
   "metadata": {},
   "cell_type": "markdown",
   "source": "",
   "id": "fa4d1e5b720aa9a5"
  },
  {
   "metadata": {},
   "cell_type": "markdown",
   "source": "# 代码随想录算法训练营第三天｜203.移除链表元素，707.设计链表，206.反转链表 \n",
   "id": "ae65d14c382edbcf"
  },
  {
   "metadata": {},
   "cell_type": "markdown",
   "source": [
    "## 链表理论基础 \n",
    "\n",
    "建议：了解一下链表基础，以及链表和数组的区别 \n",
    "\n",
    "文章链接：https://programmercarl.com/%E9%93%BE%E8%A1%A8%E7%90%86%E8%AE%BA%E5%9F%BA%E7%A1%80.html"
   ],
   "id": "67212587eb5386c0"
  },
  {
   "metadata": {},
   "cell_type": "markdown",
   "source": [
    "\n",
    "## 203.移除链表元素  \n",
    "\n",
    "建议： 本题最关键是要理解 虚拟头结点的使用技巧，这个对链表题目很重要。\n",
    "\n",
    "题目链接/文章讲解/视频讲解：：https://programmercarl.com/0203.%E7%A7%BB%E9%99%A4%E9%93%BE%E8%A1%A8%E5%85%83%E7%B4%A0.html"
   ],
   "id": "f81dc259902141bb"
  },
  {
   "metadata": {},
   "cell_type": "markdown",
   "source": "Dumb head:",
   "id": "d94db119c44df215"
  },
  {
   "metadata": {},
   "cell_type": "code",
   "outputs": [],
   "execution_count": null,
   "source": "",
   "id": "bfb6594d67b4a281"
  },
  {
   "metadata": {},
   "cell_type": "markdown",
   "source": [
    "## 707.设计链表  \n",
    "\n",
    "建议： 这是一道考察 链表综合操作的题目，不算容易，可以练一练 使用虚拟头结点\n",
    "\n",
    "题目链接/文章讲解/视频讲解：https://programmercarl.com/0707.%E8%AE%BE%E8%AE%A1%E9%93%BE%E8%A1%A8.html\n"
   ],
   "id": "387abb0aced09553"
  },
  {
   "metadata": {},
   "cell_type": "markdown",
   "source": [
    "## 206.反转链表 \n",
    "\n",
    "建议先看我的视频讲解，视频讲解中对 反转链表需要注意的点讲的很清晰了，看完之后大家的疑惑基本都解决了。\n",
    "\n",
    "题目链接/文章讲解/视频讲解：https://programmercarl.com/0206.%E7%BF%BB%E8%BD%AC%E9%93%BE%E8%A1%A8.html \n"
   ],
   "id": "fb00876196d19edc"
  }
 ],
 "metadata": {
  "kernelspec": {
   "display_name": "Python 3",
   "language": "python",
   "name": "python3"
  },
  "language_info": {
   "codemirror_mode": {
    "name": "ipython",
    "version": 2
   },
   "file_extension": ".py",
   "mimetype": "text/x-python",
   "name": "python",
   "nbconvert_exporter": "python",
   "pygments_lexer": "ipython2",
   "version": "2.7.6"
  }
 },
 "nbformat": 4,
 "nbformat_minor": 5
}
