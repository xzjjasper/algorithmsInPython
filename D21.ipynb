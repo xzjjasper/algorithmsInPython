{
 "cells": [
  {
   "metadata": {},
   "cell_type": "markdown",
   "source": [
    "## 669. 修剪二叉搜索树 \n",
    "\n",
    "这道题目比较难，比 添加增加和删除节点难的多，建议先看视频理解。\n",
    "\n",
    "题目链接/文章讲解： https://programmercarl.com/0669.%E4%BF%AE%E5%89%AA%E4%BA%8C%E5%8F%89%E6%90%9C%E7%B4%A2%E6%A0%91.html  \n",
    "视频讲解： https://www.bilibili.com/video/BV17P41177ud  \n"
   ],
   "id": "b9fb8e7621e5ce10"
  },
  {
   "metadata": {},
   "cell_type": "markdown",
   "source": "前序遍历：因为当前节点如果不在区间内，就不应返回当前节点，而是递归左右孩子中靠近区间的节点。",
   "id": "fd20cbb819b2b683"
  },
  {
   "metadata": {},
   "cell_type": "code",
   "outputs": [],
   "execution_count": null,
   "source": [
    "class Solution:\n",
    "    def trimBST(self, root: TreeNode, low: int, high: int) -> TreeNode:\n",
    "        if root is None:\n",
    "            return None\n",
    "        if root.val < low:\n",
    "            # 寻找符合区间 [low, high] 的节点\n",
    "            return self.trimBST(root.right, low, high)\n",
    "        if root.val > high:\n",
    "            # 寻找符合区间 [low, high] 的节点\n",
    "            return self.trimBST(root.left, low, high)\n",
    "        root.left = self.trimBST(root.left, low, high)  # root.left 接入符合条件的左孩子\n",
    "        root.right = self.trimBST(root.right, low, high)  # root.right 接入符合条件的右孩子\n",
    "        return root"
   ],
   "id": "cb6631f410ab7088"
  },
  {
   "metadata": {},
   "cell_type": "markdown",
   "source": [
    "## 108.将有序数组转换为二叉搜索树  \n",
    "\n",
    "本题就简单一些，可以尝试先自己做做。\n",
    "\n",
    "https://programmercarl.com/0108.%E5%B0%86%E6%9C%89%E5%BA%8F%E6%95%B0%E7%BB%84%E8%BD%AC%E6%8D%A2%E4%B8%BA%E4%BA%8C%E5%8F%89%E6%90%9C%E7%B4%A2%E6%A0%91.html  \n",
    "视频讲解：https://www.bilibili.com/video/BV1uR4y1X7qL  \n"
   ],
   "id": "bd8d89772b75adbb"
  },
  {
   "metadata": {},
   "cell_type": "markdown",
   "source": "取中位数作为根节点，递归构建左右子树。",
   "id": "5acfab71f9d9f05b"
  },
  {
   "metadata": {},
   "cell_type": "code",
   "outputs": [],
   "execution_count": null,
   "source": [
    "class Solution:\n",
    "    def sortedArrayToBST(self, nums: List[int]) -> Optional[TreeNode]:\n",
    "        if not nums:\n",
    "            return\n",
    "        mid = len(nums) // 2\n",
    "        root = TreeNode(nums[mid])\n",
    "        root.left = self.sortedArrayToBST(nums[:mid])\n",
    "        root.right = self.sortedArrayToBST(nums[mid + 1 :])\n",
    "        return root"
   ],
   "id": "c26b9e97f3cff0d0"
  },
  {
   "metadata": {},
   "cell_type": "markdown",
   "source": [
    "## 538.把二叉搜索树转换为累加树  \n",
    "\n",
    "本题也不难，在 求二叉搜索树的最小绝对差 和 众数 那两道题目 都讲过了 双指针法，思路是一样的。\n",
    "\n",
    "https://programmercarl.com/0538.%E6%8A%8A%E4%BA%8C%E5%8F%89%E6%90%9C%E7%B4%A2%E6%A0%91%E8%BD%AC%E6%8D%A2%E4%B8%BA%E7%B4%AF%E5%8A%A0%E6%A0%91.html  \n",
    "视频讲解：https://www.bilibili.com/video/BV1d44y1f7wP\n",
    " "
   ],
   "id": "f2f7ca5742fbccde"
  },
  {
   "metadata": {},
   "cell_type": "markdown",
   "source": [
    "## 总结篇  \n",
    "\n",
    "好了，二叉树大家就这样刷完了，做一个总结吧\n",
    "\n",
    "https://programmercarl.com/%E4%BA%8C%E5%8F%89%E6%A0%91%E6%80%BB%E7%BB%93%E7%AF%87.html   \n",
    "\n"
   ],
   "id": "4378b9fd6978376a"
  },
  {
   "cell_type": "code",
   "execution_count": null,
   "id": "initial_id",
   "metadata": {
    "collapsed": true
   },
   "outputs": [],
   "source": [
    ""
   ]
  }
 ],
 "metadata": {
  "kernelspec": {
   "display_name": "Python 3",
   "language": "python",
   "name": "python3"
  },
  "language_info": {
   "codemirror_mode": {
    "name": "ipython",
    "version": 2
   },
   "file_extension": ".py",
   "mimetype": "text/x-python",
   "name": "python",
   "nbconvert_exporter": "python",
   "pygments_lexer": "ipython2",
   "version": "2.7.6"
  }
 },
 "nbformat": 4,
 "nbformat_minor": 5
}
