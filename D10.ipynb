{
 "cells": [
  {
   "metadata": {},
   "cell_type": "markdown",
   "source": "# 代码随想录算法训练营第十天｜栈与队列",
   "id": "60229be840207e6a"
  },
  {
   "metadata": {},
   "cell_type": "markdown",
   "source": [
    "## 理论基础 \n",
    "\n",
    "了解一下 栈与队列的内部实现机制，文中是以C++为例讲解的。 \n",
    "\n",
    "文章讲解：https://programmercarl.com/%E6%A0%88%E4%B8%8E%E9%98%9F%E5%88%97%E7%90%86%E8%AE%BA%E5%9F%BA%E7%A1%80.html   \n"
   ],
   "id": "3e0c9b879b0591aa"
  },
  {
   "metadata": {},
   "cell_type": "markdown",
   "source": [
    "## 232.用栈实现队列 \n",
    "\n",
    "大家可以先看视频，了解一下模拟的过程，然后写代码会轻松很多。\n",
    "\n",
    "题目链接/文章讲解/视频讲解：https://programmercarl.com/0232.%E7%94%A8%E6%A0%88%E5%AE%9E%E7%8E%B0%E9%98%9F%E5%88%97.html   \n"
   ],
   "id": "2c403ea706189c44"
  },
  {
   "metadata": {},
   "cell_type": "markdown",
   "source": "使用两个栈：输入栈和输出栈。当输出栈为空时，将输入栈的元素全部弹出并压入输出栈。输出栈的栈顶元素就是队列的队首元素，可以弹出。",
   "id": "bce4740edbb0fd31"
  },
  {
   "metadata": {},
   "cell_type": "markdown",
   "source": [
    "## 225. 用队列实现栈 \n",
    "\n",
    "可能大家惯性思维，以为还要两个队列来模拟栈，其实只用一个队列就可以模拟栈了。 \n",
    "\n",
    "建议大家掌握一个队列的方法，更简单一些，可以先看视频讲解\n",
    "\n",
    "题目链接/文章讲解/视频讲解：https://programmercarl.com/0225.%E7%94%A8%E9%98%9F%E5%88%97%E5%AE%9E%E7%8E%B0%E6%A0%88.html  \n",
    "\n"
   ],
   "id": "15c045276dd4619b"
  },
  {
   "metadata": {},
   "cell_type": "markdown",
   "source": "使用一个队列，每次入栈时，将新元素入队，然后将队列的元素全部弹出并压入队列。这样队列的队首元素就是栈顶元素，可以弹出。",
   "id": "ac6411508ebaee3"
  },
  {
   "metadata": {},
   "cell_type": "markdown",
   "source": [
    "## 20. 有效的括号 \n",
    "\n",
    "讲完了栈实现队列，队列实现栈，接下来就是栈的经典应用了。 \n",
    "\n",
    "大家先自己思考一下 有哪些不匹配的场景，在看视频 我讲的都有哪些场景，落实到代码其实就容易很多了。\n",
    "\n",
    "题目链接/文章讲解/视频讲解：https://programmercarl.com/0020.%E6%9C%89%E6%95%88%E7%9A%84%E6%8B%AC%E5%8F%B7.html  \n"
   ],
   "id": "a1bf66e12c3c4106"
  },
  {
   "metadata": {},
   "cell_type": "markdown",
   "source": [
    "### 特殊情况\n",
    "1. 全部匹配后，栈不为空\n",
    "2. 无法和栈顶元素匹配\n",
    "3. 栈为空，但是还有右括号\n",
    "\n",
    "### 优化思路\n",
    "预设匹配，在匹配左括号的时候，右括号先入栈，就只需要比较当前元素和栈顶相不相等就可以了"
   ],
   "id": "ff52400975be2f56"
  },
  {
   "metadata": {},
   "cell_type": "code",
   "outputs": [],
   "execution_count": null,
   "source": [
    "class Solution:\n",
    "    def isValid(self, s: str) -> bool:\n",
    "        stack = []\n",
    "        \n",
    "        for item in s:\n",
    "            if item == '(':\n",
    "                stack.append(')')\n",
    "            elif item == '[':\n",
    "                stack.append(']')\n",
    "            elif item == '{':\n",
    "                stack.append('}')\n",
    "            elif not stack or stack[-1] != item:\n",
    "                return False\n",
    "            else:\n",
    "                stack.pop()\n",
    "        \n",
    "        return True if not stack else False"
   ],
   "id": "a8462767bfddb229"
  },
  {
   "metadata": {},
   "cell_type": "markdown",
   "source": [
    "## 1047. 删除字符串中的所有相邻重复项 \n",
    "\n",
    "栈的经典应用。 \n",
    "\n",
    "要知道栈为什么适合做这种类似于爱消除的操作，因为栈帮助我们记录了 遍历数组当前元素时候，前一个元素是什么。\n",
    "\n",
    "题目链接/文章讲解/视频讲解：https://programmercarl.com/1047.%E5%88%A0%E9%99%A4%E5%AD%97%E7%AC%A6%E4%B8%B2%E4%B8%AD%E7%9A%84%E6%89%80%E6%9C%89%E7%9B%B8%E9%82%BB%E9%87%8D%E5%A4%8D%E9%A1%B9.html"
   ],
   "id": "9b7bd01940dda1ff"
  },
  {
   "metadata": {},
   "cell_type": "markdown",
   "source": "匹配则弹出，不匹配则入栈",
   "id": "50581a76094fc189"
  },
  {
   "metadata": {},
   "cell_type": "code",
   "outputs": [],
   "execution_count": null,
   "source": [
    "class Solution:\n",
    "    def removeDuplicates(self, s: str) -> str:\n",
    "        res = list()\n",
    "        for item in s:\n",
    "            if res and res[-1] == item:\n",
    "                res.pop()\n",
    "            else:\n",
    "                res.append(item)\n",
    "        return \"\".join(res)  # 字符串拼接"
   ],
   "id": "fafaf27a20e91770"
  }
 ],
 "metadata": {
  "kernelspec": {
   "display_name": "Python 3",
   "language": "python",
   "name": "python3"
  },
  "language_info": {
   "codemirror_mode": {
    "name": "ipython",
    "version": 2
   },
   "file_extension": ".py",
   "mimetype": "text/x-python",
   "name": "python",
   "nbconvert_exporter": "python",
   "pygments_lexer": "ipython2",
   "version": "2.7.6"
  }
 },
 "nbformat": 4,
 "nbformat_minor": 5
}
