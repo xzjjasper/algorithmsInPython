{
 "cells": [
  {
   "metadata": {},
   "cell_type": "markdown",
   "source": [
    "## 654.最大二叉树 \n",
    "\n",
    "又是构造二叉树，昨天大家刚刚做完 中序后序确定二叉树，今天做这个 应该会容易一些， 先看视频，好好体会一下 为什么构造二叉树都是 前序遍历 \n",
    "\n",
    "题目链接/文章讲解：https://programmercarl.com/0654.%E6%9C%80%E5%A4%A7%E4%BA%8C%E5%8F%89%E6%A0%91.html  \n",
    "视频讲解：https://www.bilibili.com/video/BV1MG411G7ox  \n"
   ],
   "id": "1b0a996dfd1a2a3a"
  },
  {
   "metadata": {},
   "cell_type": "markdown",
   "source": [
    "## 617.合并二叉树 \n",
    "\n",
    "这次是一起操作两个二叉树了， 估计大家也没一起操作过两个二叉树，也不知道该如何一起操作，可以看视频先理解一下。 优先掌握递归。\n",
    "\n",
    "题目链接/文章讲解：https://programmercarl.com/0617.%E5%90%88%E5%B9%B6%E4%BA%8C%E5%8F%89%E6%A0%91.html  \n",
    "视频讲解：https://www.bilibili.com/video/BV1m14y1Y7JK  \n"
   ],
   "id": "8a7b02979790486e"
  },
  {
   "metadata": {},
   "cell_type": "markdown",
   "source": [
    "## 700.二叉搜索树中的搜索 \n",
    "\n",
    "递归和迭代 都可以掌握以下，因为本题比较简单， 了解一下 二叉搜索树的特性\n",
    "\n",
    "题目链接/文章讲解: https://programmercarl.com/0700.%E4%BA%8C%E5%8F%89%E6%90%9C%E7%B4%A2%E6%A0%91%E4%B8%AD%E7%9A%84%E6%90%9C%E7%B4%A2.html  \n",
    "视频讲解：https://www.bilibili.com/video/BV1wG411g7sF   \n"
   ],
   "id": "a6f15a3820b5f061"
  },
  {
   "metadata": {},
   "cell_type": "markdown",
   "source": [
    "## 98.验证二叉搜索树 \n",
    "\n",
    "遇到 搜索树，一定想着中序遍历，这样才能利用上特性。 \n",
    "\n",
    "但本题是有陷阱的，可以自己先做一做，然后在看题解，看看自己是不是掉陷阱里了。这样理解的更深刻。\n",
    "\n",
    "题目链接/文章讲解：https://programmercarl.com/0098.%E9%AA%8C%E8%AF%81%E4%BA%8C%E5%8F%89%E6%90%9C%E7%B4%A2%E6%A0%91.html \n",
    "视频讲解：https://www.bilibili.com/video/BV18P411n7Q4  \n"
   ],
   "id": "125e495e98f22591"
  },
  {
   "cell_type": "code",
   "execution_count": null,
   "id": "initial_id",
   "metadata": {
    "collapsed": true
   },
   "outputs": [],
   "source": [
    ""
   ]
  }
 ],
 "metadata": {
  "kernelspec": {
   "display_name": "Python 3",
   "language": "python",
   "name": "python3"
  },
  "language_info": {
   "codemirror_mode": {
    "name": "ipython",
    "version": 2
   },
   "file_extension": ".py",
   "mimetype": "text/x-python",
   "name": "python",
   "nbconvert_exporter": "python",
   "pygments_lexer": "ipython2",
   "version": "2.7.6"
  }
 },
 "nbformat": 4,
 "nbformat_minor": 5
}
