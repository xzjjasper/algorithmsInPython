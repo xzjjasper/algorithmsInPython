{
 "cells": [
  {
   "metadata": {},
   "cell_type": "markdown",
   "source": "",
   "id": "b86c913ebaa2fa63"
  },
  {
   "metadata": {},
   "cell_type": "markdown",
   "source": [
    "## 654.最大二叉树 \n",
    "\n",
    "又是构造二叉树，昨天大家刚刚做完 中序后序确定二叉树，今天做这个 应该会容易一些， 先看视频，好好体会一下 为什么构造二叉树都是 前序遍历 \n",
    "\n",
    "题目链接/文章讲解：https://programmercarl.com/0654.%E6%9C%80%E5%A4%A7%E4%BA%8C%E5%8F%89%E6%A0%91.html  \n",
    "视频讲解：https://www.bilibili.com/video/BV1MG411G7ox  \n"
   ],
   "id": "1b0a996dfd1a2a3a"
  },
  {
   "metadata": {},
   "cell_type": "markdown",
   "source": [
    "### 递归法\n",
    "前序遍历，找到最大值，递归左右子树\n",
    "空间复杂度：O(1) --> 使用索引作为参数"
   ],
   "id": "add051f0a75224c7"
  },
  {
   "metadata": {},
   "cell_type": "code",
   "outputs": [],
   "execution_count": null,
   "source": [
    "class Solution:\n",
    "    def constructMaximumBinaryTree(self, nums: List[int]) -> Optional[TreeNode]:\n",
    "        def helper(l: int, r: int):\n",
    "            if l == r:\n",
    "                return None\n",
    "            maxIndex = l\n",
    "            for i in range(l + 1, r):\n",
    "                if nums[maxIndex] < nums[i]:\n",
    "                    maxIndex = i\n",
    "            root = TreeNode(nums[maxIndex])\n",
    "            root.left = helper(l, maxIndex)\n",
    "            root.right = helper(maxIndex + 1, r)\n",
    "            return root\n",
    "        return helper(0, len(nums))"
   ],
   "id": "b7a0a1804abb3578"
  },
  {
   "metadata": {},
   "cell_type": "markdown",
   "source": [
    "### 优化方法：栈\n",
    "**比较：D11 单调法 （239. 滑动窗口最大值）**  \n",
    "stack：单调递减队列  \n",
    "如果当前元素大于栈顶元素：栈顶元素是当前元素左侧的最大值，即左子节点  \n",
    "如果当前元素小于栈顶元素：当前元素是栈顶元素右侧的最大值，即右子节点  \n"
   ],
   "id": "f75b5cb663675981"
  },
  {
   "metadata": {},
   "cell_type": "code",
   "outputs": [],
   "execution_count": null,
   "source": [
    "class Solution:\n",
    "    def constructMaximumBinaryTree(self, nums: List[int]) -> Optional[TreeNode]:\n",
    "        stack = []\n",
    "        for num in nums:\n",
    "            curr = TreeNode(num)\n",
    "            while stack and stack[-1].val < num:\n",
    "                curr.left = stack.pop()\n",
    "            if stack:\n",
    "                stack[-1].right = curr\n",
    "            stack.append(curr)\n",
    "        return stack[0] if stack else None"
   ],
   "id": "3ca2b9659e1950ab"
  },
  {
   "metadata": {},
   "cell_type": "markdown",
   "source": [
    "## 617.合并二叉树 \n",
    "\n",
    "这次是一起操作两个二叉树了， 估计大家也没一起操作过两个二叉树，也不知道该如何一起操作，可以看视频先理解一下。 优先掌握递归。\n",
    "\n",
    "题目链接/文章讲解：https://programmercarl.com/0617.%E5%90%88%E5%B9%B6%E4%BA%8C%E5%8F%89%E6%A0%91.html  \n",
    "视频讲解：https://www.bilibili.com/video/BV1m14y1Y7JK  \n"
   ],
   "id": "8a7b02979790486e"
  },
  {
   "metadata": {},
   "cell_type": "markdown",
   "source": "前序遍历好理解一点，看代码就好",
   "id": "420a4dd4e01f6a32"
  },
  {
   "metadata": {},
   "cell_type": "code",
   "outputs": [],
   "execution_count": null,
   "source": [
    "class Solution:\n",
    "    def mergeTrees(self, root1: TreeNode, root2: TreeNode) -> TreeNode:\n",
    "        # 递归终止条件: \n",
    "        #  但凡有一个节点为空, 就立刻返回另外一个. 如果另外一个也为None就直接返回None. \n",
    "        if not root1: \n",
    "            return root2\n",
    "        if not root2: \n",
    "            return root1\n",
    "        # 上面的递归终止条件保证了代码执行到这里root1, root2都非空. \n",
    "        root1.val += root2.val # 中\n",
    "        root1.left = self.mergeTrees(root1.left, root2.left) #左\n",
    "        root1.right = self.mergeTrees(root1.right, root2.right) # 右\n",
    "        \n",
    "        return root1 # ⚠️ 注意: 本题我们重复使用了题目给出的节点而不是创建新节点. 节省时间, 空间. "
   ],
   "id": "caf8acddfc30fe5a"
  },
  {
   "metadata": {},
   "cell_type": "markdown",
   "source": [
    "## 700.二叉搜索树中的搜索 \n",
    "\n",
    "递归和迭代 都可以掌握以下，因为本题比较简单， 了解一下 二叉搜索树的特性\n",
    "\n",
    "题目链接/文章讲解: https://programmercarl.com/0700.%E4%BA%8C%E5%8F%89%E6%90%9C%E7%B4%A2%E6%A0%91%E4%B8%AD%E7%9A%84%E6%90%9C%E7%B4%A2.html  \n",
    "视频讲解：https://www.bilibili.com/video/BV1wG411g7sF   \n"
   ],
   "id": "a6f15a3820b5f061"
  },
  {
   "metadata": {},
   "cell_type": "markdown",
   "source": "时间复杂度：O(logN)",
   "id": "932ef537db5a79f1"
  },
  {
   "metadata": {},
   "cell_type": "code",
   "outputs": [],
   "execution_count": null,
   "source": [
    "# 递归\n",
    "class Solution:\n",
    "    def searchBST(self, root: TreeNode, val: int) -> TreeNode:\n",
    "        # 为什么要有返回值: \n",
    "        #   因为搜索到目标节点就要立即return，\n",
    "        #   这样才是找到节点就返回（搜索某一条边），如果不加return，就是遍历整棵树了。\n",
    "\n",
    "        if not root or root.val == val: \n",
    "            return root\n",
    "\n",
    "        if root.val > val: \n",
    "            return self.searchBST(root.left, val)\n",
    "\n",
    "        if root.val < val: \n",
    "            return self.searchBST(root.right, val)"
   ],
   "id": "24a77a5ccee67952"
  },
  {
   "metadata": {},
   "cell_type": "code",
   "outputs": [],
   "execution_count": null,
   "source": [
    "# 迭代\n",
    "class Solution:\n",
    "    def searchBST(self, root: TreeNode, val: int) -> TreeNode:\n",
    "        while root:\n",
    "            if val < root.val: root = root.left\n",
    "            elif val > root.val: root = root.right\n",
    "            else: return root\n",
    "        return None"
   ],
   "id": "4e21443149f7115b"
  },
  {
   "metadata": {},
   "cell_type": "markdown",
   "source": [
    "## 98.验证二叉搜索树 \n",
    "\n",
    "遇到 搜索树，一定想着中序遍历，这样才能利用上特性。 \n",
    "\n",
    "但本题是有陷阱的，可以自己先做一做，然后在看题解，看看自己是不是掉陷阱里了。这样理解的更深刻。\n",
    "\n",
    "题目链接/文章讲解：https://programmercarl.com/0098.%E9%AA%8C%E8%AF%81%E4%BA%8C%E5%8F%89%E6%90%9C%E7%B4%A2%E6%A0%91.html \n",
    "视频讲解：https://www.bilibili.com/video/BV18P411n7Q4  \n"
   ],
   "id": "125e495e98f22591"
  },
  {
   "cell_type": "code",
   "execution_count": null,
   "id": "initial_id",
   "metadata": {
    "collapsed": true
   },
   "outputs": [],
   "source": [
    ""
   ]
  },
  {
   "metadata": {
    "ExecuteTime": {
     "end_time": "2024-07-22T07:16:04.147542Z",
     "start_time": "2024-07-22T07:16:04.136256Z"
    }
   },
   "cell_type": "code",
   "source": [
    "stack = [[1,2],[3,4],[5,6]]\n",
    "for i, j in stack:\n",
    "    print(i)\n",
    "    print(j)"
   ],
   "id": "a1524145771684d3",
   "outputs": [
    {
     "name": "stdout",
     "output_type": "stream",
     "text": [
      "1\n",
      "2\n",
      "3\n",
      "4\n",
      "5\n",
      "6\n"
     ]
    }
   ],
   "execution_count": 2
  },
  {
   "metadata": {},
   "cell_type": "code",
   "outputs": [],
   "execution_count": null,
   "source": "",
   "id": "9a3cee1d2dbf9f02"
  }
 ],
 "metadata": {
  "kernelspec": {
   "display_name": "Python 3",
   "language": "python",
   "name": "python3"
  },
  "language_info": {
   "codemirror_mode": {
    "name": "ipython",
    "version": 2
   },
   "file_extension": ".py",
   "mimetype": "text/x-python",
   "name": "python",
   "nbconvert_exporter": "python",
   "pygments_lexer": "ipython2",
   "version": "2.7.6"
  }
 },
 "nbformat": 4,
 "nbformat_minor": 5
}
