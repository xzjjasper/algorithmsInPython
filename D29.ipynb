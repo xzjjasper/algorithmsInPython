{
 "cells": [
  {
   "metadata": {},
   "cell_type": "markdown",
   "source": [
    "## 134. 加油站 \n",
    "本题有点难度，不太好想，推荐大家熟悉一下方法二 \n",
    "https://programmercarl.com/0134.%E5%8A%A0%E6%B2%B9%E7%AB%99.html  \n"
   ],
   "id": "836b0b433adf01ab"
  },
  {
   "metadata": {},
   "cell_type": "markdown",
   "source": [
    "## 135. 分发糖果 \n",
    "本题涉及到一个思想，就是想处理好一边再处理另一边，不要两边想着一起兼顾，后面还会有题目用到这个思路 \n",
    "https://programmercarl.com/0135.%E5%88%86%E5%8F%91%E7%B3%96%E6%9E%9C.html  \n"
   ],
   "id": "3deda94eb9a34b4e"
  },
  {
   "metadata": {},
   "cell_type": "markdown",
   "source": [
    "## 860.柠檬水找零 \n",
    "\n",
    "本题看上好像挺难，其实很简单，大家先尝试自己做一做。\n",
    "https://programmercarl.com/0860.%E6%9F%A0%E6%AA%AC%E6%B0%B4%E6%89%BE%E9%9B%B6.html  \n"
   ],
   "id": "dc8d0ded693a4b62"
  },
  {
   "metadata": {},
   "cell_type": "markdown",
   "source": [
    "## 406.根据身高重建队列 \n",
    "\n",
    "本题有点难度，和分发糖果类似，不要两头兼顾，处理好一边再处理另一边。 \n",
    "https://programmercarl.com/0406.%E6%A0%B9%E6%8D%AE%E8%BA%AB%E9%AB%98%E9%87%8D%E5%BB%BA%E9%98%9F%E5%88%97.html  \n"
   ],
   "id": "3c9e1b6022518bdf"
  },
  {
   "cell_type": "code",
   "execution_count": null,
   "id": "initial_id",
   "metadata": {
    "collapsed": true
   },
   "outputs": [],
   "source": [
    ""
   ]
  }
 ],
 "metadata": {
  "kernelspec": {
   "display_name": "Python 3",
   "language": "python",
   "name": "python3"
  },
  "language_info": {
   "codemirror_mode": {
    "name": "ipython",
    "version": 2
   },
   "file_extension": ".py",
   "mimetype": "text/x-python",
   "name": "python",
   "nbconvert_exporter": "python",
   "pygments_lexer": "ipython2",
   "version": "2.7.6"
  }
 },
 "nbformat": 4,
 "nbformat_minor": 5
}
