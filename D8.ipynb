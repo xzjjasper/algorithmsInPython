{
 "cells": [
  {
   "metadata": {},
   "cell_type": "markdown",
   "source": "# 代码随想录算法训练营第八天｜151.翻转字符串里的单词 卡码网：55.右旋转字符串 28. 实现 strStr() 459.重复的子字符串",
   "id": "9f6fc9b8bc60c1ab"
  },
  {
   "metadata": {},
   "cell_type": "markdown",
   "source": [
    "## 151.翻转字符串里的单词 \n",
    "\n",
    "建议：这道题目基本把 刚刚做过的字符串操作 都覆盖了，不过就算知道解题思路，本题代码并不容易写，要多练一练。 \n",
    "\n",
    "题目链接/文章讲解/视频讲解：https://programmercarl.com/0151.%E7%BF%BB%E8%BD%AC%E5%AD%97%E7%AC%A6%E4%B8%B2%E9%87%8C%E7%9A%84%E5%8D%95%E8%AF%8D.html  \n"
   ],
   "id": "841c5c312a0b8f53"
  },
  {
   "metadata": {},
   "cell_type": "markdown",
   "source": [
    "### 库函数法\n",
    "Java:\n",
    "```java\n",
    "public String[] split(String regex, int limit)\n",
    "```\n",
    "Python:\n",
    "```python\n",
    "str.split(sep=None, maxsplit=-1)\n",
    "```\n"
   ],
   "id": "2b3aff3c2d10d559"
  },
  {
   "metadata": {},
   "cell_type": "markdown",
   "source": [
    "### 双反转法（见题解）\n",
    "1. 去掉多余的空格\n",
    "2. 反转整个字符串\n",
    "3. 反转每个单词"
   ],
   "id": "23d3b73ce3bac896"
  },
  {
   "metadata": {},
   "cell_type": "markdown",
   "source": [
    "### 双指针法\n",
    "1. 从后往前遍历，找到每个单词的起始位置和结束位置\n",
    "2. 将单词拼接到结果字符串中"
   ],
   "id": "d058c89c5d4e51e3"
  },
  {
   "metadata": {},
   "cell_type": "code",
   "outputs": [],
   "execution_count": null,
   "source": [
    "class Solution:\n",
    "    def reverseWords(self, s: str) -> str:\n",
    "        i = len(s) - 1\n",
    "        out = []\n",
    "        while i >= 0:\n",
    "            if s[i] == ' ':\n",
    "                i -= 1\n",
    "                continue\n",
    "            j = i\n",
    "            while i > 0 and s[i-1] != ' ':\n",
    "                i -= 1\n",
    "            out.append(s[i:j+1])\n",
    "            i -= 1\n",
    "        return \" \".join(out)"
   ],
   "id": "ce4fe71ad2f4e320"
  },
  {
   "metadata": {},
   "cell_type": "markdown",
   "source": "### C++: 可以不用额外空间（见题解）",
   "id": "4883f1a43dff2229"
  },
  {
   "metadata": {},
   "cell_type": "markdown",
   "source": [
    "## 卡码网：55.右旋转字符串 \n",
    "\n",
    "建议：题解中的解法如果没接触过的话，应该会想不到\n",
    "\n",
    "题目链接/文章讲解：\n",
    "https://programmercarl.com/kama55.%E5%8F%B3%E6%97%8B%E5%AD%97%E7%AC%A6%E4%B8%B2.html\n",
    "\n"
   ],
   "id": "5ae6ba7b3f4a7cf4"
  },
  {
   "metadata": {},
   "cell_type": "markdown",
   "source": [
    "也是双反转：通过整体倒叙，把两段子串顺序颠倒，两个段子串里的的字符再倒叙一把，负负得正。  \n",
    "对于Java/Python，由于字符串是不可变的，故无法原地实现。  \n",
    "思路一：使用库函数substring拆成子串，然后拼接。\n",
    "思路二：转换成字符数组，然后原地操作。"
   ],
   "id": "7f5743839039f65c"
  },
  {
   "metadata": {},
   "cell_type": "markdown",
   "source": [
    "## 28. 实现 strStr()  （下次再看）\n",
    "\n",
    "因为KMP算法很难，大家别奢求 一次就把kmp全理解了，大家刚学KMP一定会有各种各样的疑问，先留着，别期望立刻啃明白，第一遍了解大概思路，二刷的时候，再看KMP会 好懂很多。\n",
    "\n",
    "或者说大家可以放弃一刷可以不看KMP，今天来回顾一下之前的算法题目就可以。\n",
    "\n",
    "因为大家 算法能力还没到，细扣 很难的算法，会把自己绕进去，就算别人给解释，只会激发出更多的问题和疑惑。所以大家先了解大体过程，知道这么回事， 等自己有 算法基础和思维了，在看多看几遍视频，慢慢就理解了。\n",
    "\n",
    "题目链接/文章讲解/视频讲解：https://programmercarl.com/0028.%E5%AE%9E%E7%8E%B0strStr.html \n"
   ],
   "id": "53f2ae8b6ac160c0"
  },
  {
   "metadata": {},
   "cell_type": "code",
   "outputs": [],
   "execution_count": null,
   "source": "",
   "id": "253d9ef0a03e508f"
  },
  {
   "metadata": {},
   "cell_type": "markdown",
   "source": [
    "## 459.重复的子字符串  （下次再看）\n",
    "\n",
    "本题算是KMP算法的一个应用，不过 对KMP了解不够熟练的话，理解本题就难很多。 \n",
    "我的建议是 KMP和本题，一刷的时候 ，可以适当放过，了解怎么回事就行，二刷的时候再来硬啃\n",
    "\n",
    "题目链接/文章讲解/视频讲解：https://programmercarl.com/0459.%E9%87%8D%E5%A4%8D%E7%9A%84%E5%AD%90%E5%AD%97%E7%AC%A6%E4%B8%B2.html \n"
   ],
   "id": "1a85e798ff8d4f13"
  },
  {
   "metadata": {},
   "cell_type": "markdown",
   "source": [
    "## 字符串总结 \n",
    "\n",
    "比较简单，大家读一遍就行 \n",
    "\n",
    "题目链接/文章讲解：https://programmercarl.com/%E5%AD%97%E7%AC%A6%E4%B8%B2%E6%80%BB%E7%BB%93.html \n"
   ],
   "id": "3b60824c417e27c8"
  },
  {
   "metadata": {},
   "cell_type": "markdown",
   "source": [
    "## 双指针回顾 \n",
    "\n",
    "此时我们已经做过10道双指针的题目了，来一起回顾一下，大家自己也总结一下双指针的心得 \n",
    "\n",
    "文章讲解：https://programmercarl.com/%E5%8F%8C%E6%8C%87%E9%92%88%E6%80%BB%E7%BB%93.html \n",
    "  \n"
   ],
   "id": "f645c00e5c4087aa"
  },
  {
   "metadata": {},
   "cell_type": "markdown",
   "source": [
    "### 双指针使用\n",
    "1. 相同起点，同步移动：单向链表储存前第n个节点\n",
    "2. 相同起点，异步移动：快慢指针找链表中的环，数组去重\n",
    "3. 相对起点：三/四数之和"
   ],
   "id": "b1cf6912cefd82b4"
  }
 ],
 "metadata": {
  "kernelspec": {
   "display_name": "Python 3",
   "language": "python",
   "name": "python3"
  },
  "language_info": {
   "codemirror_mode": {
    "name": "ipython",
    "version": 2
   },
   "file_extension": ".py",
   "mimetype": "text/x-python",
   "name": "python",
   "nbconvert_exporter": "python",
   "pygments_lexer": "ipython2",
   "version": "2.7.6"
  }
 },
 "nbformat": 4,
 "nbformat_minor": 5
}
