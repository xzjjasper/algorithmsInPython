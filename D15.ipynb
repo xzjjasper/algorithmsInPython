{
 "cells": [
  {
   "metadata": {},
   "cell_type": "markdown",
   "source": [
    "## 110.平衡二叉树 （优先掌握递归）\n",
    "\n",
    "再一次涉及到，什么是高度，什么是深度，可以巩固一下。\n",
    "\n",
    "题目链接/文章讲解/视频讲解：https://programmercarl.com/0110.%E5%B9%B3%E8%A1%A1%E4%BA%8C%E5%8F%89%E6%A0%91.html  \n"
   ],
   "id": "dfc4d06bc2e33aa3"
  },
  {
   "metadata": {},
   "cell_type": "markdown",
   "source": [
    "二叉树节点的深度：指从**根节点**到该节点的最长简单路径边的条数。  \n",
    "二叉树节点的高度：指从该节点到**叶子节点**的最长简单路径边的条数。  \n",
    "平衡系数：左子树的高度减去右子树的高度。"
   ],
   "id": "180922052eb6e192"
  },
  {
   "metadata": {},
   "cell_type": "markdown",
   "source": [
    "### 递归法\n",
    "递归量：高度  \n",
    "保留平衡系数：如果不满足平衡二叉树，返回-1"
   ],
   "id": "c622feda27505aa"
  },
  {
   "metadata": {},
   "cell_type": "code",
   "outputs": [],
   "execution_count": null,
   "source": [
    "class Solution:\n",
    "    def isBalanced(self, root: Optional[TreeNode]) -> bool:\n",
    "        return self.get_hight(root) != -1\n",
    "    def get_hight(self, node):\n",
    "        if not node:\n",
    "            return 0\n",
    "        left = self.get_hight(node.left)\n",
    "        right = self.get_hight(node.right)\n",
    "        if left == -1 or right == -1 or abs(left - right) > 1:\n",
    "            return -1\n",
    "        return max(left, right) + 1"
   ],
   "id": "8d7d2d31b0f39909"
  },
  {
   "metadata": {},
   "cell_type": "markdown",
   "source": [
    "## 257. 二叉树的所有路径 （优先掌握递归）  \n",
    "\n",
    "这是大家第一次接触到回溯的过程， 我在视频里重点讲解了 本题为什么要有回溯，已经回溯的过程。 \n",
    "\n",
    "如果对回溯 似懂非懂，没关系， 可以先有个印象。 \n",
    "\n",
    "题目链接/文章讲解/视频讲解：https://programmercarl.com/0257.%E4%BA%8C%E5%8F%89%E6%A0%91%E7%9A%84%E6%89%80%E6%9C%89%E8%B7%AF%E5%BE%84.html \n"
   ],
   "id": "eaa43c9d1a365b2c"
  },
  {
   "metadata": {},
   "cell_type": "markdown",
   "source": [
    "### 回溯 backtrack\n",
    "回溯和递归是一一对应的，有一个递归，就要有一个回溯  \n",
    "前序遍历  \n",
    "**递归参数**：路径（保存节点值的列表），在遍历左右子节点时更新了object，需要通过回溯（删除最后一个节点值）来回到亲节点，走另一条路径  \n",
    "如果递归参数为字符串，回溯就隐藏在path + \"->\"中。 每次函数调用完，path依然是没有加上\"->\" 的，这就是回溯了。  \n",
    "对于字符串是immutable的语言（python，java），每次使用的时候都是新建一个字符串，所以不需要回溯。  \n",
    "**终止条件**：叶子节点，即左右子节点都为空"
   ],
   "id": "efc6b853f18a8a64"
  },
  {
   "metadata": {},
   "cell_type": "code",
   "outputs": [],
   "execution_count": null,
   "source": [
    "#隐形回溯：使用子列表传递路径\n",
    "from typing import List, Optional\n",
    "\n",
    "class Solution:\n",
    "    def binaryTreePaths(self, root: Optional[TreeNode]) -> List[str]:\n",
    "        if not root:\n",
    "            return []\n",
    "        result = []\n",
    "        self.traversal(root, [], result)\n",
    "        return result\n",
    "    \n",
    "    def traversal(self, cur: TreeNode, path: List[int], result: List[str]) -> None:\n",
    "        if not cur:\n",
    "            return\n",
    "        path.append(cur.val)\n",
    "        if not cur.left and not cur.right:\n",
    "            result.append('->'.join(map(str, path)))\n",
    "        if cur.left:\n",
    "            self.traversal(cur.left, path[:], result)\n",
    "        if cur.right:\n",
    "            self.traversal(cur.right, path[:], result)"
   ],
   "id": "6a4982100f67613"
  },
  {
   "metadata": {},
   "cell_type": "markdown",
   "source": [
    "## 404.左叶子之和 （优先掌握递归）\n",
    "\n",
    "其实本题有点文字游戏，搞清楚什么是左叶子，剩下的就是二叉树的基本操作。 \n",
    "\n",
    "题目链接/文章讲解/视频讲解：https://programmercarl.com/0404.%E5%B7%A6%E5%8F%B6%E5%AD%90%E4%B9%8B%E5%92%8C.html  \n",
    "\n",
    "\n"
   ],
   "id": "16c5260d2ee4ddde"
  },
  {
   "metadata": {},
   "cell_type": "markdown",
   "source": "左叶子条件：`root.left and root.left.left is None and root.left.right is None`，或者递归参数中加入一个布尔值，表示是否是左叶子节点。  ",
   "id": "ed1680b45bd9ecf"
  },
  {
   "metadata": {},
   "cell_type": "code",
   "outputs": [],
   "execution_count": null,
   "source": [
    "class Solution:\n",
    "    def sumOfLeftLeaves(self, root):\n",
    "        if root is None:\n",
    "            return 0\n",
    "        leftValue = 0\n",
    "        if root.left is not None and root.left.left is None and root.left.right is None:\n",
    "            leftValue = root.left.val\n",
    "        return leftValue + self.sumOfLeftLeaves(root.left) + self.sumOfLeftLeaves(root.right)"
   ],
   "id": "8980c11251d8cae0"
  },
  {
   "metadata": {},
   "cell_type": "markdown",
   "source": [
    "## 222.完全二叉树的节点个数（优先掌握递归）\n",
    "\n",
    "需要了解，普通二叉树 怎么求，完全二叉树又怎么求\n",
    "\n",
    "题目链接/文章讲解/视频讲解：https://programmercarl.com/0222.%E5%AE%8C%E5%85%A8%E4%BA%8C%E5%8F%89%E6%A0%91%E7%9A%84%E8%8A%82%E7%82%B9%E4%B8%AA%E6%95%B0.html  \n",
    "\n"
   ],
   "id": "8acf466a751dfb8"
  },
  {
   "metadata": {},
   "cell_type": "markdown",
   "source": [
    "**一般解法**：DFS/BFS  \n",
    "**利用完全二叉树的性质**：完全二叉树的一些子树是满二叉树：满二叉树的节点个数可以直接计算  \n",
    "如果整个树不是满二叉树，就递归其左右孩子，直到遇到满二叉树为止，用公式计算这个子树（满二叉树）的节点数量  \n",
    "判断方法：递归向左遍历的深度等于递归向右遍历的深度"
   ],
   "id": "2d29d7ed2571bbbe"
  },
  {
   "cell_type": "code",
   "execution_count": null,
   "id": "initial_id",
   "metadata": {
    "collapsed": true
   },
   "outputs": [],
   "source": [
    "class Solution:\n",
    "    def countNodes(self, root: TreeNode) -> int:\n",
    "        if not root:\n",
    "            return 0\n",
    "        left = root.left\n",
    "        right = root.right\n",
    "        leftDepth = 0 #这里初始为0是有目的的，为了下面求指数方便\n",
    "        rightDepth = 0\n",
    "        while left: #求左子树深度\n",
    "            left = left.left\n",
    "            leftDepth += 1\n",
    "        while right: #求右子树深度\n",
    "            right = right.right\n",
    "            rightDepth += 1\n",
    "        if leftDepth == rightDepth:\n",
    "            return (2 << leftDepth) - 1 #注意(2<<1) 相当于2^2，所以leftDepth初始为0\n",
    "        return self.countNodes(root.left) + self.countNodes(root.right) + 1"
   ]
  }
 ],
 "metadata": {
  "kernelspec": {
   "display_name": "Python 3",
   "language": "python",
   "name": "python3"
  },
  "language_info": {
   "codemirror_mode": {
    "name": "ipython",
    "version": 2
   },
   "file_extension": ".py",
   "mimetype": "text/x-python",
   "name": "python",
   "nbconvert_exporter": "python",
   "pygments_lexer": "ipython2",
   "version": "2.7.6"
  }
 },
 "nbformat": 4,
 "nbformat_minor": 5
}
