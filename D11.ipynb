{
 "cells": [
  {
   "metadata": {},
   "cell_type": "markdown",
   "source": "# 代码随想录算法训练营第十一天｜栈与队列",
   "id": "db62eb7a38df4243"
  },
  {
   "metadata": {},
   "cell_type": "markdown",
   "source": [
    "## 150. 逆波兰表达式求值 \n",
    "\n",
    "本题不难，但第一次做的话，会很难想到，所以先看视频，了解思路再去做题 \n",
    "\n",
    "题目链接/文章讲解/视频讲解：https://programmercarl.com/0150.%E9%80%86%E6%B3%A2%E5%85%B0%E8%A1%A8%E8%BE%BE%E5%BC%8F%E6%B1%82%E5%80%BC.html  \n",
    "\n"
   ],
   "id": "55ee1595e2d357e6"
  },
  {
   "metadata": {},
   "cell_type": "markdown",
   "source": [
    "Postfix 问题，用栈解决\n",
    "- 遇到数字，入栈 （注意负数的情况，故'isdigit()'不可行）\n",
    "- 遇到运算符，出栈两个数，计算结果，再入栈"
   ],
   "id": "7a7676529309aa65"
  },
  {
   "metadata": {},
   "cell_type": "markdown",
   "source": [
    "## 239. 滑动窗口最大值 （有点难度，可能代码写不出来，但一刷至少需要理解思路）\n",
    "\n",
    "之前讲的都是栈的应用，这次该是队列的应用了。\n",
    "\n",
    "本题算比较有难度的，需要自己去构造单调队列，建议先看视频来理解。 \n",
    "\n",
    "题目链接/文章讲解/视频讲解：https://programmercarl.com/0239.%E6%BB%91%E5%8A%A8%E7%AA%97%E5%8F%A3%E6%9C%80%E5%A4%A7%E5%80%BC.html \n",
    "\n"
   ],
   "id": "3aec1368a1cf219c"
  },
  {
   "metadata": {},
   "cell_type": "markdown",
   "source": [
    "### 单调队列\n",
    "单调递减或单调递增的队列，包括等于的情况  \n",
    "只需要维护有可能成为窗口里最大值的元素就可以了，同时保证队列里的元素数值是由大到小的——不同于堆/优先队列  \n",
    "__储存的是元素的值，而不是元素的索引__"
   ],
   "id": "a8b5a89edbf84a1f"
  },
  {
   "metadata": {},
   "cell_type": "markdown",
   "source": [
    "设计单调队列的时候，pop，和push操作要保持如下规则：  \n",
    "1. pop(value)：如果窗口移除的元素value等于单调队列的出口元素，那么队列弹出元素，否则不用任何操作  \n",
    "2. push(value)：如果push的元素value大于入口元素的数值，那么就将队列入口的元素弹出，直到push元素的数值小于等于队列入口元素的数值为止"
   ],
   "id": "cc4cda8b15180ce0"
  },
  {
   "metadata": {},
   "cell_type": "markdown",
   "source": [
    "Java:\n",
    "```Java\n",
    "class Solution {\n",
    "    public int[] maxSlidingWindow(int[] nums, int k) {\n",
    "        ArrayDeque<Integer> deque = new ArrayDeque<>();\n",
    "        int n = nums.length;\n",
    "        int[] res = new int[n - k + 1];\n",
    "        int idx = 0;\n",
    "        for(int i = 0; i < n; i++) {\n",
    "            // 根据题意，i为nums下标，是要在[i - k + 1, i] 中选到最大值，只需要保证两点\n",
    "            // 1.队列头结点需要在[i - k + 1, i]范围内，不符合则要弹出\n",
    "            while(!deque.isEmpty() && deque.peek() < i - k + 1){\n",
    "                deque.poll();\n",
    "            }\n",
    "            // 2.既然是单调，就要保证每次放进去的数字要比末尾的都大，否则也弹出\n",
    "            while(!deque.isEmpty() && nums[deque.peekLast()] < nums[i]) {\n",
    "                deque.pollLast();\n",
    "            }\n",
    "\n",
    "            deque.offer(i);\n",
    "\n",
    "            // 因为单调，当i增长到符合第一个k范围的时候，每滑动一步都将队列头节点放入结果就行了\n",
    "            if(i >= k - 1){\n",
    "                res[idx++] = nums[deque.peek()];\n",
    "            }\n",
    "        }\n",
    "        return res;\n",
    "    }\n",
    "}\n",
    "```"
   ],
   "id": "3023f0790d6f9068"
  },
  {
   "metadata": {
    "ExecuteTime": {
     "end_time": "2024-07-15T05:41:23.605561Z",
     "start_time": "2024-07-15T05:41:23.596860Z"
    }
   },
   "cell_type": "code",
   "source": [
    "from typing import List\n",
    "from collections import deque\n",
    "\n",
    "\n",
    "class MyQueue: #单调队列（从大到小\n",
    "    def __init__(self):\n",
    "        self.queue = deque() #这里需要使用deque实现单调队列，直接使用list会超时\n",
    "    \n",
    "    #每次弹出的时候，比较当前要弹出的数值是否等于队列出口元素的数值，如果相等则弹出。\n",
    "    #同时pop之前判断队列当前是否为空。\n",
    "    def pop(self, value):\n",
    "        if self.queue and value == self.queue[0]:\n",
    "            self.queue.popleft()#list.pop()时间复杂度为O(n),这里需要使用collections.deque()\n",
    "            \n",
    "    #如果push的数值大于入口元素的数值，那么就将队列后端的数值弹出，直到push的数值小于等于队列入口元素的数值为止。\n",
    "    #这样就保持了队列里的数值是单调从大到小的了。\n",
    "    def push(self, value):\n",
    "        while self.queue and value > self.queue[-1]:\n",
    "            self.queue.pop()\n",
    "        self.queue.append(value)\n",
    "        \n",
    "    #查询当前队列里的最大值 直接返回队列前端也就是front就可以了。\n",
    "    def front(self):\n",
    "        return self.queue[0]\n",
    "    \n",
    "class Solution:\n",
    "    def maxSlidingWindow(self, nums: List[int], k: int) -> List[int]:\n",
    "        que = MyQueue()\n",
    "        result = []\n",
    "        for i in range(k): #先将前k的元素放进队列\n",
    "            que.push(nums[i])\n",
    "        result.append(que.front()) #result 记录前k的元素的最大值\n",
    "        for i in range(k, len(nums)):\n",
    "            que.pop(nums[i - k]) #滑动窗口移除最前面元素\n",
    "            que.push(nums[i]) #滑动窗口前加入最后面的元素\n",
    "            result.append(que.front()) #记录对应的最大值\n",
    "        return result"
   ],
   "id": "4655d5c7b1fbf82d",
   "outputs": [],
   "execution_count": 19
  },
  {
   "metadata": {},
   "cell_type": "markdown",
   "source": [
    "## 347.前 K 个高频元素  （有点难度，可能代码写不出来，一刷至少需要理解思路）\n",
    "\n",
    "大/小顶堆的应用， 在C++中就是优先级队列 \n",
    "\n",
    "本题是 大数据中取前k值 的经典思路，了解想法之后，不算难。\n",
    "\n",
    "题目链接/文章讲解/视频讲解：https://programmercarl.com/0347.%E5%89%8DK%E4%B8%AA%E9%AB%98%E9%A2%91%E5%85%83%E7%B4%A0.html  \n",
    "\n"
   ],
   "id": "f595abdc32472970"
  },
  {
   "metadata": {},
   "cell_type": "markdown",
   "source": [
    "先统计频率，然后将频率放入优先队列或堆，最后取出前k个元素  \n",
    "统计频率：map  "
   ],
   "id": "473cf17468067646"
  },
  {
   "metadata": {},
   "cell_type": "markdown",
   "source": [
    "Java:\n",
    "```Java\n",
    "class Solution {\n",
    "    public int[] topKFrequent(int[] nums, int k) {\n",
    "        // 优先级队列，为了避免复杂 api 操作，pq 存储数组\n",
    "        // lambda 表达式设置优先级队列从大到小存储 o1 - o2 为从小到大，o2 - o1 反之\n",
    "        PriorityQueue<int[]> pq = new PriorityQueue<>((o1, o2) -> o1[1] - o2[1]);\n",
    "        int[] res = new int[k]; // 答案数组为 k 个元素\n",
    "        Map<Integer, Integer> map = new HashMap<>(); // 记录元素出现次数\n",
    "        for (int num : nums) map.put(num, map.getOrDefault(num, 0) + 1);\n",
    "        for (var x : map.entrySet()) { // entrySet 获取 k-v Set 集合\n",
    "            // 将 kv 转化成数组\n",
    "            int[] tmp = new int[2];\n",
    "            tmp[0] = x.getKey();\n",
    "            tmp[1] = x.getValue();\n",
    "            pq.offer(tmp);\n",
    "            // 下面的代码是根据小根堆实现的，我只保留优先队列的最后的k个，只要超出了k我就将最小的弹出，剩余的k个就是答案\n",
    "            if(pq.size() > k) {\n",
    "                pq.poll();\n",
    "            }\n",
    "        }\n",
    "        for (int i = 0; i < k; i++) {\n",
    "            res[i] = pq.poll()[0]; // 获取优先队列里的元素\n",
    "        }\n",
    "        return res;\n",
    "    }\n",
    "}\n",
    "```"
   ],
   "id": "2912a1ce7571f445"
  },
  {
   "metadata": {
    "ExecuteTime": {
     "end_time": "2024-07-16T18:48:54.933478Z",
     "start_time": "2024-07-16T18:48:54.915690Z"
    }
   },
   "cell_type": "code",
   "source": [
    "## 使用heapq实现小顶堆\n",
    "import heapq\n",
    "class Solution:\n",
    "    def topKFrequent(self, nums: List[int], k: int) -> List[int]:\n",
    "        #要统计元素出现频率\n",
    "        map_ = {} #nums[i]:对应出现的次数\n",
    "        for i in range(len(nums)):\n",
    "            map_[nums[i]] = map_.get(nums[i], 0) + 1\n",
    "        \n",
    "        #对频率排序\n",
    "        #定义一个小顶堆，大小为k\n",
    "        pri_que = [] #小顶堆\n",
    "        \n",
    "        #用固定大小为k的小顶堆，扫描所有频率的数值\n",
    "        for key, freq in map_.items():\n",
    "            heapq.heappush(pri_que, (freq, key))\n",
    "            if len(pri_que) > k: #如果堆的大小大于了K，则队列弹出，保证堆的大小一直为k\n",
    "                heapq.heappop(pri_que)\n",
    "        \n",
    "        #找出前K个高频元素，因为小顶堆先弹出的是最小的，所以倒序来输出到数组\n",
    "        result = [0] * k\n",
    "        for i in range(k-1, -1, -1):\n",
    "            result[i] = heapq.heappop(pri_que)[1]\n",
    "        return result"
   ],
   "id": "b7ae4e0d8738858c",
   "outputs": [],
   "execution_count": 31
  },
  {
   "metadata": {},
   "cell_type": "code",
   "outputs": [],
   "execution_count": null,
   "source": [
    "# 使用字典统计数字出现次数，然后将key与value逆转，获取前k项\n",
    "from collections import defaultdict\n",
    "\n",
    "\n",
    "class Solution:\n",
    "    def topKFrequent(self, nums: List[int], k: int) -> List[int]:\n",
    "        # 使用字典统计数字出现次数\n",
    "        time_dict = defaultdict(int)\n",
    "        for num in nums:\n",
    "            time_dict[num] += 1\n",
    "        # 更改字典，key为出现次数，value为相应的数字的集合\n",
    "        index_dict = defaultdict(list)\n",
    "        for key in time_dict:\n",
    "            index_dict[time_dict[key]].append(key)\n",
    "        # 排序\n",
    "        key = list(index_dict.keys())\n",
    "        key.sort()\n",
    "        result = []\n",
    "        cnt = 0\n",
    "        # 获取前k项\n",
    "        while key and cnt != k:\n",
    "            result += index_dict[key[-1]]\n",
    "            cnt += len(index_dict[key[-1]])\n",
    "            key.pop()\n",
    "\n",
    "        return result[0: k]"
   ],
   "id": "2a88c9c3766d373c"
  },
  {
   "metadata": {},
   "cell_type": "markdown",
   "source": [
    "## 总结 \n",
    "\n",
    "栈与队列做一个总结吧，加油\n",
    "\n",
    "https://programmercarl.com/%E6%A0%88%E4%B8%8E%E9%98%9F%E5%88%97%E6%80%BB%E7%BB%93.html  \n"
   ],
   "id": "9da95d8facb5613f"
  }
 ],
 "metadata": {
  "kernelspec": {
   "display_name": "Python 3",
   "language": "python",
   "name": "python3"
  },
  "language_info": {
   "codemirror_mode": {
    "name": "ipython",
    "version": 2
   },
   "file_extension": ".py",
   "mimetype": "text/x-python",
   "name": "python",
   "nbconvert_exporter": "python",
   "pygments_lexer": "ipython2",
   "version": "2.7.6"
  }
 },
 "nbformat": 4,
 "nbformat_minor": 5
}
