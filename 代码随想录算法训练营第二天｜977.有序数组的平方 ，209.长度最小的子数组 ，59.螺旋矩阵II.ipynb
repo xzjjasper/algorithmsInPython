{
 "cells": [
  {
   "metadata": {},
   "cell_type": "markdown",
   "source": "# 代码随想录算法训练营第二天｜977.有序数组的平方 ，209.长度最小的子数组 ，59.螺旋矩阵II",
   "id": "123ecedf2b232839"
  },
  {
   "metadata": {},
   "cell_type": "markdown",
   "source": [
    "## 977.有序数组的平方 \n",
    "\n",
    "题目建议： 本题关键在于理解双指针思想 \n",
    "\n",
    "题目链接：https://leetcode.com/problems/squares-of-a-sorted-array/  \n",
    "文章讲解：https://programmercarl.com/0977.%E6%9C%89%E5%BA%8F%E6%95%B0%E7%BB%84%E7%9A%84%E5%B9%B3%E6%96%B9.html  \n",
    "视频讲解： https://www.bilibili.com/video/BV1QB4y1D7ep "
   ],
   "id": "283fa6dcdeae537e"
  },
  {
   "metadata": {},
   "cell_type": "markdown",
   "source": [
    "\n",
    "## 209.长度最小的子数组\n",
    "\n",
    "题目建议： 本题关键在于理解滑动窗口 \n",
    "\n",
    "题目链接：https://leetcode.com/problems/minimum-size-subarray-sum/  \n",
    "文章讲解：https://programmercarl.com/0209.%E9%95%BF%E5%BA%A6%E6%9C%80%E5%B0%8F%E7%9A%84%E5%AD%90%E6%95%B0%E7%BB%84.html  \n",
    "视频讲解：https://www.bilibili.com/video/BV1tZ4y1q7XE\n"
   ],
   "id": "f3a7fcba9d00d71"
  },
  {
   "metadata": {},
   "cell_type": "markdown",
   "source": [
    "## 59.螺旋矩阵II\n",
    "\n",
    "题目建议：  本题关键还是在转圈的逻辑，在二分搜索中提到的区间定义，在这里又用上了。 \n",
    "\n",
    "题目链接：https://leetcode.com/problems/spiral-matrix-ii/  \n",
    "文章讲解：https://programmercarl.com/0059.%E8%9E%BA%E6%97%8B%E7%9F%A9%E9%98%B5II.html  \n",
    "视频讲解：https://www.bilibili.com/video/BV1SL4y1N7mV/\n"
   ],
   "id": "cb23025ae1f365f5"
  },
  {
   "metadata": {},
   "cell_type": "markdown",
   "source": [
    "## 总结 \n",
    "\n",
    "题目建议：希望大家 也做一个自己 对数组专题的总结\n",
    "\n",
    "文章链接：https://programmercarl.com/%E6%95%B0%E7%BB%84%E6%80%BB%E7%BB%93%E7%AF%87.html \n"
   ],
   "id": "6d1c214260e0f813"
  }
 ],
 "metadata": {
  "kernelspec": {
   "display_name": "Python 3",
   "language": "python",
   "name": "python3"
  },
  "language_info": {
   "codemirror_mode": {
    "name": "ipython",
    "version": 2
   },
   "file_extension": ".py",
   "mimetype": "text/x-python",
   "name": "python",
   "nbconvert_exporter": "python",
   "pygments_lexer": "ipython2",
   "version": "2.7.6"
  }
 },
 "nbformat": 4,
 "nbformat_minor": 5
}
