{
 "cells": [
  {
   "metadata": {},
   "cell_type": "markdown",
   "source": [
    "## 理论基础 \n",
    "\n",
    "需要了解 二叉树的种类，存储方式，遍历方式 以及二叉树的定义 \n",
    "\n",
    "文章讲解：https://programmercarl.com/%E4%BA%8C%E5%8F%89%E6%A0%91%E7%90%86%E8%AE%BA%E5%9F%BA%E7%A1%80.html  \n"
   ],
   "id": "6fb1e0d6885a05a3"
  },
  {
   "metadata": {},
   "cell_type": "markdown",
   "source": [
    "## 递归遍历 （必须掌握）\n",
    "\n",
    "二叉树的三种递归遍历掌握其规律后，其实很简单 \n",
    "\n",
    "题目链接/文章讲解/视频讲解：https://programmercarl.com/%E4%BA%8C%E5%8F%89%E6%A0%91%E7%9A%84%E9%80%92%E5%BD%92%E9%81%8D%E5%8E%86.html  \n"
   ],
   "id": "4acaed99352d9f08"
  },
  {
   "metadata": {},
   "cell_type": "markdown",
   "source": [
    "### 递归三要素\n",
    "\n",
    "1. **确定递归函数的参数和返回值**： 确定哪些参数是递归的过程中需要处理的，那么就在递归函数里加上这个参数， 并且还要明确每次递归的返回值是什么进而确定递归函数的返回类型。  \n",
    "2. **确定终止条件**： 写完了递归算法, 运行的时候，经常会遇到栈溢出的错误，就是没写终止条件或者终止条件写的不对，操作系统也是用一个栈的结构来保存每一层递归的信息，如果递归没有终止，操作系统的内存栈必然就会溢出。  \n",
    "3. **确定单层递归的逻辑**： 确定每一层递归需要处理的信息。在这里也就会重复调用自己来实现递归的过程。"
   ],
   "id": "2b95e68cdcba1465"
  },
  {
   "metadata": {},
   "cell_type": "markdown",
   "source": [
    "```python\n",
    "res.append(root.val)\n",
    "helper(root.left)\n",
    "helper(root.right)\n",
    "```"
   ],
   "id": "1045290eed1a1363"
  },
  {
   "metadata": {},
   "cell_type": "markdown",
   "source": [
    "## 迭代遍历 （基础不好的录友，迭代法可以放过）\n",
    "\n",
    "题目链接/文章讲解/视频讲解：https://programmercarl.com/%E4%BA%8C%E5%8F%89%E6%A0%91%E7%9A%84%E8%BF%AD%E4%BB%A3%E9%81%8D%E5%8E%86.html  \n"
   ],
   "id": "df60171e8f9bcb54"
  },
  {
   "metadata": {},
   "cell_type": "markdown",
   "source": [
    "### 用栈实现遍历  \n",
    "**前序**： 先压右再压左，访问写在任何时候都一样。  \n",
    "**中序**： 中序遍历的访问顺序：从最左边的节点开始，一直到最右边的节点结束。实现：使用指针标记当前节点；先将当前节点的所有左子节点入栈，然后出栈一个节点，访问该节点，再处理该节点的右子节点。  \n",
    "**后序**： 反转前序遍历：先压左再压右，访问写在任何时候都一样，最后反转。  \n",
    "重点：中序的结构差异"
   ],
   "id": "e6879b928c93337b"
  },
  {
   "metadata": {},
   "cell_type": "code",
   "outputs": [],
   "execution_count": null,
   "source": [
    "# 前序遍历-迭代-LC144_二叉树的前序遍历\n",
    "class Solution:\n",
    "    def preorderTraversal(self, root: TreeNode) -> List[int]:\n",
    "        # 根结点为空则返回空列表\n",
    "        if not root:\n",
    "            return []\n",
    "        stack = [root]\n",
    "        result = []\n",
    "        while stack:\n",
    "            node = stack.pop()\n",
    "            # 中结点先处理\n",
    "            result.append(node.val)\n",
    "            # 右孩子先入栈\n",
    "            if node.right:\n",
    "                stack.append(node.right)\n",
    "            # 左孩子后入栈\n",
    "            if node.left:\n",
    "                stack.append(node.left)\n",
    "        return result\n"
   ],
   "id": "4c68f20481e9e5ec"
  },
  {
   "metadata": {},
   "cell_type": "code",
   "outputs": [],
   "execution_count": null,
   "source": [
    "# 中序遍历-迭代-LC94_二叉树的中序遍历\n",
    "class Solution:\n",
    "    def inorderTraversal(self, root: TreeNode) -> List[int]:\n",
    "        if not root:\n",
    "            return []\n",
    "        stack = []  # 不能提前将root结点加入stack中\n",
    "        result = []\n",
    "        cur = root\n",
    "        while cur or stack:\n",
    "            # 先迭代访问最底层的左子树结点\n",
    "            if cur:     \n",
    "                stack.append(cur)\n",
    "                cur = cur.left\t\t\n",
    "            # 到达最左结点后处理栈顶结点    \n",
    "            else:\t\t\n",
    "                cur = stack.pop()\n",
    "                result.append(cur.val)\n",
    "                # 取栈顶元素右结点\n",
    "                cur = cur.right\t\n",
    "        return result"
   ],
   "id": "2c6e1cf46c59813e"
  },
  {
   "metadata": {},
   "cell_type": "code",
   "outputs": [],
   "execution_count": null,
   "source": [
    "# 后序遍历-迭代-LC145_二叉树的后序遍历\n",
    "class Solution:\n",
    "   def postorderTraversal(self, root: TreeNode) -> List[int]:\n",
    "       if not root:\n",
    "           return []\n",
    "       stack = [root]\n",
    "       result = []\n",
    "       while stack:\n",
    "           node = stack.pop()\n",
    "           # 中结点先处理\n",
    "           result.append(node.val)\n",
    "           # 左孩子先入栈\n",
    "           if node.left:\n",
    "               stack.append(node.left)\n",
    "           # 右孩子后入栈\n",
    "           if node.right:\n",
    "               stack.append(node.right)\n",
    "       # 将最终的数组翻转\n",
    "       return result[::-1]"
   ],
   "id": "f1342de5cffc2e6a"
  },
  {
   "metadata": {},
   "cell_type": "markdown",
   "source": [
    "## 统一迭代   （基础不好的录友，迭代法可以放过）\n",
    "\n",
    "这是统一迭代法的写法， 如果学有余力，可以掌握一下\n",
    "\n",
    "题目链接/文章讲解：https://programmercarl.com/%E4%BA%8C%E5%8F%89%E6%A0%91%E7%9A%84%E7%BB%9F%E4%B8%80%E8%BF%AD%E4%BB%A3%E6%B3%95.html \n"
   ],
   "id": "9f00029753ae7513"
  },
  {
   "metadata": {},
   "cell_type": "markdown",
   "source": [
    "### 标记法\n",
    "中序遍历代码不一致的原因：使用栈的话，无法同时解决访问节点（遍历节点）和处理节点（将元素放进结果集）不一致的情况。  \n",
    "解决思路：将访问的节点放入栈中，把要处理的节点也放入栈中但是要做标记：处理的节点放入栈之后，紧接着放入一个空指针作为标记\n"
   ],
   "id": "a451db1366968a3"
  },
  {
   "metadata": {},
   "cell_type": "code",
   "outputs": [],
   "execution_count": null,
   "source": [
    "class Solution:\n",
    "    def inorderTraversal(self, root: TreeNode) -> List[int]:\n",
    "        result = []\n",
    "        st = []\n",
    "        if root:\n",
    "            st.append(root)\n",
    "        while st:\n",
    "            node = st.pop()\n",
    "            if node != None:\n",
    "                if node.right: #添加右节点（空节点不入栈）\n",
    "                    st.append(node.right)\n",
    "                \n",
    "                st.append(node) #添加中节点\n",
    "                st.append(None) #中节点访问过，但是还没有处理，加入空节点做为标记。\n",
    "                \n",
    "                if node.left: #添加左节点（空节点不入栈）\n",
    "                    st.append(node.left)\n",
    "            else: #只有遇到空节点的时候，才将下一个节点放进结果集\n",
    "                node = st.pop() #重新取出栈中元素\n",
    "                result.append(node.val) #加入到结果集\n",
    "        return result"
   ],
   "id": "84dc0c66466d7f24"
  },
  {
   "metadata": {},
   "cell_type": "markdown",
   "source": [
    "## 层序遍历 \n",
    "\n",
    "看完本篇可以一口气刷十道题，试一试， 层序遍历并不难，大家可以很快刷了十道题。\n",
    "\n",
    "题目链接/文章讲解/视频讲解：https://programmercarl.com/0102.%E4%BA%8C%E5%8F%89%E6%A0%91%E7%9A%84%E5%B1%82%E5%BA%8F%E9%81%8D%E5%8E%86.html\n",
    "  \n"
   ],
   "id": "fff0c3079e5b0c78"
  },
  {
   "metadata": {},
   "cell_type": "markdown",
   "source": [
    "## 102/107: 二叉树的层序遍历  \n",
    "题干要求：每层的节点放在一个列表里，最后返回一个二维列表  \n",
    "解题思路：  \n",
    "1. 迭代法：使用队列实现层序遍历，每次遍历一层（通过开始时的队列长度控制），直到队列为空。  \n",
    "2. 递归法：将层次作为参数传入递归函数，递归函数中将节点加入到对应层次的列表中。"
   ],
   "id": "5410633c8bd9b9b7"
  },
  {
   "cell_type": "code",
   "execution_count": null,
   "id": "initial_id",
   "metadata": {
    "collapsed": true
   },
   "outputs": [],
   "source": [
    "# 利用长度法\n",
    "# Definition for a binary tree node.\n",
    "# class TreeNode:\n",
    "#     def __init__(self, val=0, left=None, right=None):\n",
    "#         self.val = val\n",
    "#         self.left = left\n",
    "#         self.right = right\n",
    "class Solution:\n",
    "    def levelOrder(self, root: Optional[TreeNode]) -> List[List[int]]:\n",
    "        if not root:\n",
    "            return []\n",
    "        queue = collections.deque([root])\n",
    "        result = []\n",
    "        while queue:\n",
    "            level = []\n",
    "            for _ in range(len(queue)):\n",
    "                cur = queue.popleft()\n",
    "                level.append(cur.val)\n",
    "                if cur.left:\n",
    "                    queue.append(cur.left)\n",
    "                if cur.right:\n",
    "                    queue.append(cur.right)\n",
    "            result.append(level)\n",
    "        return result"
   ]
  },
  {
   "metadata": {},
   "cell_type": "markdown",
   "source": "其他题大同小异，可以在迭代法的基础上稍作修改。",
   "id": "dbf667baf34b0bb3"
  }
 ],
 "metadata": {
  "kernelspec": {
   "display_name": "Python 3",
   "language": "python",
   "name": "python3"
  },
  "language_info": {
   "codemirror_mode": {
    "name": "ipython",
    "version": 2
   },
   "file_extension": ".py",
   "mimetype": "text/x-python",
   "name": "python",
   "nbconvert_exporter": "python",
   "pygments_lexer": "ipython2",
   "version": "2.7.6"
  }
 },
 "nbformat": 4,
 "nbformat_minor": 5
}
