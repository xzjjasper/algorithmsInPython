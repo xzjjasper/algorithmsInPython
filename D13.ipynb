{
 "cells": [
  {
   "metadata": {},
   "cell_type": "markdown",
   "source": [
    "## 理论基础 \n",
    "\n",
    "需要了解 二叉树的种类，存储方式，遍历方式 以及二叉树的定义 \n",
    "\n",
    "文章讲解：https://programmercarl.com/%E4%BA%8C%E5%8F%89%E6%A0%91%E7%90%86%E8%AE%BA%E5%9F%BA%E7%A1%80.html  \n"
   ],
   "id": "6fb1e0d6885a05a3"
  },
  {
   "metadata": {},
   "cell_type": "markdown",
   "source": [
    "## 递归遍历 （必须掌握）\n",
    "\n",
    "二叉树的三种递归遍历掌握其规律后，其实很简单 \n",
    "\n",
    "题目链接/文章讲解/视频讲解：https://programmercarl.com/%E4%BA%8C%E5%8F%89%E6%A0%91%E7%9A%84%E9%80%92%E5%BD%92%E9%81%8D%E5%8E%86.html  \n"
   ],
   "id": "4acaed99352d9f08"
  },
  {
   "metadata": {},
   "cell_type": "markdown",
   "source": [
    "### 递归三要素\n",
    "\n",
    "1. **确定递归函数的参数和返回值**： 确定哪些参数是递归的过程中需要处理的，那么就在递归函数里加上这个参数， 并且还要明确每次递归的返回值是什么进而确定递归函数的返回类型。  \n",
    "2. **确定终止条件**： 写完了递归算法, 运行的时候，经常会遇到栈溢出的错误，就是没写终止条件或者终止条件写的不对，操作系统也是用一个栈的结构来保存每一层递归的信息，如果递归没有终止，操作系统的内存栈必然就会溢出。  \n",
    "3. **确定单层递归的逻辑**： 确定每一层递归需要处理的信息。在这里也就会重复调用自己来实现递归的过程。"
   ],
   "id": "2b95e68cdcba1465"
  },
  {
   "metadata": {},
   "cell_type": "markdown",
   "source": [
    "```python\n",
    "res.append(root.val)\n",
    "helper(root.left)\n",
    "helper(root.right)\n",
    "```"
   ],
   "id": "1045290eed1a1363"
  },
  {
   "metadata": {},
   "cell_type": "markdown",
   "source": [
    "## 迭代遍历 （基础不好的录友，迭代法可以放过）\n",
    "\n",
    "题目链接/文章讲解/视频讲解：https://programmercarl.com/%E4%BA%8C%E5%8F%89%E6%A0%91%E7%9A%84%E8%BF%AD%E4%BB%A3%E9%81%8D%E5%8E%86.html  \n"
   ],
   "id": "df60171e8f9bcb54"
  },
  {
   "metadata": {},
   "cell_type": "markdown",
   "source": [
    "### 用栈实现遍历  \n",
    "**前序**： 先压右再压左，访问写在任何时候都一样  \n",
    "**中序**： 中序遍历的访问顺序：从最左边的节点开始，一直到最右边的节点结束。实现：使用指针标记当前节点；先将当前节点的所有左子节点入栈，然后出栈一个节点，访问该节点，再处理该节点的右子节点。\n",
    "**后序**： 后序遍历的访问顺序：从最左边的leave node开始，以根节点结束。"
   ],
   "id": "e6879b928c93337b"
  },
  {
   "metadata": {},
   "cell_type": "code",
   "outputs": [],
   "execution_count": null,
   "source": "",
   "id": "f1342de5cffc2e6a"
  },
  {
   "metadata": {},
   "cell_type": "markdown",
   "source": [
    "## 统一迭代   （基础不好的录友，迭代法可以放过）\n",
    "\n",
    "这是统一迭代法的写法， 如果学有余力，可以掌握一下\n",
    "\n",
    "题目链接/文章讲解：https://programmercarl.com/%E4%BA%8C%E5%8F%89%E6%A0%91%E7%9A%84%E7%BB%9F%E4%B8%80%E8%BF%AD%E4%BB%A3%E6%B3%95.html \n"
   ],
   "id": "9f00029753ae7513"
  },
  {
   "metadata": {},
   "cell_type": "markdown",
   "source": [
    "## 层序遍历 \n",
    "\n",
    "看完本篇可以一口气刷十道题，试一试， 层序遍历并不难，大家可以很快刷了十道题。\n",
    "\n",
    "题目链接/文章讲解/视频讲解：https://programmercarl.com/0102.%E4%BA%8C%E5%8F%89%E6%A0%91%E7%9A%84%E5%B1%82%E5%BA%8F%E9%81%8D%E5%8E%86.html\n",
    "  \n"
   ],
   "id": "fff0c3079e5b0c78"
  },
  {
   "cell_type": "code",
   "execution_count": null,
   "id": "initial_id",
   "metadata": {
    "collapsed": true
   },
   "outputs": [],
   "source": [
    ""
   ]
  }
 ],
 "metadata": {
  "kernelspec": {
   "display_name": "Python 3",
   "language": "python",
   "name": "python3"
  },
  "language_info": {
   "codemirror_mode": {
    "name": "ipython",
    "version": 2
   },
   "file_extension": ".py",
   "mimetype": "text/x-python",
   "name": "python",
   "nbconvert_exporter": "python",
   "pygments_lexer": "ipython2",
   "version": "2.7.6"
  }
 },
 "nbformat": 4,
 "nbformat_minor": 5
}
