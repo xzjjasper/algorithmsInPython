{
 "cells": [
  {
   "metadata": {},
   "cell_type": "markdown",
   "source": [
    "## 理论基础 \n",
    "\n",
    "需要了解 二叉树的种类，存储方式，遍历方式 以及二叉树的定义 \n",
    "\n",
    "文章讲解：https://programmercarl.com/%E4%BA%8C%E5%8F%89%E6%A0%91%E7%90%86%E8%AE%BA%E5%9F%BA%E7%A1%80.html  \n"
   ],
   "id": "6fb1e0d6885a05a3"
  },
  {
   "metadata": {},
   "cell_type": "markdown",
   "source": [
    "## 递归遍历 （必须掌握）\n",
    "\n",
    "二叉树的三种递归遍历掌握其规律后，其实很简单 \n",
    "\n",
    "题目链接/文章讲解/视频讲解：https://programmercarl.com/%E4%BA%8C%E5%8F%89%E6%A0%91%E7%9A%84%E9%80%92%E5%BD%92%E9%81%8D%E5%8E%86.html  \n"
   ],
   "id": "4acaed99352d9f08"
  },
  {
   "metadata": {},
   "cell_type": "markdown",
   "source": [
    "## 迭代遍历 （基础不好的录友，迭代法可以放过）\n",
    "\n",
    "题目链接/文章讲解/视频讲解：https://programmercarl.com/%E4%BA%8C%E5%8F%89%E6%A0%91%E7%9A%84%E8%BF%AD%E4%BB%A3%E9%81%8D%E5%8E%86.html  \n"
   ],
   "id": "df60171e8f9bcb54"
  },
  {
   "metadata": {},
   "cell_type": "markdown",
   "source": [
    "## 统一迭代   （基础不好的录友，迭代法可以放过）\n",
    "\n",
    "这是统一迭代法的写法， 如果学有余力，可以掌握一下\n",
    "\n",
    "题目链接/文章讲解：https://programmercarl.com/%E4%BA%8C%E5%8F%89%E6%A0%91%E7%9A%84%E7%BB%9F%E4%B8%80%E8%BF%AD%E4%BB%A3%E6%B3%95.html \n"
   ],
   "id": "9f00029753ae7513"
  },
  {
   "metadata": {},
   "cell_type": "markdown",
   "source": [
    "## 层序遍历 \n",
    "\n",
    "看完本篇可以一口气刷十道题，试一试， 层序遍历并不难，大家可以很快刷了十道题。\n",
    "\n",
    "题目链接/文章讲解/视频讲解：https://programmercarl.com/0102.%E4%BA%8C%E5%8F%89%E6%A0%91%E7%9A%84%E5%B1%82%E5%BA%8F%E9%81%8D%E5%8E%86.html\n",
    "  \n"
   ],
   "id": "fff0c3079e5b0c78"
  },
  {
   "cell_type": "code",
   "execution_count": null,
   "id": "initial_id",
   "metadata": {
    "collapsed": true
   },
   "outputs": [],
   "source": [
    ""
   ]
  }
 ],
 "metadata": {
  "kernelspec": {
   "display_name": "Python 3",
   "language": "python",
   "name": "python3"
  },
  "language_info": {
   "codemirror_mode": {
    "name": "ipython",
    "version": 2
   },
   "file_extension": ".py",
   "mimetype": "text/x-python",
   "name": "python",
   "nbconvert_exporter": "python",
   "pygments_lexer": "ipython2",
   "version": "2.7.6"
  }
 },
 "nbformat": 4,
 "nbformat_minor": 5
}
