{
 "cells": [
  {
   "metadata": {},
   "cell_type": "markdown",
   "source": [
    "## 122.买卖股票的最佳时机II  \n",
    "\n",
    "本题解法很巧妙，本题大家可以先自己思考一下然后再看题解，会有惊喜！ \n",
    "\n",
    "https://programmercarl.com/0122.%E4%B9%B0%E5%8D%96%E8%82%A1%E7%A5%A8%E7%9A%84%E6%9C%80%E4%BD%B3%E6%97%B6%E6%9C%BAII.html  \n"
   ],
   "id": "b923181a9077dc03"
  },
  {
   "metadata": {},
   "cell_type": "markdown",
   "source": "局部最优：收集每天的正利润，全局最优：求得最大利润。",
   "id": "b55e81cc9f5c39f8"
  },
  {
   "metadata": {},
   "cell_type": "code",
   "outputs": [],
   "execution_count": null,
   "source": [
    "class Solution:\n",
    "    def maxProfit(self, prices: List[int]) -> int:\n",
    "        result = 0\n",
    "        for i in range(1, len(prices)):\n",
    "            result += max(prices[i] - prices[i - 1], 0)\n",
    "        return result"
   ],
   "id": "e29f8a48101e0553"
  },
  {
   "metadata": {},
   "cell_type": "markdown",
   "source": [
    "另一种方案：  \n",
    "和 376.摆动序列 思路一致，每个极大点卖出（正数），每个极小点买入（负数）  \n",
    "注意：如果最后一个元素处在上升趋势，那么最后一个元素也是极大点，需要卖出（方法：在最后加一个负无穷）"
   ],
   "id": "90142258c946dffb"
  },
  {
   "metadata": {},
   "cell_type": "code",
   "outputs": [],
   "execution_count": null,
   "source": [
    "class Solution:\n",
    "    def maxProfit(self, prices: List[int]) -> int:\n",
    "        profit = 0\n",
    "        prevdiff = currdiff = 0\n",
    "        prices.append(float('-inf'))\n",
    "        for i in range(len(prices) - 1):\n",
    "            currdiff = prices[i+1] - prices[i]\n",
    "            if currdiff > 0 and prevdiff <= 0:\n",
    "                profit -= prices[i]\n",
    "                prevdiff = currdiff\n",
    "            if currdiff < 0 and prevdiff > 0:\n",
    "                profit += prices[i]\n",
    "                prevdiff = currdiff\n",
    "        return profit\n"
   ],
   "id": "9e1f91842d9cb074"
  },
  {
   "metadata": {},
   "cell_type": "markdown",
   "source": [
    "## 55. 跳跃游戏 \n",
    "\n",
    "本题如果没接触过，很难想到，所以不要自己憋时间太久，读题思考一会，没思路立刻看题解 \n",
    "\n",
    "https://programmercarl.com/0055.%E8%B7%B3%E8%B7%83%E6%B8%B8%E6%88%8F.html  \n"
   ],
   "id": "77f345f88dc5dc12"
  },
  {
   "metadata": {},
   "cell_type": "markdown",
   "source": [
    "贪心算法局部最优解：每次取最大跳跃步数（取最大覆盖范围）  \n",
    "整体最优解：最后得到整体最大覆盖范围，看是否能到终点。"
   ],
   "id": "8c0d369ef0b2812d"
  },
  {
   "metadata": {},
   "cell_type": "code",
   "outputs": [],
   "execution_count": null,
   "source": [
    "class Solution:\n",
    "    def canJump(self, nums: List[int]) -> bool:\n",
    "        cover = 0\n",
    "        if len(nums) == 1: return True\n",
    "        i = 0\n",
    "        # python不支持动态修改for循环中变量,使用while循环代替\n",
    "        while i <= cover:\n",
    "            cover = max(i + nums[i], cover)\n",
    "            if cover >= len(nums) - 1: return True\n",
    "            i += 1\n",
    "        return False"
   ],
   "id": "de5f002a0184d469"
  },
  {
   "metadata": {},
   "cell_type": "markdown",
   "source": [
    "### 从结果往前推\n",
    "从后往前检查是否有办法到达目标位置，如果可以则更新目标位置为当前位置。最后判断当前位置是否为0即可。"
   ],
   "id": "ce3822054decf9ed"
  },
  {
   "metadata": {
    "ExecuteTime": {
     "end_time": "2024-07-30T06:54:04.486682Z",
     "start_time": "2024-07-30T06:54:04.480992Z"
    }
   },
   "cell_type": "code",
   "source": [
    "from typing import List\n",
    "\n",
    "\n",
    "class Solution:\n",
    "    def canJump(self, nums: List[int]) -> bool:\n",
    "        if len(nums) == 1:\n",
    "            return True\n",
    "        target = len(nums) - 1\n",
    "        for i in range(len(nums) - 2, -1, -1):\n",
    "            if nums[i] >= target - i:\n",
    "                target = i\n",
    "        return target <= 0"
   ],
   "id": "ab254c9a87845c2d",
   "outputs": [],
   "execution_count": 10
  },
  {
   "metadata": {},
   "cell_type": "markdown",
   "source": [
    "## 45.跳跃游戏II \n",
    "\n",
    "本题同样不容易想出来。贪心就是这样，有的时候 会感觉简单到离谱，有时候，难的不行，主要是不容易想到。\n",
    "\n",
    "https://programmercarl.com/0045.%E8%B7%B3%E8%B7%83%E6%B8%B8%E6%88%8FII.html    \n"
   ],
   "id": "ebbab005ed06def"
  },
  {
   "metadata": {},
   "cell_type": "markdown",
   "source": [
    "## 1005.K次取反后最大化的数组和  \n",
    "本题简单一些，估计大家不用想着贪心 ，用自己直觉也会有思路。 \n",
    "https://programmercarl.com/1005.K%E6%AC%A1%E5%8F%96%E5%8F%8D%E5%90%8E%E6%9C%80%E5%A4%A7%E5%8C%96%E7%9A%84%E6%95%B0%E7%BB%84%E5%92%8C.html  \n",
    "\n"
   ],
   "id": "6d3940c70b239b56"
  },
  {
   "cell_type": "code",
   "execution_count": null,
   "id": "initial_id",
   "metadata": {
    "collapsed": true
   },
   "outputs": [],
   "source": [
    ""
   ]
  }
 ],
 "metadata": {
  "kernelspec": {
   "display_name": "Python 3",
   "language": "python",
   "name": "python3"
  },
  "language_info": {
   "codemirror_mode": {
    "name": "ipython",
    "version": 2
   },
   "file_extension": ".py",
   "mimetype": "text/x-python",
   "name": "python",
   "nbconvert_exporter": "python",
   "pygments_lexer": "ipython2",
   "version": "2.7.6"
  }
 },
 "nbformat": 4,
 "nbformat_minor": 5
}
